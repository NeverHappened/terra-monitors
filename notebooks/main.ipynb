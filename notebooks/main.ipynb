{
 "cells": [
  {
   "cell_type": "code",
   "execution_count": 18,
   "source": [
    "import requests\n",
    "import datetime\n",
    "import json\n",
    "\n",
    "LCD_ENDPOINT_MAIN = \"https://fcd.terra.dev/v1/txs/\"\n",
    "CONTRACT = \"terra1kc87mu460fwkqte29rquh4hc20m54fxwtsx7gp\"\n",
    "def fetch_txs(LCD_ENDPOIN,CONTRACT,offset=None):\n",
    "    txs = []\n",
    "    params = {\n",
    "        \"account\": CONTRACT,\n",
    "        \"limit\": 100\n",
    "    }\n",
    "    if offset is not None:\n",
    "        params['offset']=offset\n",
    "    i = 0\n",
    "    until_day = datetime.date(2021, 5, 15)\n",
    "    day = datetime.date.today()\n",
    "    while day >= until_day:\n",
    "    # while i<1:\n",
    "        resp = requests.get(LCD_ENDPOIN, params=params)\n",
    "        # txs = txs + resp.json()['txs']\n",
    "        n = resp.json()['next']\n",
    "        params['offset'] = n\n",
    "        i += 1\n",
    "        day = datetime.datetime.strptime(\n",
    "            resp.json()['txs'][0][\"timestamp\"], \"%Y-%m-%dT%H:%M:%SZ\").date()\n",
    "        print(resp.json()['txs'][0][\"timestamp\"])\n",
    "        insert_txs(resp.json()['txs'])\n",
    "\n",
    "    valuable_txs = []\n",
    "    # for tx in txs:\n",
    "    #     tx.pop('logs', None)\n",
    "    #     tx.pop('raw_log', None)\n",
    "        # if get_uluna(tx,CONTRACT) >0:\n",
    "        #     valuable_txs.append(tx)\n",
    "    # return txs\n",
    "    return []\n",
    "connection = psycopg2.connect(user=\"fraud\",\n",
    "        password=\"12345\",\n",
    "        host=\"127.0.0.1\",\n",
    "        port=\"6432\")\n",
    "cursor = connection.cursor()\n",
    "cursor.execute(\"select min(fcdtxid) from transactions\")\n",
    "m = cursor.fetchone()\n",
    "print(m)\n",
    "cursor.close()\n",
    "connection.close()\n",
    "txs = fetch_txs(LCD_ENDPOINT_MAIN,CONTRACT,m[0])\n",
    "# fd = open(\"txs-dump-bluna.json\", \"w\")\n",
    "# fd.write(json.dumps(txs))\n",
    "# fd.close()"
   ],
   "outputs": [
    {
     "output_type": "stream",
     "name": "stdout",
     "text": [
      "(129658865,)\n"
     ]
    }
   ],
   "metadata": {}
  },
  {
   "cell_type": "code",
   "execution_count": 15,
   "source": [
    "import psycopg2\n",
    "\n",
    "def insert_txs(txs):\n",
    "    connection = psycopg2.connect(user=\"fraud\",\n",
    "        password=\"12345\",\n",
    "        host=\"127.0.0.1\",\n",
    "        port=\"6432\")\n",
    "    with connection:\n",
    "        with connection.cursor() as cur:\n",
    "            for tx in txs:\n",
    "                cur.execute(\"insert into transactions(txhash,txdate,fcdtxid,txdata) values(%s,%s,%s,%s)\",\n",
    "                     (tx['txhash'],tx['timestamp'],tx['id'],json.dumps(tx)))"
   ],
   "outputs": [],
   "metadata": {}
  },
  {
   "cell_type": "code",
   "execution_count": 14,
   "source": [
    "insert_txs(txs)"
   ],
   "outputs": [
    {
     "output_type": "error",
     "ename": "UniqueViolation",
     "evalue": "duplicate key value violates unique constraint \"transactions_txhash_key\"\nDETAIL:  Key (txhash)=(5C2B842EBCEF4099EFA4CAD85A128A22886401D14E1C273A752CE1EA27FBA5F4) already exists.\n",
     "traceback": [
      "\u001b[0;31m---------------------------------------------------------------------------\u001b[0m",
      "\u001b[0;31mUniqueViolation\u001b[0m                           Traceback (most recent call last)",
      "\u001b[0;32m/tmp/ipykernel_1558/2926719073.py\u001b[0m in \u001b[0;36m<module>\u001b[0;34m\u001b[0m\n\u001b[0;32m----> 1\u001b[0;31m \u001b[0minsert_txs\u001b[0m\u001b[0;34m(\u001b[0m\u001b[0mtxs\u001b[0m\u001b[0;34m)\u001b[0m\u001b[0;34m\u001b[0m\u001b[0;34m\u001b[0m\u001b[0m\n\u001b[0m",
      "\u001b[0;32m/tmp/ipykernel_1558/1234055682.py\u001b[0m in \u001b[0;36minsert_txs\u001b[0;34m(txs)\u001b[0m\n\u001b[1;32m      9\u001b[0m         \u001b[0;32mwith\u001b[0m \u001b[0mconnection\u001b[0m\u001b[0;34m.\u001b[0m\u001b[0mcursor\u001b[0m\u001b[0;34m(\u001b[0m\u001b[0;34m)\u001b[0m \u001b[0;32mas\u001b[0m \u001b[0mcur\u001b[0m\u001b[0;34m:\u001b[0m\u001b[0;34m\u001b[0m\u001b[0;34m\u001b[0m\u001b[0m\n\u001b[1;32m     10\u001b[0m             \u001b[0;32mfor\u001b[0m \u001b[0mtx\u001b[0m \u001b[0;32min\u001b[0m \u001b[0mtxs\u001b[0m\u001b[0;34m:\u001b[0m\u001b[0;34m\u001b[0m\u001b[0;34m\u001b[0m\u001b[0m\n\u001b[0;32m---> 11\u001b[0;31m                 cur.execute(\"insert into transactions(txhash,txdate,fcdtxid,txdata) values(%s,%s,%s,%s)\",\n\u001b[0m\u001b[1;32m     12\u001b[0m                      (tx['txhash'],tx['timestamp'],tx['id'],json.dumps(tx)))\n",
      "\u001b[0;31mUniqueViolation\u001b[0m: duplicate key value violates unique constraint \"transactions_txhash_key\"\nDETAIL:  Key (txhash)=(5C2B842EBCEF4099EFA4CAD85A128A22886401D14E1C273A752CE1EA27FBA5F4) already exists.\n"
     ]
    }
   ],
   "metadata": {}
  },
  {
   "cell_type": "code",
   "execution_count": 11,
   "source": [
    "import copy\n",
    "import json\n",
    "import psycopg2\n",
    "CONTRACT = \"terra1kc87mu460fwkqte29rquh4hc20m54fxwtsx7gp\"\n",
    "fd = open(\"txs-dump-bluna-full-messages.json\")\n",
    "txs = json.loads(fd.read())\n",
    "\n",
    "# create table messages (\n",
    "#     id bigserial,\n",
    "#     txhash varchar(64) not null, \n",
    "#     date timestamp with time zone not null,\n",
    "#     message_type varchar(50),\n",
    "#     sender varchar(100),\n",
    "#     recepient varchar(100),\n",
    "#     body jsonb\n",
    "# );\n",
    "def save_msgs(msgs):\n",
    "    connection = psycopg2.connect(user=\"fraud\",\n",
    "        password=\"12345\",\n",
    "        host=\"127.0.0.1\",\n",
    "        port=\"6432\")\n",
    "    with connection:\n",
    "        with connection.cursor() as cur:\n",
    "            for msg in msgs:\n",
    "                cur.execute(\"insert into messages(txhash,date,message_type,sender,recepient,body) values(%s,%s,%s,%s,%s,%s)\",\n",
    "                     (msg['hash'],msg['date'],'send',msg['from'],msg['to'],json.dumps(msg)))\n",
    "\n",
    "def parse_day(date):\n",
    "    return datetime.datetime.strptime(date, \"%Y-%m-%dT%H:%M:%SZ\").date()\n",
    "\n",
    "# message\n",
    "# sender\n",
    "# amount\n",
    "# date\n",
    "\n",
    "def get_txs_from_db():\n",
    "    txs = []\n",
    "    connection = psycopg2.connect(user=\"fraud\",\n",
    "        password=\"12345\",\n",
    "        host=\"127.0.0.1\",\n",
    "        port=\"6432\")\n",
    "    cursor = connection.cursor(\"lalala\")\n",
    "    cursor.itersize=1000\n",
    "    cursor.execute(\"select txdata from transactions\")\n",
    "    rows = cursor.fetchmany(1000)\n",
    "    # for row in cursor.fetchall():\n",
    "    c = 1\n",
    "    while len(rows)>0:\n",
    "        print('processing ',c)\n",
    "        c = c + 1\n",
    "        for row in rows:\n",
    "            yield row[0]\n",
    "        rows = cursor.fetchmany(1000)\n",
    "\n",
    "        # print(row)\n",
    "        # for row in rows:\n",
    "        #     try:\n",
    "        #         yield row\n",
    "        #     except:\n",
    "        #         print(row[0])\n",
    "        # txs.append(row[0])\n",
    "    cursor.close()\n",
    "    connection.close()\n",
    "    # return txs\n",
    "\n",
    "\n",
    "def get_send_message_from_logs(tx):\n",
    "    send_msg = {\n",
    "        'date':tx[\"timestamp\"],\n",
    "        'hash':tx['txhash'],\n",
    "    }\n",
    "    msgs = []\n",
    "    type_detect_field = \"action\"\n",
    "    if not 'logs' in tx:\n",
    "        return []\n",
    "    for log in tx['logs']:\n",
    "        for e in log['events']:\n",
    "            if e['type'] != \"from_contract\":\n",
    "                continue\n",
    "            match_contract = False\n",
    "            match_message_type = False\n",
    "            for a in e['attributes']:\n",
    "                if a['key'] == \"contract_address\":\n",
    "                    if match_contract and match_message_type:\n",
    "                        msgs.append(copy.deepcopy(send_msg))\n",
    "                    send_msg = {\n",
    "                                    'date':tx[\"timestamp\"],\n",
    "                                    'hash':tx['txhash'],\n",
    "                                }\n",
    "                    match_contract = False\n",
    "                    match_message_type = False\n",
    "                    if a['value'] == CONTRACT:\n",
    "                        match_contract = True\n",
    "                    continue\n",
    "                if match_contract and a['key'] == type_detect_field and a['value'] == 'send':\n",
    "                    match_message_type = True\n",
    "                    continue\n",
    "                if match_contract and match_message_type:\n",
    "                    send_msg[a['key']] = a['value']\n",
    "            if match_contract and match_message_type:\n",
    "                msgs.append(copy.deepcopy(send_msg))\n",
    "    return msgs\n",
    "\n",
    "messages = []\n",
    "for tx in get_txs_from_db():\n",
    "    msgs = get_send_message_from_logs(tx)\n",
    "    messages = messages + msgs\n",
    "    # if len(msgs) > 0:\n",
    "    #     print(msgs)\n",
    "save_msgs(messages)\n",
    "print(len(messages))\n"
   ],
   "outputs": [
    {
     "output_type": "stream",
     "name": "stdout",
     "text": [
      "processing  1\n",
      "processing  2\n",
      "processing  3\n",
      "processing  4\n",
      "processing  5\n",
      "processing  6\n",
      "processing  7\n",
      "processing  8\n",
      "processing  9\n",
      "processing  10\n",
      "processing  11\n",
      "processing  12\n",
      "processing  13\n",
      "processing  14\n",
      "processing  15\n",
      "processing  16\n",
      "processing  17\n",
      "processing  18\n",
      "processing  19\n",
      "processing  20\n",
      "processing  21\n",
      "processing  22\n",
      "processing  23\n",
      "processing  24\n",
      "processing  25\n",
      "processing  26\n",
      "processing  27\n",
      "processing  28\n",
      "processing  29\n",
      "processing  30\n",
      "processing  31\n",
      "processing  32\n",
      "processing  33\n",
      "processing  34\n",
      "processing  35\n",
      "processing  36\n",
      "processing  37\n",
      "processing  38\n",
      "processing  39\n",
      "processing  40\n",
      "processing  41\n",
      "processing  42\n",
      "processing  43\n",
      "processing  44\n",
      "processing  45\n",
      "processing  46\n",
      "processing  47\n",
      "processing  48\n",
      "processing  49\n",
      "processing  50\n",
      "processing  51\n",
      "processing  52\n",
      "processing  53\n",
      "processing  54\n",
      "processing  55\n",
      "processing  56\n",
      "processing  57\n",
      "processing  58\n",
      "processing  59\n",
      "processing  60\n",
      "processing  61\n",
      "processing  62\n",
      "processing  63\n",
      "processing  64\n",
      "processing  65\n",
      "processing  66\n",
      "processing  67\n",
      "processing  68\n",
      "processing  69\n",
      "processing  70\n",
      "processing  71\n",
      "processing  72\n",
      "processing  73\n",
      "processing  74\n",
      "processing  75\n",
      "processing  76\n",
      "processing  77\n",
      "processing  78\n",
      "processing  79\n",
      "processing  80\n",
      "processing  81\n",
      "processing  82\n",
      "processing  83\n",
      "processing  84\n",
      "processing  85\n",
      "processing  86\n",
      "processing  87\n",
      "processing  88\n",
      "processing  89\n",
      "processing  90\n",
      "processing  91\n",
      "processing  92\n",
      "processing  93\n",
      "processing  94\n",
      "processing  95\n",
      "processing  96\n",
      "processing  97\n",
      "processing  98\n",
      "processing  99\n",
      "processing  100\n",
      "processing  101\n",
      "processing  102\n",
      "processing  103\n",
      "processing  104\n",
      "processing  105\n",
      "processing  106\n",
      "processing  107\n",
      "processing  108\n",
      "processing  109\n",
      "processing  110\n",
      "processing  111\n",
      "processing  112\n",
      "processing  113\n",
      "processing  114\n",
      "processing  115\n",
      "processing  116\n",
      "processing  117\n",
      "processing  118\n",
      "processing  119\n",
      "processing  120\n",
      "processing  121\n",
      "processing  122\n",
      "processing  123\n",
      "processing  124\n",
      "processing  125\n",
      "processing  126\n",
      "processing  127\n",
      "processing  128\n",
      "processing  129\n",
      "processing  130\n",
      "processing  131\n",
      "processing  132\n",
      "processing  133\n",
      "processing  134\n",
      "processing  135\n",
      "processing  136\n",
      "processing  137\n",
      "processing  138\n",
      "processing  139\n",
      "processing  140\n",
      "processing  141\n",
      "processing  142\n",
      "processing  143\n",
      "processing  144\n",
      "processing  145\n",
      "processing  146\n",
      "processing  147\n",
      "processing  148\n",
      "processing  149\n",
      "processing  150\n",
      "processing  151\n",
      "processing  152\n",
      "processing  153\n",
      "processing  154\n",
      "processing  155\n",
      "processing  156\n",
      "processing  157\n",
      "processing  158\n",
      "processing  159\n",
      "processing  160\n",
      "processing  161\n",
      "processing  162\n",
      "processing  163\n",
      "processing  164\n",
      "processing  165\n",
      "processing  166\n",
      "processing  167\n",
      "processing  168\n",
      "processing  169\n",
      "processing  170\n",
      "processing  171\n",
      "processing  172\n",
      "processing  173\n",
      "processing  174\n",
      "processing  175\n",
      "processing  176\n",
      "processing  177\n",
      "processing  178\n",
      "processing  179\n",
      "processing  180\n",
      "processing  181\n",
      "processing  182\n",
      "processing  183\n",
      "processing  184\n",
      "processing  185\n",
      "processing  186\n",
      "processing  187\n",
      "processing  188\n",
      "processing  189\n",
      "processing  190\n",
      "processing  191\n",
      "processing  192\n",
      "processing  193\n",
      "processing  194\n",
      "processing  195\n",
      "processing  196\n",
      "processing  197\n",
      "processing  198\n",
      "processing  199\n",
      "processing  200\n",
      "processing  201\n",
      "processing  202\n",
      "processing  203\n",
      "processing  204\n",
      "processing  205\n",
      "processing  206\n",
      "processing  207\n",
      "processing  208\n",
      "processing  209\n",
      "processing  210\n",
      "processing  211\n",
      "processing  212\n",
      "processing  213\n",
      "processing  214\n",
      "processing  215\n",
      "processing  216\n",
      "processing  217\n",
      "processing  218\n",
      "processing  219\n",
      "processing  220\n",
      "processing  221\n",
      "processing  222\n",
      "processing  223\n",
      "processing  224\n",
      "processing  225\n",
      "processing  226\n",
      "processing  227\n",
      "processing  228\n",
      "processing  229\n",
      "processing  230\n",
      "processing  231\n",
      "processing  232\n",
      "processing  233\n",
      "processing  234\n",
      "processing  235\n",
      "processing  236\n",
      "processing  237\n",
      "processing  238\n",
      "processing  239\n",
      "processing  240\n",
      "processing  241\n",
      "processing  242\n",
      "processing  243\n",
      "processing  244\n",
      "processing  245\n",
      "processing  246\n",
      "processing  247\n",
      "processing  248\n",
      "processing  249\n",
      "processing  250\n",
      "processing  251\n",
      "processing  252\n",
      "processing  253\n",
      "processing  254\n",
      "processing  255\n",
      "processing  256\n",
      "processing  257\n",
      "processing  258\n",
      "processing  259\n",
      "processing  260\n",
      "processing  261\n",
      "processing  262\n",
      "processing  263\n",
      "processing  264\n",
      "processing  265\n",
      "processing  266\n",
      "processing  267\n",
      "processing  268\n",
      "processing  269\n",
      "processing  270\n",
      "processing  271\n",
      "processing  272\n",
      "processing  273\n",
      "processing  274\n",
      "processing  275\n",
      "processing  276\n",
      "processing  277\n",
      "processing  278\n",
      "processing  279\n",
      "processing  280\n",
      "processing  281\n",
      "processing  282\n",
      "processing  283\n",
      "processing  284\n",
      "processing  285\n",
      "processing  286\n",
      "processing  287\n",
      "processing  288\n",
      "processing  289\n",
      "processing  290\n",
      "processing  291\n",
      "processing  292\n",
      "processing  293\n",
      "processing  294\n",
      "processing  295\n",
      "processing  296\n",
      "processing  297\n",
      "processing  298\n",
      "processing  299\n",
      "processing  300\n",
      "processing  301\n",
      "processing  302\n",
      "processing  303\n",
      "processing  304\n",
      "processing  305\n",
      "processing  306\n",
      "processing  307\n",
      "processing  308\n",
      "processing  309\n",
      "processing  310\n",
      "processing  311\n",
      "processing  312\n",
      "processing  313\n",
      "processing  314\n",
      "processing  315\n",
      "processing  316\n",
      "processing  317\n",
      "processing  318\n",
      "processing  319\n",
      "processing  320\n",
      "processing  321\n",
      "processing  322\n",
      "processing  323\n",
      "processing  324\n",
      "processing  325\n",
      "processing  326\n",
      "processing  327\n",
      "processing  328\n",
      "processing  329\n",
      "processing  330\n",
      "processing  331\n",
      "processing  332\n",
      "processing  333\n",
      "processing  334\n",
      "processing  335\n",
      "processing  336\n",
      "processing  337\n",
      "processing  338\n",
      "processing  339\n",
      "processing  340\n",
      "processing  341\n",
      "processing  342\n",
      "processing  343\n",
      "processing  344\n",
      "processing  345\n",
      "processing  346\n",
      "processing  347\n",
      "processing  348\n",
      "processing  349\n",
      "processing  350\n",
      "processing  351\n",
      "processing  352\n",
      "processing  353\n",
      "processing  354\n",
      "processing  355\n",
      "processing  356\n",
      "processing  357\n",
      "processing  358\n",
      "processing  359\n",
      "processing  360\n",
      "processing  361\n",
      "processing  362\n",
      "processing  363\n",
      "processing  364\n",
      "processing  365\n",
      "processing  366\n",
      "processing  367\n",
      "processing  368\n",
      "processing  369\n",
      "processing  370\n",
      "processing  371\n",
      "processing  372\n",
      "processing  373\n",
      "processing  374\n",
      "processing  375\n",
      "processing  376\n",
      "processing  377\n",
      "processing  378\n",
      "processing  379\n",
      "processing  380\n",
      "processing  381\n",
      "processing  382\n",
      "processing  383\n",
      "processing  384\n",
      "processing  385\n",
      "processing  386\n",
      "processing  387\n",
      "processing  388\n",
      "processing  389\n",
      "processing  390\n",
      "processing  391\n",
      "processing  392\n",
      "processing  393\n",
      "processing  394\n",
      "processing  395\n",
      "processing  396\n",
      "processing  397\n",
      "processing  398\n",
      "processing  399\n",
      "processing  400\n",
      "processing  401\n",
      "processing  402\n",
      "processing  403\n",
      "processing  404\n",
      "processing  405\n",
      "processing  406\n",
      "processing  407\n",
      "processing  408\n",
      "processing  409\n",
      "processing  410\n",
      "processing  411\n",
      "processing  412\n",
      "processing  413\n",
      "processing  414\n",
      "processing  415\n",
      "processing  416\n",
      "processing  417\n",
      "processing  418\n",
      "processing  419\n",
      "processing  420\n",
      "processing  421\n",
      "processing  422\n",
      "processing  423\n",
      "processing  424\n",
      "processing  425\n",
      "processing  426\n",
      "processing  427\n",
      "processing  428\n",
      "processing  429\n",
      "processing  430\n",
      "processing  431\n",
      "processing  432\n",
      "processing  433\n",
      "processing  434\n",
      "processing  435\n",
      "processing  436\n",
      "processing  437\n",
      "processing  438\n",
      "processing  439\n",
      "processing  440\n",
      "processing  441\n",
      "processing  442\n",
      "processing  443\n",
      "processing  444\n",
      "processing  445\n",
      "processing  446\n",
      "processing  447\n",
      "processing  448\n",
      "processing  449\n",
      "processing  450\n",
      "processing  451\n",
      "processing  452\n",
      "processing  453\n",
      "processing  454\n",
      "processing  455\n",
      "processing  456\n",
      "processing  457\n",
      "processing  458\n",
      "processing  459\n",
      "processing  460\n",
      "processing  461\n",
      "processing  462\n",
      "processing  463\n",
      "processing  464\n",
      "processing  465\n",
      "processing  466\n",
      "processing  467\n",
      "processing  468\n",
      "processing  469\n",
      "processing  470\n",
      "processing  471\n",
      "processing  472\n",
      "processing  473\n",
      "processing  474\n",
      "processing  475\n",
      "processing  476\n",
      "processing  477\n",
      "processing  478\n",
      "processing  479\n",
      "processing  480\n",
      "processing  481\n",
      "processing  482\n",
      "processing  483\n",
      "processing  484\n",
      "processing  485\n",
      "processing  486\n",
      "processing  487\n",
      "processing  488\n",
      "processing  489\n",
      "processing  490\n",
      "processing  491\n",
      "processing  492\n",
      "processing  493\n",
      "processing  494\n",
      "processing  495\n",
      "processing  496\n",
      "processing  497\n",
      "processing  498\n",
      "processing  499\n",
      "processing  500\n",
      "processing  501\n",
      "processing  502\n",
      "processing  503\n",
      "processing  504\n",
      "processing  505\n",
      "processing  506\n",
      "processing  507\n",
      "processing  508\n",
      "processing  509\n",
      "processing  510\n",
      "processing  511\n",
      "processing  512\n",
      "processing  513\n",
      "processing  514\n",
      "processing  515\n",
      "processing  516\n",
      "processing  517\n",
      "processing  518\n",
      "processing  519\n",
      "processing  520\n",
      "processing  521\n",
      "processing  522\n",
      "processing  523\n",
      "processing  524\n",
      "processing  525\n",
      "processing  526\n",
      "processing  527\n",
      "processing  528\n",
      "processing  529\n",
      "processing  530\n",
      "processing  531\n",
      "processing  532\n",
      "processing  533\n",
      "processing  534\n",
      "processing  535\n",
      "processing  536\n",
      "processing  537\n",
      "processing  538\n",
      "processing  539\n",
      "processing  540\n",
      "processing  541\n",
      "processing  542\n",
      "processing  543\n",
      "processing  544\n",
      "processing  545\n",
      "processing  546\n",
      "processing  547\n",
      "processing  548\n",
      "processing  549\n",
      "processing  550\n",
      "processing  551\n",
      "processing  552\n",
      "processing  553\n",
      "processing  554\n",
      "processing  555\n",
      "processing  556\n",
      "processing  557\n",
      "processing  558\n",
      "processing  559\n",
      "processing  560\n",
      "processing  561\n",
      "processing  562\n",
      "processing  563\n",
      "processing  564\n",
      "processing  565\n",
      "processing  566\n",
      "processing  567\n",
      "processing  568\n",
      "processing  569\n",
      "processing  570\n",
      "processing  571\n",
      "processing  572\n",
      "processing  573\n",
      "processing  574\n",
      "processing  575\n",
      "processing  576\n",
      "processing  577\n",
      "processing  578\n",
      "processing  579\n",
      "processing  580\n",
      "processing  581\n",
      "processing  582\n",
      "processing  583\n",
      "processing  584\n",
      "processing  585\n",
      "processing  586\n",
      "processing  587\n",
      "processing  588\n",
      "processing  589\n",
      "processing  590\n",
      "processing  591\n",
      "processing  592\n",
      "processing  593\n",
      "processing  594\n",
      "processing  595\n",
      "processing  596\n",
      "processing  597\n",
      "processing  598\n",
      "processing  599\n",
      "processing  600\n",
      "processing  601\n",
      "processing  602\n",
      "processing  603\n",
      "processing  604\n",
      "processing  605\n",
      "processing  606\n",
      "processing  607\n",
      "processing  608\n",
      "processing  609\n",
      "processing  610\n",
      "processing  611\n",
      "processing  612\n",
      "processing  613\n",
      "processing  614\n",
      "processing  615\n",
      "processing  616\n",
      "processing  617\n",
      "processing  618\n",
      "processing  619\n",
      "processing  620\n",
      "processing  621\n",
      "processing  622\n",
      "processing  623\n",
      "processing  624\n",
      "processing  625\n",
      "processing  626\n",
      "processing  627\n",
      "processing  628\n",
      "processing  629\n",
      "processing  630\n",
      "processing  631\n",
      "processing  632\n",
      "processing  633\n",
      "processing  634\n",
      "processing  635\n",
      "processing  636\n",
      "processing  637\n",
      "processing  638\n",
      "processing  639\n",
      "processing  640\n",
      "processing  641\n",
      "processing  642\n",
      "processing  643\n",
      "processing  644\n",
      "processing  645\n",
      "processing  646\n",
      "processing  647\n",
      "processing  648\n",
      "processing  649\n",
      "processing  650\n",
      "processing  651\n",
      "processing  652\n",
      "processing  653\n",
      "processing  654\n",
      "processing  655\n",
      "processing  656\n",
      "processing  657\n",
      "processing  658\n",
      "processing  659\n",
      "processing  660\n",
      "processing  661\n",
      "processing  662\n",
      "processing  663\n",
      "processing  664\n",
      "processing  665\n",
      "processing  666\n",
      "processing  667\n",
      "processing  668\n",
      "processing  669\n",
      "processing  670\n",
      "processing  671\n",
      "processing  672\n",
      "processing  673\n",
      "processing  674\n",
      "processing  675\n",
      "processing  676\n",
      "processing  677\n",
      "processing  678\n",
      "processing  679\n",
      "processing  680\n",
      "processing  681\n",
      "processing  682\n",
      "processing  683\n",
      "processing  684\n",
      "processing  685\n",
      "processing  686\n",
      "processing  687\n",
      "processing  688\n",
      "processing  689\n",
      "processing  690\n",
      "processing  691\n",
      "processing  692\n",
      "processing  693\n",
      "processing  694\n",
      "processing  695\n",
      "processing  696\n",
      "processing  697\n",
      "processing  698\n",
      "processing  699\n",
      "processing  700\n",
      "processing  701\n",
      "processing  702\n",
      "processing  703\n",
      "processing  704\n",
      "processing  705\n",
      "processing  706\n",
      "processing  707\n",
      "processing  708\n",
      "processing  709\n",
      "processing  710\n",
      "processing  711\n",
      "processing  712\n",
      "processing  713\n",
      "processing  714\n",
      "processing  715\n",
      "processing  716\n",
      "processing  717\n",
      "processing  718\n",
      "processing  719\n",
      "processing  720\n",
      "processing  721\n",
      "processing  722\n",
      "processing  723\n",
      "processing  724\n",
      "processing  725\n",
      "processing  726\n",
      "processing  727\n",
      "processing  728\n",
      "processing  729\n",
      "processing  730\n",
      "processing  731\n",
      "processing  732\n",
      "processing  733\n",
      "processing  734\n",
      "processing  735\n",
      "processing  736\n",
      "processing  737\n",
      "processing  738\n",
      "processing  739\n",
      "processing  740\n",
      "processing  741\n",
      "processing  742\n",
      "processing  743\n",
      "processing  744\n",
      "processing  745\n",
      "processing  746\n",
      "processing  747\n",
      "processing  748\n",
      "processing  749\n",
      "processing  750\n",
      "processing  751\n",
      "processing  752\n",
      "processing  753\n",
      "processing  754\n",
      "processing  755\n",
      "processing  756\n",
      "processing  757\n",
      "processing  758\n",
      "processing  759\n",
      "processing  760\n",
      "processing  761\n",
      "processing  762\n",
      "processing  763\n",
      "processing  764\n",
      "processing  765\n",
      "processing  766\n",
      "processing  767\n",
      "processing  768\n",
      "processing  769\n",
      "processing  770\n",
      "processing  771\n",
      "processing  772\n",
      "processing  773\n",
      "processing  774\n",
      "processing  775\n",
      "processing  776\n",
      "processing  777\n",
      "processing  778\n",
      "processing  779\n",
      "processing  780\n",
      "processing  781\n",
      "processing  782\n",
      "processing  783\n",
      "processing  784\n",
      "processing  785\n",
      "processing  786\n",
      "processing  787\n",
      "processing  788\n",
      "processing  789\n",
      "processing  790\n",
      "processing  791\n",
      "processing  792\n",
      "processing  793\n",
      "processing  794\n",
      "processing  795\n",
      "processing  796\n",
      "processing  797\n",
      "processing  798\n",
      "processing  799\n",
      "processing  800\n",
      "processing  801\n",
      "processing  802\n",
      "processing  803\n",
      "processing  804\n",
      "processing  805\n",
      "processing  806\n",
      "processing  807\n",
      "processing  808\n",
      "processing  809\n",
      "processing  810\n",
      "processing  811\n",
      "processing  812\n",
      "processing  813\n",
      "processing  814\n",
      "processing  815\n",
      "processing  816\n",
      "processing  817\n",
      "processing  818\n",
      "processing  819\n",
      "processing  820\n",
      "processing  821\n",
      "processing  822\n",
      "processing  823\n",
      "processing  824\n",
      "processing  825\n",
      "processing  826\n",
      "processing  827\n",
      "processing  828\n",
      "processing  829\n",
      "processing  830\n",
      "processing  831\n",
      "processing  832\n",
      "processing  833\n",
      "processing  834\n",
      "processing  835\n",
      "processing  836\n",
      "processing  837\n",
      "processing  838\n",
      "processing  839\n",
      "processing  840\n",
      "processing  841\n",
      "processing  842\n",
      "processing  843\n",
      "processing  844\n",
      "processing  845\n",
      "processing  846\n",
      "processing  847\n",
      "processing  848\n",
      "processing  849\n",
      "processing  850\n",
      "processing  851\n",
      "processing  852\n",
      "processing  853\n",
      "processing  854\n",
      "processing  855\n",
      "processing  856\n",
      "processing  857\n",
      "processing  858\n",
      "processing  859\n",
      "processing  860\n",
      "processing  861\n",
      "processing  862\n",
      "processing  863\n",
      "processing  864\n",
      "processing  865\n",
      "processing  866\n",
      "processing  867\n",
      "processing  868\n",
      "processing  869\n",
      "processing  870\n",
      "processing  871\n",
      "processing  872\n",
      "processing  873\n",
      "processing  874\n",
      "processing  875\n",
      "processing  876\n",
      "processing  877\n",
      "processing  878\n",
      "processing  879\n",
      "processing  880\n",
      "processing  881\n",
      "processing  882\n",
      "processing  883\n",
      "processing  884\n",
      "processing  885\n",
      "processing  886\n",
      "processing  887\n",
      "processing  888\n",
      "processing  889\n",
      "processing  890\n",
      "processing  891\n",
      "processing  892\n",
      "processing  893\n",
      "processing  894\n",
      "processing  895\n",
      "processing  896\n",
      "processing  897\n",
      "processing  898\n",
      "processing  899\n",
      "processing  900\n",
      "processing  901\n",
      "processing  902\n",
      "processing  903\n",
      "processing  904\n",
      "processing  905\n",
      "processing  906\n",
      "processing  907\n",
      "processing  908\n",
      "processing  909\n",
      "processing  910\n",
      "processing  911\n",
      "processing  912\n",
      "processing  913\n",
      "processing  914\n",
      "processing  915\n",
      "processing  916\n",
      "processing  917\n",
      "processing  918\n",
      "processing  919\n",
      "processing  920\n",
      "processing  921\n",
      "processing  922\n",
      "processing  923\n",
      "processing  924\n",
      "processing  925\n",
      "processing  926\n",
      "processing  927\n",
      "processing  928\n",
      "processing  929\n",
      "processing  930\n",
      "processing  931\n",
      "processing  932\n",
      "processing  933\n",
      "processing  934\n",
      "processing  935\n",
      "processing  936\n",
      "processing  937\n",
      "processing  938\n",
      "processing  939\n",
      "processing  940\n",
      "processing  941\n",
      "processing  942\n",
      "processing  943\n",
      "processing  944\n",
      "processing  945\n",
      "processing  946\n",
      "processing  947\n",
      "processing  948\n",
      "processing  949\n",
      "processing  950\n",
      "processing  951\n",
      "processing  952\n",
      "processing  953\n",
      "processing  954\n",
      "processing  955\n",
      "processing  956\n",
      "processing  957\n",
      "processing  958\n",
      "processing  959\n",
      "processing  960\n",
      "processing  961\n",
      "processing  962\n",
      "processing  963\n",
      "processing  964\n",
      "processing  965\n",
      "processing  966\n",
      "processing  967\n",
      "processing  968\n",
      "processing  969\n",
      "processing  970\n",
      "processing  971\n",
      "processing  972\n",
      "processing  973\n",
      "processing  974\n",
      "163949\n"
     ]
    }
   ],
   "metadata": {}
  },
  {
   "cell_type": "code",
   "execution_count": 29,
   "source": [
    "from collections import defaultdict\n",
    "import base64\n",
    "import json\n",
    "import datetime\n",
    "import plotly\n",
    "import plotly.graph_objs as go\n",
    "import plotly.graph_objects as px\n",
    "from plotly.subplots import make_subplots\n",
    "CONTRACT = \"terra1kc87mu460fwkqte29rquh4hc20m54fxwtsx7gp\"\n",
    "fd = open(\"txs-dump-bluna.json\")\n",
    "txs = json.loads(fd.read())\n",
    "\n",
    "\n",
    "def add_date(m, date):\n",
    "    m['date'] = date\n",
    "    return m\n",
    "\n",
    "\n",
    "def find_related_messages(txs, contract):\n",
    "    msgs = []\n",
    "    for tx in txs:\n",
    "        msgs = msgs + [add_date(msg, tx['timestamp']) for msg in tx['tx']\n",
    "                       ['value']['msg'] if msg['value']['contract'] == contract]\n",
    "    return msgs\n",
    "\n",
    "\n",
    "def get_message_type(base64_msg):\n",
    "    decoded_m = json.loads(base64.b64decode(base64_msg))\n",
    "    return list(decoded_m.keys())[0]\n",
    "\n",
    "\n",
    "def get_amount_from_send(base64_msg):\n",
    "    decoded_m = json.loads(base64.b64decode(base64_msg))\n",
    "    return decoded_m['send']['amount']\n",
    "\n",
    "\n",
    "class SendMessage(object):\n",
    "    def __init__(self, amount, date, sender, sub_message_type):\n",
    "        self.amount = int(amount)\n",
    "        self.date = datetime.datetime.strptime(date, \"%Y-%m-%dT%H:%M:%SZ\").date()\n",
    "        self.sender = sender\n",
    "        # one of unbond, swap, deposit_collateral\n",
    "        # '{\"swap\":{\"belief_price\":\"1.049714260737302397\",\"max_spread\":\"0.1\"}}'\n",
    "        # '{\"deposit_collateral\":{}}'\n",
    "        # '{\"unbond\":{}}'\n",
    "        self.sub_message_type = sub_message_type\n",
    "\n",
    "\n",
    "send_messages = defaultdict(list)\n",
    "\n",
    "messages = find_related_messages(txs, CONTRACT)\n",
    "message_type = defaultdict(int)\n",
    "send_submessage_type = defaultdict(int)\n",
    "for m in messages:\n",
    "    mt = get_message_type(m['value']['execute_msg'])\n",
    "    message_type[mt] += 1\n",
    "    if mt == \"send\":\n",
    "        smt = get_message_type(json.loads(base64.b64decode(\n",
    "            m['value']['execute_msg']))['send']['msg'])\n",
    "        sm = SendMessage(\n",
    "            get_amount_from_send(m['value']['execute_msg']),\n",
    "            m['date'],\n",
    "            m['value']['sender'],\n",
    "            smt,\n",
    "        )\n",
    "        # print(sm.date)\n",
    "        send_messages[sm.date].append(sm)\n",
    "        send_submessage_type[smt] += 1\n",
    "\n",
    "\n",
    "def process_messages(message_type):\n",
    "\n",
    "\n",
    "    # subtype = filter(lambda s: s.sub_message_type=='message_type',send_messages)\n",
    "    subtype_days = []\n",
    "    subtype_days_amount = []\n",
    "    subtype_days_count = []\n",
    "    for day,message_list in send_messages.items():\n",
    "        subtype_days.append(day)\n",
    "        subtype_days_amount.append(\n",
    "            sum([m.amount for m in message_list if m.sub_message_type==message_type])\n",
    "        )\n",
    "        subtype_days_count.append(\n",
    "            len([m for m in message_list if m.sub_message_type==message_type])\n",
    "        )\n",
    "    return subtype_days,subtype_days_amount,subtype_days_count\n",
    "\n",
    "subtype_swap_days,subtype_swap_days_amount,subtype_swap_days_count = process_messages('swap')\n",
    "subtype_unbond_days,subtype_unbond_days_amount,subtype_unbond_days_count = process_messages('unbond')\n",
    "subtype_deposit_collateral_days,subtype_deposit_collateral_days_amount,subtype_deposit_collateral_days_count = process_messages('deposit_collateral')\n"
   ],
   "outputs": [],
   "metadata": {}
  },
  {
   "cell_type": "code",
   "execution_count": 31,
   "source": [
    "\n",
    "\n",
    "for message_type in ['swap','unbond','deposit_collateral']:\n",
    "    subtype_days,subtype_days_amount,subtype_days_count = process_messages(message_type)\n",
    "    fig = make_subplots(specs=[[{\"secondary_y\": True}]])\n",
    "    fig.add_trace(go.Scatter(x=subtype_days, y=subtype_days_amount, name=f\"Суммы по дням {message_type}\"),\n",
    "                secondary_y=False)\n",
    "    fig.add_trace(go.Scatter(x=subtype_days, y=subtype_days_count,\n",
    "                            name=f\"Кол-во сообщений {message_type}\"), secondary_y=True)\n",
    "    fig.show()\n"
   ],
   "outputs": [
    {
     "output_type": "display_data",
     "data": {
      "application/vnd.plotly.v1+json": {
       "config": {
        "plotlyServerURL": "https://plot.ly"
       },
       "data": [
        {
         "name": "Суммы по дням swap",
         "type": "scatter",
         "x": [
          "2021-08-25",
          "2021-08-24",
          "2021-08-23",
          "2021-08-22",
          "2021-08-21",
          "2021-08-20",
          "2021-08-19",
          "2021-08-18",
          "2021-08-17",
          "2021-08-16",
          "2021-08-15",
          "2021-08-14"
         ],
         "xaxis": "x",
         "y": [
          96466072781,
          291156052814,
          262362149139,
          704058452703,
          179572582358,
          128310313122,
          583414841384,
          521971598463,
          629078241745,
          829217185801,
          241866401152,
          1092268912
         ],
         "yaxis": "y"
        },
        {
         "name": "Кол-во сообщений swap",
         "type": "scatter",
         "x": [
          "2021-08-25",
          "2021-08-24",
          "2021-08-23",
          "2021-08-22",
          "2021-08-21",
          "2021-08-20",
          "2021-08-19",
          "2021-08-18",
          "2021-08-17",
          "2021-08-16",
          "2021-08-15",
          "2021-08-14"
         ],
         "xaxis": "x",
         "y": [
          188,
          622,
          505,
          568,
          428,
          344,
          957,
          870,
          967,
          830,
          328,
          2
         ],
         "yaxis": "y2"
        }
       ],
       "layout": {
        "template": {
         "data": {
          "bar": [
           {
            "error_x": {
             "color": "#2a3f5f"
            },
            "error_y": {
             "color": "#2a3f5f"
            },
            "marker": {
             "line": {
              "color": "#E5ECF6",
              "width": 0.5
             },
             "pattern": {
              "fillmode": "overlay",
              "size": 10,
              "solidity": 0.2
             }
            },
            "type": "bar"
           }
          ],
          "barpolar": [
           {
            "marker": {
             "line": {
              "color": "#E5ECF6",
              "width": 0.5
             },
             "pattern": {
              "fillmode": "overlay",
              "size": 10,
              "solidity": 0.2
             }
            },
            "type": "barpolar"
           }
          ],
          "carpet": [
           {
            "aaxis": {
             "endlinecolor": "#2a3f5f",
             "gridcolor": "white",
             "linecolor": "white",
             "minorgridcolor": "white",
             "startlinecolor": "#2a3f5f"
            },
            "baxis": {
             "endlinecolor": "#2a3f5f",
             "gridcolor": "white",
             "linecolor": "white",
             "minorgridcolor": "white",
             "startlinecolor": "#2a3f5f"
            },
            "type": "carpet"
           }
          ],
          "choropleth": [
           {
            "colorbar": {
             "outlinewidth": 0,
             "ticks": ""
            },
            "type": "choropleth"
           }
          ],
          "contour": [
           {
            "colorbar": {
             "outlinewidth": 0,
             "ticks": ""
            },
            "colorscale": [
             [
              0,
              "#0d0887"
             ],
             [
              0.1111111111111111,
              "#46039f"
             ],
             [
              0.2222222222222222,
              "#7201a8"
             ],
             [
              0.3333333333333333,
              "#9c179e"
             ],
             [
              0.4444444444444444,
              "#bd3786"
             ],
             [
              0.5555555555555556,
              "#d8576b"
             ],
             [
              0.6666666666666666,
              "#ed7953"
             ],
             [
              0.7777777777777778,
              "#fb9f3a"
             ],
             [
              0.8888888888888888,
              "#fdca26"
             ],
             [
              1,
              "#f0f921"
             ]
            ],
            "type": "contour"
           }
          ],
          "contourcarpet": [
           {
            "colorbar": {
             "outlinewidth": 0,
             "ticks": ""
            },
            "type": "contourcarpet"
           }
          ],
          "heatmap": [
           {
            "colorbar": {
             "outlinewidth": 0,
             "ticks": ""
            },
            "colorscale": [
             [
              0,
              "#0d0887"
             ],
             [
              0.1111111111111111,
              "#46039f"
             ],
             [
              0.2222222222222222,
              "#7201a8"
             ],
             [
              0.3333333333333333,
              "#9c179e"
             ],
             [
              0.4444444444444444,
              "#bd3786"
             ],
             [
              0.5555555555555556,
              "#d8576b"
             ],
             [
              0.6666666666666666,
              "#ed7953"
             ],
             [
              0.7777777777777778,
              "#fb9f3a"
             ],
             [
              0.8888888888888888,
              "#fdca26"
             ],
             [
              1,
              "#f0f921"
             ]
            ],
            "type": "heatmap"
           }
          ],
          "heatmapgl": [
           {
            "colorbar": {
             "outlinewidth": 0,
             "ticks": ""
            },
            "colorscale": [
             [
              0,
              "#0d0887"
             ],
             [
              0.1111111111111111,
              "#46039f"
             ],
             [
              0.2222222222222222,
              "#7201a8"
             ],
             [
              0.3333333333333333,
              "#9c179e"
             ],
             [
              0.4444444444444444,
              "#bd3786"
             ],
             [
              0.5555555555555556,
              "#d8576b"
             ],
             [
              0.6666666666666666,
              "#ed7953"
             ],
             [
              0.7777777777777778,
              "#fb9f3a"
             ],
             [
              0.8888888888888888,
              "#fdca26"
             ],
             [
              1,
              "#f0f921"
             ]
            ],
            "type": "heatmapgl"
           }
          ],
          "histogram": [
           {
            "marker": {
             "pattern": {
              "fillmode": "overlay",
              "size": 10,
              "solidity": 0.2
             }
            },
            "type": "histogram"
           }
          ],
          "histogram2d": [
           {
            "colorbar": {
             "outlinewidth": 0,
             "ticks": ""
            },
            "colorscale": [
             [
              0,
              "#0d0887"
             ],
             [
              0.1111111111111111,
              "#46039f"
             ],
             [
              0.2222222222222222,
              "#7201a8"
             ],
             [
              0.3333333333333333,
              "#9c179e"
             ],
             [
              0.4444444444444444,
              "#bd3786"
             ],
             [
              0.5555555555555556,
              "#d8576b"
             ],
             [
              0.6666666666666666,
              "#ed7953"
             ],
             [
              0.7777777777777778,
              "#fb9f3a"
             ],
             [
              0.8888888888888888,
              "#fdca26"
             ],
             [
              1,
              "#f0f921"
             ]
            ],
            "type": "histogram2d"
           }
          ],
          "histogram2dcontour": [
           {
            "colorbar": {
             "outlinewidth": 0,
             "ticks": ""
            },
            "colorscale": [
             [
              0,
              "#0d0887"
             ],
             [
              0.1111111111111111,
              "#46039f"
             ],
             [
              0.2222222222222222,
              "#7201a8"
             ],
             [
              0.3333333333333333,
              "#9c179e"
             ],
             [
              0.4444444444444444,
              "#bd3786"
             ],
             [
              0.5555555555555556,
              "#d8576b"
             ],
             [
              0.6666666666666666,
              "#ed7953"
             ],
             [
              0.7777777777777778,
              "#fb9f3a"
             ],
             [
              0.8888888888888888,
              "#fdca26"
             ],
             [
              1,
              "#f0f921"
             ]
            ],
            "type": "histogram2dcontour"
           }
          ],
          "mesh3d": [
           {
            "colorbar": {
             "outlinewidth": 0,
             "ticks": ""
            },
            "type": "mesh3d"
           }
          ],
          "parcoords": [
           {
            "line": {
             "colorbar": {
              "outlinewidth": 0,
              "ticks": ""
             }
            },
            "type": "parcoords"
           }
          ],
          "pie": [
           {
            "automargin": true,
            "type": "pie"
           }
          ],
          "scatter": [
           {
            "marker": {
             "colorbar": {
              "outlinewidth": 0,
              "ticks": ""
             }
            },
            "type": "scatter"
           }
          ],
          "scatter3d": [
           {
            "line": {
             "colorbar": {
              "outlinewidth": 0,
              "ticks": ""
             }
            },
            "marker": {
             "colorbar": {
              "outlinewidth": 0,
              "ticks": ""
             }
            },
            "type": "scatter3d"
           }
          ],
          "scattercarpet": [
           {
            "marker": {
             "colorbar": {
              "outlinewidth": 0,
              "ticks": ""
             }
            },
            "type": "scattercarpet"
           }
          ],
          "scattergeo": [
           {
            "marker": {
             "colorbar": {
              "outlinewidth": 0,
              "ticks": ""
             }
            },
            "type": "scattergeo"
           }
          ],
          "scattergl": [
           {
            "marker": {
             "colorbar": {
              "outlinewidth": 0,
              "ticks": ""
             }
            },
            "type": "scattergl"
           }
          ],
          "scattermapbox": [
           {
            "marker": {
             "colorbar": {
              "outlinewidth": 0,
              "ticks": ""
             }
            },
            "type": "scattermapbox"
           }
          ],
          "scatterpolar": [
           {
            "marker": {
             "colorbar": {
              "outlinewidth": 0,
              "ticks": ""
             }
            },
            "type": "scatterpolar"
           }
          ],
          "scatterpolargl": [
           {
            "marker": {
             "colorbar": {
              "outlinewidth": 0,
              "ticks": ""
             }
            },
            "type": "scatterpolargl"
           }
          ],
          "scatterternary": [
           {
            "marker": {
             "colorbar": {
              "outlinewidth": 0,
              "ticks": ""
             }
            },
            "type": "scatterternary"
           }
          ],
          "surface": [
           {
            "colorbar": {
             "outlinewidth": 0,
             "ticks": ""
            },
            "colorscale": [
             [
              0,
              "#0d0887"
             ],
             [
              0.1111111111111111,
              "#46039f"
             ],
             [
              0.2222222222222222,
              "#7201a8"
             ],
             [
              0.3333333333333333,
              "#9c179e"
             ],
             [
              0.4444444444444444,
              "#bd3786"
             ],
             [
              0.5555555555555556,
              "#d8576b"
             ],
             [
              0.6666666666666666,
              "#ed7953"
             ],
             [
              0.7777777777777778,
              "#fb9f3a"
             ],
             [
              0.8888888888888888,
              "#fdca26"
             ],
             [
              1,
              "#f0f921"
             ]
            ],
            "type": "surface"
           }
          ],
          "table": [
           {
            "cells": {
             "fill": {
              "color": "#EBF0F8"
             },
             "line": {
              "color": "white"
             }
            },
            "header": {
             "fill": {
              "color": "#C8D4E3"
             },
             "line": {
              "color": "white"
             }
            },
            "type": "table"
           }
          ]
         },
         "layout": {
          "annotationdefaults": {
           "arrowcolor": "#2a3f5f",
           "arrowhead": 0,
           "arrowwidth": 1
          },
          "autotypenumbers": "strict",
          "coloraxis": {
           "colorbar": {
            "outlinewidth": 0,
            "ticks": ""
           }
          },
          "colorscale": {
           "diverging": [
            [
             0,
             "#8e0152"
            ],
            [
             0.1,
             "#c51b7d"
            ],
            [
             0.2,
             "#de77ae"
            ],
            [
             0.3,
             "#f1b6da"
            ],
            [
             0.4,
             "#fde0ef"
            ],
            [
             0.5,
             "#f7f7f7"
            ],
            [
             0.6,
             "#e6f5d0"
            ],
            [
             0.7,
             "#b8e186"
            ],
            [
             0.8,
             "#7fbc41"
            ],
            [
             0.9,
             "#4d9221"
            ],
            [
             1,
             "#276419"
            ]
           ],
           "sequential": [
            [
             0,
             "#0d0887"
            ],
            [
             0.1111111111111111,
             "#46039f"
            ],
            [
             0.2222222222222222,
             "#7201a8"
            ],
            [
             0.3333333333333333,
             "#9c179e"
            ],
            [
             0.4444444444444444,
             "#bd3786"
            ],
            [
             0.5555555555555556,
             "#d8576b"
            ],
            [
             0.6666666666666666,
             "#ed7953"
            ],
            [
             0.7777777777777778,
             "#fb9f3a"
            ],
            [
             0.8888888888888888,
             "#fdca26"
            ],
            [
             1,
             "#f0f921"
            ]
           ],
           "sequentialminus": [
            [
             0,
             "#0d0887"
            ],
            [
             0.1111111111111111,
             "#46039f"
            ],
            [
             0.2222222222222222,
             "#7201a8"
            ],
            [
             0.3333333333333333,
             "#9c179e"
            ],
            [
             0.4444444444444444,
             "#bd3786"
            ],
            [
             0.5555555555555556,
             "#d8576b"
            ],
            [
             0.6666666666666666,
             "#ed7953"
            ],
            [
             0.7777777777777778,
             "#fb9f3a"
            ],
            [
             0.8888888888888888,
             "#fdca26"
            ],
            [
             1,
             "#f0f921"
            ]
           ]
          },
          "colorway": [
           "#636efa",
           "#EF553B",
           "#00cc96",
           "#ab63fa",
           "#FFA15A",
           "#19d3f3",
           "#FF6692",
           "#B6E880",
           "#FF97FF",
           "#FECB52"
          ],
          "font": {
           "color": "#2a3f5f"
          },
          "geo": {
           "bgcolor": "white",
           "lakecolor": "white",
           "landcolor": "#E5ECF6",
           "showlakes": true,
           "showland": true,
           "subunitcolor": "white"
          },
          "hoverlabel": {
           "align": "left"
          },
          "hovermode": "closest",
          "mapbox": {
           "style": "light"
          },
          "paper_bgcolor": "white",
          "plot_bgcolor": "#E5ECF6",
          "polar": {
           "angularaxis": {
            "gridcolor": "white",
            "linecolor": "white",
            "ticks": ""
           },
           "bgcolor": "#E5ECF6",
           "radialaxis": {
            "gridcolor": "white",
            "linecolor": "white",
            "ticks": ""
           }
          },
          "scene": {
           "xaxis": {
            "backgroundcolor": "#E5ECF6",
            "gridcolor": "white",
            "gridwidth": 2,
            "linecolor": "white",
            "showbackground": true,
            "ticks": "",
            "zerolinecolor": "white"
           },
           "yaxis": {
            "backgroundcolor": "#E5ECF6",
            "gridcolor": "white",
            "gridwidth": 2,
            "linecolor": "white",
            "showbackground": true,
            "ticks": "",
            "zerolinecolor": "white"
           },
           "zaxis": {
            "backgroundcolor": "#E5ECF6",
            "gridcolor": "white",
            "gridwidth": 2,
            "linecolor": "white",
            "showbackground": true,
            "ticks": "",
            "zerolinecolor": "white"
           }
          },
          "shapedefaults": {
           "line": {
            "color": "#2a3f5f"
           }
          },
          "ternary": {
           "aaxis": {
            "gridcolor": "white",
            "linecolor": "white",
            "ticks": ""
           },
           "baxis": {
            "gridcolor": "white",
            "linecolor": "white",
            "ticks": ""
           },
           "bgcolor": "#E5ECF6",
           "caxis": {
            "gridcolor": "white",
            "linecolor": "white",
            "ticks": ""
           }
          },
          "title": {
           "x": 0.05
          },
          "xaxis": {
           "automargin": true,
           "gridcolor": "white",
           "linecolor": "white",
           "ticks": "",
           "title": {
            "standoff": 15
           },
           "zerolinecolor": "white",
           "zerolinewidth": 2
          },
          "yaxis": {
           "automargin": true,
           "gridcolor": "white",
           "linecolor": "white",
           "ticks": "",
           "title": {
            "standoff": 15
           },
           "zerolinecolor": "white",
           "zerolinewidth": 2
          }
         }
        },
        "xaxis": {
         "anchor": "y",
         "domain": [
          0,
          0.94
         ]
        },
        "yaxis": {
         "anchor": "x",
         "domain": [
          0,
          1
         ]
        },
        "yaxis2": {
         "anchor": "x",
         "overlaying": "y",
         "side": "right"
        }
       }
      }
     },
     "metadata": {}
    },
    {
     "output_type": "display_data",
     "data": {
      "application/vnd.plotly.v1+json": {
       "config": {
        "plotlyServerURL": "https://plot.ly"
       },
       "data": [
        {
         "name": "Суммы по дням unbond",
         "type": "scatter",
         "x": [
          "2021-08-25",
          "2021-08-24",
          "2021-08-23",
          "2021-08-22",
          "2021-08-21",
          "2021-08-20",
          "2021-08-19",
          "2021-08-18",
          "2021-08-17",
          "2021-08-16",
          "2021-08-15",
          "2021-08-14"
         ],
         "xaxis": "x",
         "y": [
          42079929055,
          213432966074,
          589451242898,
          1434009630744,
          101666519866,
          247276113379,
          1588158532866,
          2977213900831,
          1186287994025,
          530906429552,
          37578118683,
          0
         ],
         "yaxis": "y"
        },
        {
         "name": "Кол-во сообщений unbond",
         "type": "scatter",
         "x": [
          "2021-08-25",
          "2021-08-24",
          "2021-08-23",
          "2021-08-22",
          "2021-08-21",
          "2021-08-20",
          "2021-08-19",
          "2021-08-18",
          "2021-08-17",
          "2021-08-16",
          "2021-08-15",
          "2021-08-14"
         ],
         "xaxis": "x",
         "y": [
          89,
          363,
          332,
          326,
          220,
          249,
          539,
          418,
          365,
          419,
          51,
          0
         ],
         "yaxis": "y2"
        }
       ],
       "layout": {
        "template": {
         "data": {
          "bar": [
           {
            "error_x": {
             "color": "#2a3f5f"
            },
            "error_y": {
             "color": "#2a3f5f"
            },
            "marker": {
             "line": {
              "color": "#E5ECF6",
              "width": 0.5
             },
             "pattern": {
              "fillmode": "overlay",
              "size": 10,
              "solidity": 0.2
             }
            },
            "type": "bar"
           }
          ],
          "barpolar": [
           {
            "marker": {
             "line": {
              "color": "#E5ECF6",
              "width": 0.5
             },
             "pattern": {
              "fillmode": "overlay",
              "size": 10,
              "solidity": 0.2
             }
            },
            "type": "barpolar"
           }
          ],
          "carpet": [
           {
            "aaxis": {
             "endlinecolor": "#2a3f5f",
             "gridcolor": "white",
             "linecolor": "white",
             "minorgridcolor": "white",
             "startlinecolor": "#2a3f5f"
            },
            "baxis": {
             "endlinecolor": "#2a3f5f",
             "gridcolor": "white",
             "linecolor": "white",
             "minorgridcolor": "white",
             "startlinecolor": "#2a3f5f"
            },
            "type": "carpet"
           }
          ],
          "choropleth": [
           {
            "colorbar": {
             "outlinewidth": 0,
             "ticks": ""
            },
            "type": "choropleth"
           }
          ],
          "contour": [
           {
            "colorbar": {
             "outlinewidth": 0,
             "ticks": ""
            },
            "colorscale": [
             [
              0,
              "#0d0887"
             ],
             [
              0.1111111111111111,
              "#46039f"
             ],
             [
              0.2222222222222222,
              "#7201a8"
             ],
             [
              0.3333333333333333,
              "#9c179e"
             ],
             [
              0.4444444444444444,
              "#bd3786"
             ],
             [
              0.5555555555555556,
              "#d8576b"
             ],
             [
              0.6666666666666666,
              "#ed7953"
             ],
             [
              0.7777777777777778,
              "#fb9f3a"
             ],
             [
              0.8888888888888888,
              "#fdca26"
             ],
             [
              1,
              "#f0f921"
             ]
            ],
            "type": "contour"
           }
          ],
          "contourcarpet": [
           {
            "colorbar": {
             "outlinewidth": 0,
             "ticks": ""
            },
            "type": "contourcarpet"
           }
          ],
          "heatmap": [
           {
            "colorbar": {
             "outlinewidth": 0,
             "ticks": ""
            },
            "colorscale": [
             [
              0,
              "#0d0887"
             ],
             [
              0.1111111111111111,
              "#46039f"
             ],
             [
              0.2222222222222222,
              "#7201a8"
             ],
             [
              0.3333333333333333,
              "#9c179e"
             ],
             [
              0.4444444444444444,
              "#bd3786"
             ],
             [
              0.5555555555555556,
              "#d8576b"
             ],
             [
              0.6666666666666666,
              "#ed7953"
             ],
             [
              0.7777777777777778,
              "#fb9f3a"
             ],
             [
              0.8888888888888888,
              "#fdca26"
             ],
             [
              1,
              "#f0f921"
             ]
            ],
            "type": "heatmap"
           }
          ],
          "heatmapgl": [
           {
            "colorbar": {
             "outlinewidth": 0,
             "ticks": ""
            },
            "colorscale": [
             [
              0,
              "#0d0887"
             ],
             [
              0.1111111111111111,
              "#46039f"
             ],
             [
              0.2222222222222222,
              "#7201a8"
             ],
             [
              0.3333333333333333,
              "#9c179e"
             ],
             [
              0.4444444444444444,
              "#bd3786"
             ],
             [
              0.5555555555555556,
              "#d8576b"
             ],
             [
              0.6666666666666666,
              "#ed7953"
             ],
             [
              0.7777777777777778,
              "#fb9f3a"
             ],
             [
              0.8888888888888888,
              "#fdca26"
             ],
             [
              1,
              "#f0f921"
             ]
            ],
            "type": "heatmapgl"
           }
          ],
          "histogram": [
           {
            "marker": {
             "pattern": {
              "fillmode": "overlay",
              "size": 10,
              "solidity": 0.2
             }
            },
            "type": "histogram"
           }
          ],
          "histogram2d": [
           {
            "colorbar": {
             "outlinewidth": 0,
             "ticks": ""
            },
            "colorscale": [
             [
              0,
              "#0d0887"
             ],
             [
              0.1111111111111111,
              "#46039f"
             ],
             [
              0.2222222222222222,
              "#7201a8"
             ],
             [
              0.3333333333333333,
              "#9c179e"
             ],
             [
              0.4444444444444444,
              "#bd3786"
             ],
             [
              0.5555555555555556,
              "#d8576b"
             ],
             [
              0.6666666666666666,
              "#ed7953"
             ],
             [
              0.7777777777777778,
              "#fb9f3a"
             ],
             [
              0.8888888888888888,
              "#fdca26"
             ],
             [
              1,
              "#f0f921"
             ]
            ],
            "type": "histogram2d"
           }
          ],
          "histogram2dcontour": [
           {
            "colorbar": {
             "outlinewidth": 0,
             "ticks": ""
            },
            "colorscale": [
             [
              0,
              "#0d0887"
             ],
             [
              0.1111111111111111,
              "#46039f"
             ],
             [
              0.2222222222222222,
              "#7201a8"
             ],
             [
              0.3333333333333333,
              "#9c179e"
             ],
             [
              0.4444444444444444,
              "#bd3786"
             ],
             [
              0.5555555555555556,
              "#d8576b"
             ],
             [
              0.6666666666666666,
              "#ed7953"
             ],
             [
              0.7777777777777778,
              "#fb9f3a"
             ],
             [
              0.8888888888888888,
              "#fdca26"
             ],
             [
              1,
              "#f0f921"
             ]
            ],
            "type": "histogram2dcontour"
           }
          ],
          "mesh3d": [
           {
            "colorbar": {
             "outlinewidth": 0,
             "ticks": ""
            },
            "type": "mesh3d"
           }
          ],
          "parcoords": [
           {
            "line": {
             "colorbar": {
              "outlinewidth": 0,
              "ticks": ""
             }
            },
            "type": "parcoords"
           }
          ],
          "pie": [
           {
            "automargin": true,
            "type": "pie"
           }
          ],
          "scatter": [
           {
            "marker": {
             "colorbar": {
              "outlinewidth": 0,
              "ticks": ""
             }
            },
            "type": "scatter"
           }
          ],
          "scatter3d": [
           {
            "line": {
             "colorbar": {
              "outlinewidth": 0,
              "ticks": ""
             }
            },
            "marker": {
             "colorbar": {
              "outlinewidth": 0,
              "ticks": ""
             }
            },
            "type": "scatter3d"
           }
          ],
          "scattercarpet": [
           {
            "marker": {
             "colorbar": {
              "outlinewidth": 0,
              "ticks": ""
             }
            },
            "type": "scattercarpet"
           }
          ],
          "scattergeo": [
           {
            "marker": {
             "colorbar": {
              "outlinewidth": 0,
              "ticks": ""
             }
            },
            "type": "scattergeo"
           }
          ],
          "scattergl": [
           {
            "marker": {
             "colorbar": {
              "outlinewidth": 0,
              "ticks": ""
             }
            },
            "type": "scattergl"
           }
          ],
          "scattermapbox": [
           {
            "marker": {
             "colorbar": {
              "outlinewidth": 0,
              "ticks": ""
             }
            },
            "type": "scattermapbox"
           }
          ],
          "scatterpolar": [
           {
            "marker": {
             "colorbar": {
              "outlinewidth": 0,
              "ticks": ""
             }
            },
            "type": "scatterpolar"
           }
          ],
          "scatterpolargl": [
           {
            "marker": {
             "colorbar": {
              "outlinewidth": 0,
              "ticks": ""
             }
            },
            "type": "scatterpolargl"
           }
          ],
          "scatterternary": [
           {
            "marker": {
             "colorbar": {
              "outlinewidth": 0,
              "ticks": ""
             }
            },
            "type": "scatterternary"
           }
          ],
          "surface": [
           {
            "colorbar": {
             "outlinewidth": 0,
             "ticks": ""
            },
            "colorscale": [
             [
              0,
              "#0d0887"
             ],
             [
              0.1111111111111111,
              "#46039f"
             ],
             [
              0.2222222222222222,
              "#7201a8"
             ],
             [
              0.3333333333333333,
              "#9c179e"
             ],
             [
              0.4444444444444444,
              "#bd3786"
             ],
             [
              0.5555555555555556,
              "#d8576b"
             ],
             [
              0.6666666666666666,
              "#ed7953"
             ],
             [
              0.7777777777777778,
              "#fb9f3a"
             ],
             [
              0.8888888888888888,
              "#fdca26"
             ],
             [
              1,
              "#f0f921"
             ]
            ],
            "type": "surface"
           }
          ],
          "table": [
           {
            "cells": {
             "fill": {
              "color": "#EBF0F8"
             },
             "line": {
              "color": "white"
             }
            },
            "header": {
             "fill": {
              "color": "#C8D4E3"
             },
             "line": {
              "color": "white"
             }
            },
            "type": "table"
           }
          ]
         },
         "layout": {
          "annotationdefaults": {
           "arrowcolor": "#2a3f5f",
           "arrowhead": 0,
           "arrowwidth": 1
          },
          "autotypenumbers": "strict",
          "coloraxis": {
           "colorbar": {
            "outlinewidth": 0,
            "ticks": ""
           }
          },
          "colorscale": {
           "diverging": [
            [
             0,
             "#8e0152"
            ],
            [
             0.1,
             "#c51b7d"
            ],
            [
             0.2,
             "#de77ae"
            ],
            [
             0.3,
             "#f1b6da"
            ],
            [
             0.4,
             "#fde0ef"
            ],
            [
             0.5,
             "#f7f7f7"
            ],
            [
             0.6,
             "#e6f5d0"
            ],
            [
             0.7,
             "#b8e186"
            ],
            [
             0.8,
             "#7fbc41"
            ],
            [
             0.9,
             "#4d9221"
            ],
            [
             1,
             "#276419"
            ]
           ],
           "sequential": [
            [
             0,
             "#0d0887"
            ],
            [
             0.1111111111111111,
             "#46039f"
            ],
            [
             0.2222222222222222,
             "#7201a8"
            ],
            [
             0.3333333333333333,
             "#9c179e"
            ],
            [
             0.4444444444444444,
             "#bd3786"
            ],
            [
             0.5555555555555556,
             "#d8576b"
            ],
            [
             0.6666666666666666,
             "#ed7953"
            ],
            [
             0.7777777777777778,
             "#fb9f3a"
            ],
            [
             0.8888888888888888,
             "#fdca26"
            ],
            [
             1,
             "#f0f921"
            ]
           ],
           "sequentialminus": [
            [
             0,
             "#0d0887"
            ],
            [
             0.1111111111111111,
             "#46039f"
            ],
            [
             0.2222222222222222,
             "#7201a8"
            ],
            [
             0.3333333333333333,
             "#9c179e"
            ],
            [
             0.4444444444444444,
             "#bd3786"
            ],
            [
             0.5555555555555556,
             "#d8576b"
            ],
            [
             0.6666666666666666,
             "#ed7953"
            ],
            [
             0.7777777777777778,
             "#fb9f3a"
            ],
            [
             0.8888888888888888,
             "#fdca26"
            ],
            [
             1,
             "#f0f921"
            ]
           ]
          },
          "colorway": [
           "#636efa",
           "#EF553B",
           "#00cc96",
           "#ab63fa",
           "#FFA15A",
           "#19d3f3",
           "#FF6692",
           "#B6E880",
           "#FF97FF",
           "#FECB52"
          ],
          "font": {
           "color": "#2a3f5f"
          },
          "geo": {
           "bgcolor": "white",
           "lakecolor": "white",
           "landcolor": "#E5ECF6",
           "showlakes": true,
           "showland": true,
           "subunitcolor": "white"
          },
          "hoverlabel": {
           "align": "left"
          },
          "hovermode": "closest",
          "mapbox": {
           "style": "light"
          },
          "paper_bgcolor": "white",
          "plot_bgcolor": "#E5ECF6",
          "polar": {
           "angularaxis": {
            "gridcolor": "white",
            "linecolor": "white",
            "ticks": ""
           },
           "bgcolor": "#E5ECF6",
           "radialaxis": {
            "gridcolor": "white",
            "linecolor": "white",
            "ticks": ""
           }
          },
          "scene": {
           "xaxis": {
            "backgroundcolor": "#E5ECF6",
            "gridcolor": "white",
            "gridwidth": 2,
            "linecolor": "white",
            "showbackground": true,
            "ticks": "",
            "zerolinecolor": "white"
           },
           "yaxis": {
            "backgroundcolor": "#E5ECF6",
            "gridcolor": "white",
            "gridwidth": 2,
            "linecolor": "white",
            "showbackground": true,
            "ticks": "",
            "zerolinecolor": "white"
           },
           "zaxis": {
            "backgroundcolor": "#E5ECF6",
            "gridcolor": "white",
            "gridwidth": 2,
            "linecolor": "white",
            "showbackground": true,
            "ticks": "",
            "zerolinecolor": "white"
           }
          },
          "shapedefaults": {
           "line": {
            "color": "#2a3f5f"
           }
          },
          "ternary": {
           "aaxis": {
            "gridcolor": "white",
            "linecolor": "white",
            "ticks": ""
           },
           "baxis": {
            "gridcolor": "white",
            "linecolor": "white",
            "ticks": ""
           },
           "bgcolor": "#E5ECF6",
           "caxis": {
            "gridcolor": "white",
            "linecolor": "white",
            "ticks": ""
           }
          },
          "title": {
           "x": 0.05
          },
          "xaxis": {
           "automargin": true,
           "gridcolor": "white",
           "linecolor": "white",
           "ticks": "",
           "title": {
            "standoff": 15
           },
           "zerolinecolor": "white",
           "zerolinewidth": 2
          },
          "yaxis": {
           "automargin": true,
           "gridcolor": "white",
           "linecolor": "white",
           "ticks": "",
           "title": {
            "standoff": 15
           },
           "zerolinecolor": "white",
           "zerolinewidth": 2
          }
         }
        },
        "xaxis": {
         "anchor": "y",
         "domain": [
          0,
          0.94
         ]
        },
        "yaxis": {
         "anchor": "x",
         "domain": [
          0,
          1
         ]
        },
        "yaxis2": {
         "anchor": "x",
         "overlaying": "y",
         "side": "right"
        }
       }
      }
     },
     "metadata": {}
    },
    {
     "output_type": "display_data",
     "data": {
      "application/vnd.plotly.v1+json": {
       "config": {
        "plotlyServerURL": "https://plot.ly"
       },
       "data": [
        {
         "name": "Суммы по дням deposit_collateral",
         "type": "scatter",
         "x": [
          "2021-08-25",
          "2021-08-24",
          "2021-08-23",
          "2021-08-22",
          "2021-08-21",
          "2021-08-20",
          "2021-08-19",
          "2021-08-18",
          "2021-08-17",
          "2021-08-16",
          "2021-08-15",
          "2021-08-14"
         ],
         "xaxis": "x",
         "y": [
          161589942397,
          290030937941,
          271911130807,
          512040936281,
          256838737343,
          254852866038,
          489061970397,
          536942426508,
          619764834741,
          821011361556,
          207074966619,
          2331741315
         ],
         "yaxis": "y"
        },
        {
         "name": "Кол-во сообщений deposit_collateral",
         "type": "scatter",
         "x": [
          "2021-08-25",
          "2021-08-24",
          "2021-08-23",
          "2021-08-22",
          "2021-08-21",
          "2021-08-20",
          "2021-08-19",
          "2021-08-18",
          "2021-08-17",
          "2021-08-16",
          "2021-08-15",
          "2021-08-14"
         ],
         "xaxis": "x",
         "y": [
          458,
          1034,
          850,
          1123,
          879,
          809,
          1404,
          1366,
          1204,
          1463,
          842,
          12
         ],
         "yaxis": "y2"
        }
       ],
       "layout": {
        "template": {
         "data": {
          "bar": [
           {
            "error_x": {
             "color": "#2a3f5f"
            },
            "error_y": {
             "color": "#2a3f5f"
            },
            "marker": {
             "line": {
              "color": "#E5ECF6",
              "width": 0.5
             },
             "pattern": {
              "fillmode": "overlay",
              "size": 10,
              "solidity": 0.2
             }
            },
            "type": "bar"
           }
          ],
          "barpolar": [
           {
            "marker": {
             "line": {
              "color": "#E5ECF6",
              "width": 0.5
             },
             "pattern": {
              "fillmode": "overlay",
              "size": 10,
              "solidity": 0.2
             }
            },
            "type": "barpolar"
           }
          ],
          "carpet": [
           {
            "aaxis": {
             "endlinecolor": "#2a3f5f",
             "gridcolor": "white",
             "linecolor": "white",
             "minorgridcolor": "white",
             "startlinecolor": "#2a3f5f"
            },
            "baxis": {
             "endlinecolor": "#2a3f5f",
             "gridcolor": "white",
             "linecolor": "white",
             "minorgridcolor": "white",
             "startlinecolor": "#2a3f5f"
            },
            "type": "carpet"
           }
          ],
          "choropleth": [
           {
            "colorbar": {
             "outlinewidth": 0,
             "ticks": ""
            },
            "type": "choropleth"
           }
          ],
          "contour": [
           {
            "colorbar": {
             "outlinewidth": 0,
             "ticks": ""
            },
            "colorscale": [
             [
              0,
              "#0d0887"
             ],
             [
              0.1111111111111111,
              "#46039f"
             ],
             [
              0.2222222222222222,
              "#7201a8"
             ],
             [
              0.3333333333333333,
              "#9c179e"
             ],
             [
              0.4444444444444444,
              "#bd3786"
             ],
             [
              0.5555555555555556,
              "#d8576b"
             ],
             [
              0.6666666666666666,
              "#ed7953"
             ],
             [
              0.7777777777777778,
              "#fb9f3a"
             ],
             [
              0.8888888888888888,
              "#fdca26"
             ],
             [
              1,
              "#f0f921"
             ]
            ],
            "type": "contour"
           }
          ],
          "contourcarpet": [
           {
            "colorbar": {
             "outlinewidth": 0,
             "ticks": ""
            },
            "type": "contourcarpet"
           }
          ],
          "heatmap": [
           {
            "colorbar": {
             "outlinewidth": 0,
             "ticks": ""
            },
            "colorscale": [
             [
              0,
              "#0d0887"
             ],
             [
              0.1111111111111111,
              "#46039f"
             ],
             [
              0.2222222222222222,
              "#7201a8"
             ],
             [
              0.3333333333333333,
              "#9c179e"
             ],
             [
              0.4444444444444444,
              "#bd3786"
             ],
             [
              0.5555555555555556,
              "#d8576b"
             ],
             [
              0.6666666666666666,
              "#ed7953"
             ],
             [
              0.7777777777777778,
              "#fb9f3a"
             ],
             [
              0.8888888888888888,
              "#fdca26"
             ],
             [
              1,
              "#f0f921"
             ]
            ],
            "type": "heatmap"
           }
          ],
          "heatmapgl": [
           {
            "colorbar": {
             "outlinewidth": 0,
             "ticks": ""
            },
            "colorscale": [
             [
              0,
              "#0d0887"
             ],
             [
              0.1111111111111111,
              "#46039f"
             ],
             [
              0.2222222222222222,
              "#7201a8"
             ],
             [
              0.3333333333333333,
              "#9c179e"
             ],
             [
              0.4444444444444444,
              "#bd3786"
             ],
             [
              0.5555555555555556,
              "#d8576b"
             ],
             [
              0.6666666666666666,
              "#ed7953"
             ],
             [
              0.7777777777777778,
              "#fb9f3a"
             ],
             [
              0.8888888888888888,
              "#fdca26"
             ],
             [
              1,
              "#f0f921"
             ]
            ],
            "type": "heatmapgl"
           }
          ],
          "histogram": [
           {
            "marker": {
             "pattern": {
              "fillmode": "overlay",
              "size": 10,
              "solidity": 0.2
             }
            },
            "type": "histogram"
           }
          ],
          "histogram2d": [
           {
            "colorbar": {
             "outlinewidth": 0,
             "ticks": ""
            },
            "colorscale": [
             [
              0,
              "#0d0887"
             ],
             [
              0.1111111111111111,
              "#46039f"
             ],
             [
              0.2222222222222222,
              "#7201a8"
             ],
             [
              0.3333333333333333,
              "#9c179e"
             ],
             [
              0.4444444444444444,
              "#bd3786"
             ],
             [
              0.5555555555555556,
              "#d8576b"
             ],
             [
              0.6666666666666666,
              "#ed7953"
             ],
             [
              0.7777777777777778,
              "#fb9f3a"
             ],
             [
              0.8888888888888888,
              "#fdca26"
             ],
             [
              1,
              "#f0f921"
             ]
            ],
            "type": "histogram2d"
           }
          ],
          "histogram2dcontour": [
           {
            "colorbar": {
             "outlinewidth": 0,
             "ticks": ""
            },
            "colorscale": [
             [
              0,
              "#0d0887"
             ],
             [
              0.1111111111111111,
              "#46039f"
             ],
             [
              0.2222222222222222,
              "#7201a8"
             ],
             [
              0.3333333333333333,
              "#9c179e"
             ],
             [
              0.4444444444444444,
              "#bd3786"
             ],
             [
              0.5555555555555556,
              "#d8576b"
             ],
             [
              0.6666666666666666,
              "#ed7953"
             ],
             [
              0.7777777777777778,
              "#fb9f3a"
             ],
             [
              0.8888888888888888,
              "#fdca26"
             ],
             [
              1,
              "#f0f921"
             ]
            ],
            "type": "histogram2dcontour"
           }
          ],
          "mesh3d": [
           {
            "colorbar": {
             "outlinewidth": 0,
             "ticks": ""
            },
            "type": "mesh3d"
           }
          ],
          "parcoords": [
           {
            "line": {
             "colorbar": {
              "outlinewidth": 0,
              "ticks": ""
             }
            },
            "type": "parcoords"
           }
          ],
          "pie": [
           {
            "automargin": true,
            "type": "pie"
           }
          ],
          "scatter": [
           {
            "marker": {
             "colorbar": {
              "outlinewidth": 0,
              "ticks": ""
             }
            },
            "type": "scatter"
           }
          ],
          "scatter3d": [
           {
            "line": {
             "colorbar": {
              "outlinewidth": 0,
              "ticks": ""
             }
            },
            "marker": {
             "colorbar": {
              "outlinewidth": 0,
              "ticks": ""
             }
            },
            "type": "scatter3d"
           }
          ],
          "scattercarpet": [
           {
            "marker": {
             "colorbar": {
              "outlinewidth": 0,
              "ticks": ""
             }
            },
            "type": "scattercarpet"
           }
          ],
          "scattergeo": [
           {
            "marker": {
             "colorbar": {
              "outlinewidth": 0,
              "ticks": ""
             }
            },
            "type": "scattergeo"
           }
          ],
          "scattergl": [
           {
            "marker": {
             "colorbar": {
              "outlinewidth": 0,
              "ticks": ""
             }
            },
            "type": "scattergl"
           }
          ],
          "scattermapbox": [
           {
            "marker": {
             "colorbar": {
              "outlinewidth": 0,
              "ticks": ""
             }
            },
            "type": "scattermapbox"
           }
          ],
          "scatterpolar": [
           {
            "marker": {
             "colorbar": {
              "outlinewidth": 0,
              "ticks": ""
             }
            },
            "type": "scatterpolar"
           }
          ],
          "scatterpolargl": [
           {
            "marker": {
             "colorbar": {
              "outlinewidth": 0,
              "ticks": ""
             }
            },
            "type": "scatterpolargl"
           }
          ],
          "scatterternary": [
           {
            "marker": {
             "colorbar": {
              "outlinewidth": 0,
              "ticks": ""
             }
            },
            "type": "scatterternary"
           }
          ],
          "surface": [
           {
            "colorbar": {
             "outlinewidth": 0,
             "ticks": ""
            },
            "colorscale": [
             [
              0,
              "#0d0887"
             ],
             [
              0.1111111111111111,
              "#46039f"
             ],
             [
              0.2222222222222222,
              "#7201a8"
             ],
             [
              0.3333333333333333,
              "#9c179e"
             ],
             [
              0.4444444444444444,
              "#bd3786"
             ],
             [
              0.5555555555555556,
              "#d8576b"
             ],
             [
              0.6666666666666666,
              "#ed7953"
             ],
             [
              0.7777777777777778,
              "#fb9f3a"
             ],
             [
              0.8888888888888888,
              "#fdca26"
             ],
             [
              1,
              "#f0f921"
             ]
            ],
            "type": "surface"
           }
          ],
          "table": [
           {
            "cells": {
             "fill": {
              "color": "#EBF0F8"
             },
             "line": {
              "color": "white"
             }
            },
            "header": {
             "fill": {
              "color": "#C8D4E3"
             },
             "line": {
              "color": "white"
             }
            },
            "type": "table"
           }
          ]
         },
         "layout": {
          "annotationdefaults": {
           "arrowcolor": "#2a3f5f",
           "arrowhead": 0,
           "arrowwidth": 1
          },
          "autotypenumbers": "strict",
          "coloraxis": {
           "colorbar": {
            "outlinewidth": 0,
            "ticks": ""
           }
          },
          "colorscale": {
           "diverging": [
            [
             0,
             "#8e0152"
            ],
            [
             0.1,
             "#c51b7d"
            ],
            [
             0.2,
             "#de77ae"
            ],
            [
             0.3,
             "#f1b6da"
            ],
            [
             0.4,
             "#fde0ef"
            ],
            [
             0.5,
             "#f7f7f7"
            ],
            [
             0.6,
             "#e6f5d0"
            ],
            [
             0.7,
             "#b8e186"
            ],
            [
             0.8,
             "#7fbc41"
            ],
            [
             0.9,
             "#4d9221"
            ],
            [
             1,
             "#276419"
            ]
           ],
           "sequential": [
            [
             0,
             "#0d0887"
            ],
            [
             0.1111111111111111,
             "#46039f"
            ],
            [
             0.2222222222222222,
             "#7201a8"
            ],
            [
             0.3333333333333333,
             "#9c179e"
            ],
            [
             0.4444444444444444,
             "#bd3786"
            ],
            [
             0.5555555555555556,
             "#d8576b"
            ],
            [
             0.6666666666666666,
             "#ed7953"
            ],
            [
             0.7777777777777778,
             "#fb9f3a"
            ],
            [
             0.8888888888888888,
             "#fdca26"
            ],
            [
             1,
             "#f0f921"
            ]
           ],
           "sequentialminus": [
            [
             0,
             "#0d0887"
            ],
            [
             0.1111111111111111,
             "#46039f"
            ],
            [
             0.2222222222222222,
             "#7201a8"
            ],
            [
             0.3333333333333333,
             "#9c179e"
            ],
            [
             0.4444444444444444,
             "#bd3786"
            ],
            [
             0.5555555555555556,
             "#d8576b"
            ],
            [
             0.6666666666666666,
             "#ed7953"
            ],
            [
             0.7777777777777778,
             "#fb9f3a"
            ],
            [
             0.8888888888888888,
             "#fdca26"
            ],
            [
             1,
             "#f0f921"
            ]
           ]
          },
          "colorway": [
           "#636efa",
           "#EF553B",
           "#00cc96",
           "#ab63fa",
           "#FFA15A",
           "#19d3f3",
           "#FF6692",
           "#B6E880",
           "#FF97FF",
           "#FECB52"
          ],
          "font": {
           "color": "#2a3f5f"
          },
          "geo": {
           "bgcolor": "white",
           "lakecolor": "white",
           "landcolor": "#E5ECF6",
           "showlakes": true,
           "showland": true,
           "subunitcolor": "white"
          },
          "hoverlabel": {
           "align": "left"
          },
          "hovermode": "closest",
          "mapbox": {
           "style": "light"
          },
          "paper_bgcolor": "white",
          "plot_bgcolor": "#E5ECF6",
          "polar": {
           "angularaxis": {
            "gridcolor": "white",
            "linecolor": "white",
            "ticks": ""
           },
           "bgcolor": "#E5ECF6",
           "radialaxis": {
            "gridcolor": "white",
            "linecolor": "white",
            "ticks": ""
           }
          },
          "scene": {
           "xaxis": {
            "backgroundcolor": "#E5ECF6",
            "gridcolor": "white",
            "gridwidth": 2,
            "linecolor": "white",
            "showbackground": true,
            "ticks": "",
            "zerolinecolor": "white"
           },
           "yaxis": {
            "backgroundcolor": "#E5ECF6",
            "gridcolor": "white",
            "gridwidth": 2,
            "linecolor": "white",
            "showbackground": true,
            "ticks": "",
            "zerolinecolor": "white"
           },
           "zaxis": {
            "backgroundcolor": "#E5ECF6",
            "gridcolor": "white",
            "gridwidth": 2,
            "linecolor": "white",
            "showbackground": true,
            "ticks": "",
            "zerolinecolor": "white"
           }
          },
          "shapedefaults": {
           "line": {
            "color": "#2a3f5f"
           }
          },
          "ternary": {
           "aaxis": {
            "gridcolor": "white",
            "linecolor": "white",
            "ticks": ""
           },
           "baxis": {
            "gridcolor": "white",
            "linecolor": "white",
            "ticks": ""
           },
           "bgcolor": "#E5ECF6",
           "caxis": {
            "gridcolor": "white",
            "linecolor": "white",
            "ticks": ""
           }
          },
          "title": {
           "x": 0.05
          },
          "xaxis": {
           "automargin": true,
           "gridcolor": "white",
           "linecolor": "white",
           "ticks": "",
           "title": {
            "standoff": 15
           },
           "zerolinecolor": "white",
           "zerolinewidth": 2
          },
          "yaxis": {
           "automargin": true,
           "gridcolor": "white",
           "linecolor": "white",
           "ticks": "",
           "title": {
            "standoff": 15
           },
           "zerolinecolor": "white",
           "zerolinewidth": 2
          }
         }
        },
        "xaxis": {
         "anchor": "y",
         "domain": [
          0,
          0.94
         ]
        },
        "yaxis": {
         "anchor": "x",
         "domain": [
          0,
          1
         ]
        },
        "yaxis2": {
         "anchor": "x",
         "overlaying": "y",
         "side": "right"
        }
       }
      }
     },
     "metadata": {}
    }
   ],
   "metadata": {}
  },
  {
   "cell_type": "code",
   "execution_count": 31,
   "source": [
    "import requests\n",
    "import datetime\n",
    "import json\n",
    "import plotly\n",
    "import plotly.graph_objs as go\n",
    "import plotly.graph_objects as px\n",
    "from collections import defaultdict\n",
    "from plotly.subplots import make_subplots\n",
    "import base64\n",
    "from statistics import stdev,mean\n",
    "\n",
    "LCD_ENDPOINT = \"https://tequila-fcd.terra.dev/v1/txs/\"\n",
    "CONTRACT = \"terra1qzzcc8r04ylr20lwzhlafwynqtmjdnrzlc35jh\"\n",
    "\n",
    "LCD_ENDPOINT = \"https://fcd.terra.dev/v1/txs/\"\n",
    "CONTRACT = \"terra1mtwph2juhj0rvjz7dy92gvl6xvukaxu8rfv8ts\"\n",
    "\n",
    "\n",
    "def fetch_txs():\n",
    "    txs = []\n",
    "    params = {\n",
    "        \"account\": CONTRACT,\n",
    "        \"limit\": 100\n",
    "    }\n",
    "    i = 0\n",
    "    until_day = datetime.date(2021, 5, 18)\n",
    "    day = datetime.date.today()\n",
    "    while day >= until_day:\n",
    "        resp = requests.get(LCD_ENDPOINT, params=params)\n",
    "        txs = txs + resp.json()['txs']\n",
    "        n = resp.json()['next']\n",
    "        params['offset'] = n\n",
    "        i += 1\n",
    "        day = datetime.datetime.strptime(\n",
    "            resp.json()['txs'][0][\"timestamp\"], \"%Y-%m-%dT%H:%M:%SZ\").date()\n",
    "        print(resp.json()['txs'][0][\"timestamp\"])\n",
    "\n",
    "    valuable_txs = []\n",
    "    for tx in txs:\n",
    "        tx.pop('logs', None)\n",
    "        tx.pop('raw_log', None)\n",
    "        # if get_uluna(tx,CONTRACT) >0:\n",
    "        #     valuable_txs.append(tx)\n",
    "    return txs\n",
    "\n",
    "\n",
    "def get_uluna(tx, contract):\n",
    "    coins = [(msg['value']['coins'],(base64.b64decode(msg['value']['execute_msg']).decode(\"utf-8\"))) for msg in tx['tx']['value']['msg']\n",
    "             if 'coins' in msg['value'] and msg['value']['contract'] == contract]\n",
    "    if len(coins) > 0 and len(coins[0][0]) > 0:\n",
    "        if coins[0][0][0]['denom'] == 'uluna':\n",
    "            return (int(coins[0][0][0]['amount']),coins[0][1])\n",
    "    return (0,\"\")\n",
    "\n",
    "\n",
    "\n",
    "def funds_per_day(tx_list):\n",
    "    funds = defaultdict(lambda: defaultdict(int))\n",
    "    send_number = defaultdict(int)\n",
    "    for tx in tx_list:\n",
    "        day = datetime.datetime.strptime(\n",
    "            tx[\"timestamp\"], \"%Y-%m-%dT%H:%M:%SZ\").date()\n",
    "        uluna,msg = get_uluna(tx, CONTRACT)\n",
    "        funds[day][msg] = funds[day][msg] + uluna\n",
    "        send_number[day] += 1\n",
    "    return funds, send_number\n",
    "\n",
    "\n",
    "if False:\n",
    "    txs = fetch_txs()\n",
    "    fd = open(\"txs-dump.json\", \"w\")\n",
    "    fd.write(json.dumps(txs))\n",
    "    fd.close()\n",
    "else:\n",
    "    fd = open(\"txs-dump.json\")\n",
    "    txs = json.loads(fd.read())\n",
    "\n",
    "\n",
    "days = []\n",
    "sums = []\n",
    "delegation_list = []\n",
    "funds, delegations = funds_per_day(txs)\n",
    "funds_by_message = defaultdict(lambda: defaultdict(int))\n",
    "for k, v in funds.items():\n",
    "    days.append(k)\n",
    "    sums.append(sum(list(v.values())))\n",
    "    delegation_list.append(delegations[k])\n",
    "    for msg in v.keys():\n",
    "        funds_by_message[msg][k] = v[msg]\n",
    "\n",
    "print(stdev(delegation_list))\n",
    "print(mean(delegation_list))\n",
    "fig = make_subplots(specs=[[{\"secondary_y\": True}]])\n",
    "fig.add_trace(go.Scatter(x=days, y=sums, name=\"Суммы по дням\"),\n",
    "              secondary_y=False)\n",
    "fig.add_trace(go.Scatter(x=days, y=delegation_list,\n",
    "                         name=\"Кол-во делегаций\"), secondary_y=True)\n",
    "fig.show()\n",
    "\n",
    "bars = []\n",
    "for msg,data in funds_by_message.items():\n",
    "    days = list(data.keys())\n",
    "    coins = list(data.values())\n",
    "    bars.append(\n",
    "        go.Bar(\n",
    "            name=msg\n",
    "        ,x=days,y=coins)\n",
    "    )\n",
    "plot = px.Figure(data=bars)\n",
    "\n",
    "plot.update_layout(barmode='stack')\n",
    "\n",
    "plot.show()\n"
   ],
   "outputs": [
    {
     "output_type": "stream",
     "name": "stdout",
     "text": [
      "326.6534592747188\n",
      "788.5416666666666\n"
     ]
    },
    {
     "output_type": "display_data",
     "data": {
      "application/vnd.plotly.v1+json": {
       "config": {
        "plotlyServerURL": "https://plot.ly"
       },
       "data": [
        {
         "name": "Суммы по дням",
         "type": "scatter",
         "x": [
          "2021-08-20",
          "2021-08-19",
          "2021-08-18",
          "2021-08-17",
          "2021-08-16",
          "2021-08-15",
          "2021-08-14",
          "2021-08-13",
          "2021-08-12",
          "2021-08-11",
          "2021-08-10",
          "2021-08-09",
          "2021-08-08",
          "2021-08-07",
          "2021-08-06",
          "2021-08-05",
          "2021-08-04",
          "2021-08-03",
          "2021-08-02",
          "2021-08-01",
          "2021-07-31",
          "2021-07-30",
          "2021-07-29",
          "2021-07-28",
          "2021-07-27",
          "2021-07-26",
          "2021-07-25",
          "2021-07-24",
          "2021-07-23",
          "2021-07-22",
          "2021-07-21",
          "2021-07-20",
          "2021-07-19",
          "2021-07-18",
          "2021-07-17",
          "2021-07-16",
          "2021-07-15",
          "2021-07-14",
          "2021-07-13",
          "2021-07-12",
          "2021-07-11",
          "2021-07-10",
          "2021-07-09",
          "2021-07-08",
          "2021-07-07",
          "2021-07-06",
          "2021-07-05",
          "2021-07-04",
          "2021-07-03",
          "2021-07-02",
          "2021-07-01",
          "2021-06-30",
          "2021-06-29",
          "2021-06-28",
          "2021-06-27",
          "2021-06-26",
          "2021-06-25",
          "2021-06-24",
          "2021-06-23",
          "2021-06-22",
          "2021-06-21",
          "2021-06-20",
          "2021-06-19",
          "2021-06-18",
          "2021-06-17",
          "2021-06-16",
          "2021-06-15",
          "2021-06-14",
          "2021-06-13",
          "2021-06-12",
          "2021-06-11",
          "2021-06-10",
          "2021-06-09",
          "2021-06-08",
          "2021-06-07",
          "2021-06-06",
          "2021-06-05",
          "2021-06-04",
          "2021-06-03",
          "2021-06-02",
          "2021-06-01",
          "2021-05-31",
          "2021-05-30",
          "2021-05-29",
          "2021-05-28",
          "2021-05-27",
          "2021-05-26",
          "2021-05-25",
          "2021-05-24",
          "2021-05-23",
          "2021-05-22",
          "2021-05-21",
          "2021-05-20",
          "2021-05-19",
          "2021-05-18",
          "2021-05-17"
         ],
         "xaxis": "x",
         "y": [
          41393775927,
          74508098577,
          142178475574,
          150435085682,
          250538333559,
          52023449169,
          88349809297,
          103261398784,
          83858217795,
          116586549180,
          118199186806,
          52859809065,
          122261107091,
          64295605507,
          39685690533,
          50292966663,
          787677336579,
          227256803187,
          58053993787,
          74007118879,
          120413907419,
          756043510085,
          103556439229,
          212192743281,
          43204806418,
          188535673584,
          44913517005,
          160332514980,
          150414100716,
          240381693726,
          80651217243,
          943416886295,
          114427007269,
          145054805334,
          158157001324,
          398686936740,
          86341785436,
          1299395889885,
          92554313392,
          110546095040,
          119771527932,
          86584922994,
          102207779927,
          105622647088,
          507164439111,
          111549256848,
          148874535791,
          369633148877,
          289638866706,
          437162972928,
          270735635765,
          373930452786,
          347269742915,
          455814703091,
          156019812419,
          314391106138,
          416697122542,
          235563318239,
          463532179360,
          3013131885207,
          957025722147,
          566492674889,
          575071429479,
          1144226478716,
          241859113698,
          507566419108,
          645766855678,
          536045518294,
          1299431049405,
          910110498573,
          1003120097892,
          833304007656,
          1237151553919,
          1474454196522,
          997837290793,
          320192907608,
          390888651757,
          1263914295711,
          701098002993,
          228807266347,
          1695244840006,
          3266703497504,
          196292442688,
          637132113810,
          309942655350,
          265414953849,
          328932407262,
          341165808643,
          264247886086,
          2769957302914,
          537104888384,
          256094507516,
          1435034396071,
          694044432573,
          121984311760,
          27997959919
         ],
         "yaxis": "y"
        },
        {
         "name": "Кол-во делегаций",
         "type": "scatter",
         "x": [
          "2021-08-20",
          "2021-08-19",
          "2021-08-18",
          "2021-08-17",
          "2021-08-16",
          "2021-08-15",
          "2021-08-14",
          "2021-08-13",
          "2021-08-12",
          "2021-08-11",
          "2021-08-10",
          "2021-08-09",
          "2021-08-08",
          "2021-08-07",
          "2021-08-06",
          "2021-08-05",
          "2021-08-04",
          "2021-08-03",
          "2021-08-02",
          "2021-08-01",
          "2021-07-31",
          "2021-07-30",
          "2021-07-29",
          "2021-07-28",
          "2021-07-27",
          "2021-07-26",
          "2021-07-25",
          "2021-07-24",
          "2021-07-23",
          "2021-07-22",
          "2021-07-21",
          "2021-07-20",
          "2021-07-19",
          "2021-07-18",
          "2021-07-17",
          "2021-07-16",
          "2021-07-15",
          "2021-07-14",
          "2021-07-13",
          "2021-07-12",
          "2021-07-11",
          "2021-07-10",
          "2021-07-09",
          "2021-07-08",
          "2021-07-07",
          "2021-07-06",
          "2021-07-05",
          "2021-07-04",
          "2021-07-03",
          "2021-07-02",
          "2021-07-01",
          "2021-06-30",
          "2021-06-29",
          "2021-06-28",
          "2021-06-27",
          "2021-06-26",
          "2021-06-25",
          "2021-06-24",
          "2021-06-23",
          "2021-06-22",
          "2021-06-21",
          "2021-06-20",
          "2021-06-19",
          "2021-06-18",
          "2021-06-17",
          "2021-06-16",
          "2021-06-15",
          "2021-06-14",
          "2021-06-13",
          "2021-06-12",
          "2021-06-11",
          "2021-06-10",
          "2021-06-09",
          "2021-06-08",
          "2021-06-07",
          "2021-06-06",
          "2021-06-05",
          "2021-06-04",
          "2021-06-03",
          "2021-06-02",
          "2021-06-01",
          "2021-05-31",
          "2021-05-30",
          "2021-05-29",
          "2021-05-28",
          "2021-05-27",
          "2021-05-26",
          "2021-05-25",
          "2021-05-24",
          "2021-05-23",
          "2021-05-22",
          "2021-05-21",
          "2021-05-20",
          "2021-05-19",
          "2021-05-18",
          "2021-05-17"
         ],
         "xaxis": "x",
         "y": [
          468,
          1466,
          1372,
          1182,
          1391,
          766,
          679,
          728,
          693,
          863,
          767,
          606,
          673,
          630,
          608,
          628,
          941,
          1068,
          680,
          667,
          654,
          594,
          761,
          750,
          616,
          750,
          540,
          640,
          707,
          675,
          614,
          884,
          779,
          586,
          596,
          739,
          712,
          751,
          767,
          632,
          708,
          711,
          771,
          671,
          802,
          643,
          736,
          624,
          616,
          632,
          578,
          622,
          694,
          689,
          537,
          537,
          580,
          571,
          547,
          1042,
          1041,
          768,
          660,
          859,
          614,
          725,
          996,
          725,
          796,
          932,
          729,
          793,
          1074,
          1282,
          715,
          550,
          548,
          683,
          685,
          577,
          650,
          669,
          545,
          629,
          727,
          595,
          755,
          779,
          950,
          1904,
          1415,
          1393,
          1775,
          2566,
          526,
          136
         ],
         "yaxis": "y2"
        }
       ],
       "layout": {
        "template": {
         "data": {
          "bar": [
           {
            "error_x": {
             "color": "#2a3f5f"
            },
            "error_y": {
             "color": "#2a3f5f"
            },
            "marker": {
             "line": {
              "color": "#E5ECF6",
              "width": 0.5
             },
             "pattern": {
              "fillmode": "overlay",
              "size": 10,
              "solidity": 0.2
             }
            },
            "type": "bar"
           }
          ],
          "barpolar": [
           {
            "marker": {
             "line": {
              "color": "#E5ECF6",
              "width": 0.5
             },
             "pattern": {
              "fillmode": "overlay",
              "size": 10,
              "solidity": 0.2
             }
            },
            "type": "barpolar"
           }
          ],
          "carpet": [
           {
            "aaxis": {
             "endlinecolor": "#2a3f5f",
             "gridcolor": "white",
             "linecolor": "white",
             "minorgridcolor": "white",
             "startlinecolor": "#2a3f5f"
            },
            "baxis": {
             "endlinecolor": "#2a3f5f",
             "gridcolor": "white",
             "linecolor": "white",
             "minorgridcolor": "white",
             "startlinecolor": "#2a3f5f"
            },
            "type": "carpet"
           }
          ],
          "choropleth": [
           {
            "colorbar": {
             "outlinewidth": 0,
             "ticks": ""
            },
            "type": "choropleth"
           }
          ],
          "contour": [
           {
            "colorbar": {
             "outlinewidth": 0,
             "ticks": ""
            },
            "colorscale": [
             [
              0,
              "#0d0887"
             ],
             [
              0.1111111111111111,
              "#46039f"
             ],
             [
              0.2222222222222222,
              "#7201a8"
             ],
             [
              0.3333333333333333,
              "#9c179e"
             ],
             [
              0.4444444444444444,
              "#bd3786"
             ],
             [
              0.5555555555555556,
              "#d8576b"
             ],
             [
              0.6666666666666666,
              "#ed7953"
             ],
             [
              0.7777777777777778,
              "#fb9f3a"
             ],
             [
              0.8888888888888888,
              "#fdca26"
             ],
             [
              1,
              "#f0f921"
             ]
            ],
            "type": "contour"
           }
          ],
          "contourcarpet": [
           {
            "colorbar": {
             "outlinewidth": 0,
             "ticks": ""
            },
            "type": "contourcarpet"
           }
          ],
          "heatmap": [
           {
            "colorbar": {
             "outlinewidth": 0,
             "ticks": ""
            },
            "colorscale": [
             [
              0,
              "#0d0887"
             ],
             [
              0.1111111111111111,
              "#46039f"
             ],
             [
              0.2222222222222222,
              "#7201a8"
             ],
             [
              0.3333333333333333,
              "#9c179e"
             ],
             [
              0.4444444444444444,
              "#bd3786"
             ],
             [
              0.5555555555555556,
              "#d8576b"
             ],
             [
              0.6666666666666666,
              "#ed7953"
             ],
             [
              0.7777777777777778,
              "#fb9f3a"
             ],
             [
              0.8888888888888888,
              "#fdca26"
             ],
             [
              1,
              "#f0f921"
             ]
            ],
            "type": "heatmap"
           }
          ],
          "heatmapgl": [
           {
            "colorbar": {
             "outlinewidth": 0,
             "ticks": ""
            },
            "colorscale": [
             [
              0,
              "#0d0887"
             ],
             [
              0.1111111111111111,
              "#46039f"
             ],
             [
              0.2222222222222222,
              "#7201a8"
             ],
             [
              0.3333333333333333,
              "#9c179e"
             ],
             [
              0.4444444444444444,
              "#bd3786"
             ],
             [
              0.5555555555555556,
              "#d8576b"
             ],
             [
              0.6666666666666666,
              "#ed7953"
             ],
             [
              0.7777777777777778,
              "#fb9f3a"
             ],
             [
              0.8888888888888888,
              "#fdca26"
             ],
             [
              1,
              "#f0f921"
             ]
            ],
            "type": "heatmapgl"
           }
          ],
          "histogram": [
           {
            "marker": {
             "pattern": {
              "fillmode": "overlay",
              "size": 10,
              "solidity": 0.2
             }
            },
            "type": "histogram"
           }
          ],
          "histogram2d": [
           {
            "colorbar": {
             "outlinewidth": 0,
             "ticks": ""
            },
            "colorscale": [
             [
              0,
              "#0d0887"
             ],
             [
              0.1111111111111111,
              "#46039f"
             ],
             [
              0.2222222222222222,
              "#7201a8"
             ],
             [
              0.3333333333333333,
              "#9c179e"
             ],
             [
              0.4444444444444444,
              "#bd3786"
             ],
             [
              0.5555555555555556,
              "#d8576b"
             ],
             [
              0.6666666666666666,
              "#ed7953"
             ],
             [
              0.7777777777777778,
              "#fb9f3a"
             ],
             [
              0.8888888888888888,
              "#fdca26"
             ],
             [
              1,
              "#f0f921"
             ]
            ],
            "type": "histogram2d"
           }
          ],
          "histogram2dcontour": [
           {
            "colorbar": {
             "outlinewidth": 0,
             "ticks": ""
            },
            "colorscale": [
             [
              0,
              "#0d0887"
             ],
             [
              0.1111111111111111,
              "#46039f"
             ],
             [
              0.2222222222222222,
              "#7201a8"
             ],
             [
              0.3333333333333333,
              "#9c179e"
             ],
             [
              0.4444444444444444,
              "#bd3786"
             ],
             [
              0.5555555555555556,
              "#d8576b"
             ],
             [
              0.6666666666666666,
              "#ed7953"
             ],
             [
              0.7777777777777778,
              "#fb9f3a"
             ],
             [
              0.8888888888888888,
              "#fdca26"
             ],
             [
              1,
              "#f0f921"
             ]
            ],
            "type": "histogram2dcontour"
           }
          ],
          "mesh3d": [
           {
            "colorbar": {
             "outlinewidth": 0,
             "ticks": ""
            },
            "type": "mesh3d"
           }
          ],
          "parcoords": [
           {
            "line": {
             "colorbar": {
              "outlinewidth": 0,
              "ticks": ""
             }
            },
            "type": "parcoords"
           }
          ],
          "pie": [
           {
            "automargin": true,
            "type": "pie"
           }
          ],
          "scatter": [
           {
            "marker": {
             "colorbar": {
              "outlinewidth": 0,
              "ticks": ""
             }
            },
            "type": "scatter"
           }
          ],
          "scatter3d": [
           {
            "line": {
             "colorbar": {
              "outlinewidth": 0,
              "ticks": ""
             }
            },
            "marker": {
             "colorbar": {
              "outlinewidth": 0,
              "ticks": ""
             }
            },
            "type": "scatter3d"
           }
          ],
          "scattercarpet": [
           {
            "marker": {
             "colorbar": {
              "outlinewidth": 0,
              "ticks": ""
             }
            },
            "type": "scattercarpet"
           }
          ],
          "scattergeo": [
           {
            "marker": {
             "colorbar": {
              "outlinewidth": 0,
              "ticks": ""
             }
            },
            "type": "scattergeo"
           }
          ],
          "scattergl": [
           {
            "marker": {
             "colorbar": {
              "outlinewidth": 0,
              "ticks": ""
             }
            },
            "type": "scattergl"
           }
          ],
          "scattermapbox": [
           {
            "marker": {
             "colorbar": {
              "outlinewidth": 0,
              "ticks": ""
             }
            },
            "type": "scattermapbox"
           }
          ],
          "scatterpolar": [
           {
            "marker": {
             "colorbar": {
              "outlinewidth": 0,
              "ticks": ""
             }
            },
            "type": "scatterpolar"
           }
          ],
          "scatterpolargl": [
           {
            "marker": {
             "colorbar": {
              "outlinewidth": 0,
              "ticks": ""
             }
            },
            "type": "scatterpolargl"
           }
          ],
          "scatterternary": [
           {
            "marker": {
             "colorbar": {
              "outlinewidth": 0,
              "ticks": ""
             }
            },
            "type": "scatterternary"
           }
          ],
          "surface": [
           {
            "colorbar": {
             "outlinewidth": 0,
             "ticks": ""
            },
            "colorscale": [
             [
              0,
              "#0d0887"
             ],
             [
              0.1111111111111111,
              "#46039f"
             ],
             [
              0.2222222222222222,
              "#7201a8"
             ],
             [
              0.3333333333333333,
              "#9c179e"
             ],
             [
              0.4444444444444444,
              "#bd3786"
             ],
             [
              0.5555555555555556,
              "#d8576b"
             ],
             [
              0.6666666666666666,
              "#ed7953"
             ],
             [
              0.7777777777777778,
              "#fb9f3a"
             ],
             [
              0.8888888888888888,
              "#fdca26"
             ],
             [
              1,
              "#f0f921"
             ]
            ],
            "type": "surface"
           }
          ],
          "table": [
           {
            "cells": {
             "fill": {
              "color": "#EBF0F8"
             },
             "line": {
              "color": "white"
             }
            },
            "header": {
             "fill": {
              "color": "#C8D4E3"
             },
             "line": {
              "color": "white"
             }
            },
            "type": "table"
           }
          ]
         },
         "layout": {
          "annotationdefaults": {
           "arrowcolor": "#2a3f5f",
           "arrowhead": 0,
           "arrowwidth": 1
          },
          "autotypenumbers": "strict",
          "coloraxis": {
           "colorbar": {
            "outlinewidth": 0,
            "ticks": ""
           }
          },
          "colorscale": {
           "diverging": [
            [
             0,
             "#8e0152"
            ],
            [
             0.1,
             "#c51b7d"
            ],
            [
             0.2,
             "#de77ae"
            ],
            [
             0.3,
             "#f1b6da"
            ],
            [
             0.4,
             "#fde0ef"
            ],
            [
             0.5,
             "#f7f7f7"
            ],
            [
             0.6,
             "#e6f5d0"
            ],
            [
             0.7,
             "#b8e186"
            ],
            [
             0.8,
             "#7fbc41"
            ],
            [
             0.9,
             "#4d9221"
            ],
            [
             1,
             "#276419"
            ]
           ],
           "sequential": [
            [
             0,
             "#0d0887"
            ],
            [
             0.1111111111111111,
             "#46039f"
            ],
            [
             0.2222222222222222,
             "#7201a8"
            ],
            [
             0.3333333333333333,
             "#9c179e"
            ],
            [
             0.4444444444444444,
             "#bd3786"
            ],
            [
             0.5555555555555556,
             "#d8576b"
            ],
            [
             0.6666666666666666,
             "#ed7953"
            ],
            [
             0.7777777777777778,
             "#fb9f3a"
            ],
            [
             0.8888888888888888,
             "#fdca26"
            ],
            [
             1,
             "#f0f921"
            ]
           ],
           "sequentialminus": [
            [
             0,
             "#0d0887"
            ],
            [
             0.1111111111111111,
             "#46039f"
            ],
            [
             0.2222222222222222,
             "#7201a8"
            ],
            [
             0.3333333333333333,
             "#9c179e"
            ],
            [
             0.4444444444444444,
             "#bd3786"
            ],
            [
             0.5555555555555556,
             "#d8576b"
            ],
            [
             0.6666666666666666,
             "#ed7953"
            ],
            [
             0.7777777777777778,
             "#fb9f3a"
            ],
            [
             0.8888888888888888,
             "#fdca26"
            ],
            [
             1,
             "#f0f921"
            ]
           ]
          },
          "colorway": [
           "#636efa",
           "#EF553B",
           "#00cc96",
           "#ab63fa",
           "#FFA15A",
           "#19d3f3",
           "#FF6692",
           "#B6E880",
           "#FF97FF",
           "#FECB52"
          ],
          "font": {
           "color": "#2a3f5f"
          },
          "geo": {
           "bgcolor": "white",
           "lakecolor": "white",
           "landcolor": "#E5ECF6",
           "showlakes": true,
           "showland": true,
           "subunitcolor": "white"
          },
          "hoverlabel": {
           "align": "left"
          },
          "hovermode": "closest",
          "mapbox": {
           "style": "light"
          },
          "paper_bgcolor": "white",
          "plot_bgcolor": "#E5ECF6",
          "polar": {
           "angularaxis": {
            "gridcolor": "white",
            "linecolor": "white",
            "ticks": ""
           },
           "bgcolor": "#E5ECF6",
           "radialaxis": {
            "gridcolor": "white",
            "linecolor": "white",
            "ticks": ""
           }
          },
          "scene": {
           "xaxis": {
            "backgroundcolor": "#E5ECF6",
            "gridcolor": "white",
            "gridwidth": 2,
            "linecolor": "white",
            "showbackground": true,
            "ticks": "",
            "zerolinecolor": "white"
           },
           "yaxis": {
            "backgroundcolor": "#E5ECF6",
            "gridcolor": "white",
            "gridwidth": 2,
            "linecolor": "white",
            "showbackground": true,
            "ticks": "",
            "zerolinecolor": "white"
           },
           "zaxis": {
            "backgroundcolor": "#E5ECF6",
            "gridcolor": "white",
            "gridwidth": 2,
            "linecolor": "white",
            "showbackground": true,
            "ticks": "",
            "zerolinecolor": "white"
           }
          },
          "shapedefaults": {
           "line": {
            "color": "#2a3f5f"
           }
          },
          "ternary": {
           "aaxis": {
            "gridcolor": "white",
            "linecolor": "white",
            "ticks": ""
           },
           "baxis": {
            "gridcolor": "white",
            "linecolor": "white",
            "ticks": ""
           },
           "bgcolor": "#E5ECF6",
           "caxis": {
            "gridcolor": "white",
            "linecolor": "white",
            "ticks": ""
           }
          },
          "title": {
           "x": 0.05
          },
          "xaxis": {
           "automargin": true,
           "gridcolor": "white",
           "linecolor": "white",
           "ticks": "",
           "title": {
            "standoff": 15
           },
           "zerolinecolor": "white",
           "zerolinewidth": 2
          },
          "yaxis": {
           "automargin": true,
           "gridcolor": "white",
           "linecolor": "white",
           "ticks": "",
           "title": {
            "standoff": 15
           },
           "zerolinecolor": "white",
           "zerolinewidth": 2
          }
         }
        },
        "xaxis": {
         "anchor": "y",
         "domain": [
          0,
          0.94
         ]
        },
        "yaxis": {
         "anchor": "x",
         "domain": [
          0,
          1
         ]
        },
        "yaxis2": {
         "anchor": "x",
         "overlaying": "y",
         "side": "right"
        }
       }
      }
     },
     "metadata": {}
    },
    {
     "output_type": "display_data",
     "data": {
      "application/vnd.plotly.v1+json": {
       "config": {
        "plotlyServerURL": "https://plot.ly"
       },
       "data": [
        {
         "name": "{\"bond\":{\"validator\":\"terravaloper1542ek7muegmm806akl0lam5vlqlph7spflfcun\"}}",
         "type": "bar",
         "x": [
          "2021-08-20",
          "2021-08-19",
          "2021-08-18",
          "2021-08-17",
          "2021-08-16",
          "2021-08-15",
          "2021-08-14",
          "2021-08-13",
          "2021-08-12",
          "2021-08-11",
          "2021-08-10",
          "2021-08-09",
          "2021-08-08",
          "2021-08-07",
          "2021-08-06",
          "2021-08-05",
          "2021-08-04"
         ],
         "y": [
          2167164172,
          7968104514,
          17252842547,
          17135976370,
          20181704059,
          11334712816,
          16724026564,
          6246666408,
          25396549746,
          14206414665,
          25818827277,
          4253731184,
          27308109285,
          22602886917,
          12054847883,
          1521681720,
          1210834007
         ]
        },
        {
         "name": "{\"bond\":{\"validator\":\"terravaloper1jkqr2vfg4krfd4zwmsf7elfj07cjuzss30ux8g\"}}",
         "type": "bar",
         "x": [
          "2021-08-20",
          "2021-08-19",
          "2021-08-18",
          "2021-08-17",
          "2021-08-16",
          "2021-08-15",
          "2021-08-14",
          "2021-08-13",
          "2021-08-12",
          "2021-08-11",
          "2021-08-10",
          "2021-08-09",
          "2021-08-08",
          "2021-08-07",
          "2021-08-06",
          "2021-08-05",
          "2021-08-04",
          "2021-08-03",
          "2021-08-02",
          "2021-08-01",
          "2021-07-31",
          "2021-07-30",
          "2021-07-29",
          "2021-07-28",
          "2021-07-27",
          "2021-07-26",
          "2021-07-25",
          "2021-07-24",
          "2021-07-23",
          "2021-07-22",
          "2021-07-21",
          "2021-07-20",
          "2021-07-19",
          "2021-07-18",
          "2021-07-17",
          "2021-07-16",
          "2021-07-15",
          "2021-07-14",
          "2021-07-13",
          "2021-07-12",
          "2021-07-11",
          "2021-07-10",
          "2021-07-09",
          "2021-07-08",
          "2021-07-07",
          "2021-07-06",
          "2021-07-05",
          "2021-07-04",
          "2021-07-03",
          "2021-07-02",
          "2021-07-01",
          "2021-06-30",
          "2021-06-29",
          "2021-06-28",
          "2021-06-27",
          "2021-06-26",
          "2021-06-25",
          "2021-06-24",
          "2021-06-23",
          "2021-06-22",
          "2021-06-21",
          "2021-06-20",
          "2021-06-19",
          "2021-06-18",
          "2021-06-17",
          "2021-06-16",
          "2021-06-15",
          "2021-06-14",
          "2021-06-13",
          "2021-06-12",
          "2021-06-11",
          "2021-06-10",
          "2021-06-09",
          "2021-06-08",
          "2021-06-07",
          "2021-06-06",
          "2021-06-05",
          "2021-06-04",
          "2021-06-03",
          "2021-06-02",
          "2021-06-01",
          "2021-05-31",
          "2021-05-30",
          "2021-05-29",
          "2021-05-28",
          "2021-05-27",
          "2021-05-26",
          "2021-05-25",
          "2021-05-24",
          "2021-05-23",
          "2021-05-22",
          "2021-05-21",
          "2021-05-20",
          "2021-05-19",
          "2021-05-18",
          "2021-05-17"
         ],
         "y": [
          586684500,
          878690720,
          1917112957,
          1989007210,
          1962551374,
          327635843,
          1741722050,
          820812941,
          1203589356,
          212948140,
          2365454946,
          748955301,
          14276068144,
          2405228216,
          2473978020,
          171469053,
          1581933878,
          2487018534,
          1243169753,
          5550112051,
          66718242527,
          2784369160,
          5300186820,
          9079839826,
          1851704490,
          4597211693,
          2179759497,
          13920773965,
          19708769587,
          4331181939,
          6761939386,
          9323668494,
          3665565215,
          4162108343,
          52613867374,
          2275075473,
          1899589927,
          2958783752,
          3225679844,
          2972942148,
          3247787472,
          2546736353,
          2926754397,
          4108617050,
          1869799636,
          4765806847,
          4638225548,
          4726193901,
          14567381508,
          12055876037,
          9007941226,
          30576856993,
          15355413680,
          23975457752,
          1610211069,
          16836095818,
          5401957274,
          4430860210,
          7827994558,
          9506927471,
          21655276175,
          48692097952,
          16607284105,
          26403146377,
          7266081921,
          9697214741,
          11775723337,
          24522534685,
          20860601767,
          8747250291,
          4480710669,
          21074112809,
          8194751230,
          13994468722,
          1461088357,
          4333838377,
          3138213743,
          7912749898,
          7531828258,
          7436375963,
          2238775619,
          1795681608,
          834482164,
          1607108565,
          2484162163,
          1421624122,
          24006970130,
          37190401467,
          23891484502,
          20398048024,
          13504150261,
          17002384489,
          23755264617,
          61863312911,
          8191340173,
          376354712
         ]
        },
        {
         "name": "",
         "type": "bar",
         "x": [
          "2021-08-20",
          "2021-08-19",
          "2021-08-18",
          "2021-08-17",
          "2021-08-16",
          "2021-08-15",
          "2021-08-14",
          "2021-08-13",
          "2021-08-12",
          "2021-08-11",
          "2021-08-10",
          "2021-08-09",
          "2021-08-08",
          "2021-08-07",
          "2021-08-06",
          "2021-08-05",
          "2021-08-04",
          "2021-08-03",
          "2021-08-02",
          "2021-08-01",
          "2021-07-31",
          "2021-07-30",
          "2021-07-29",
          "2021-07-28",
          "2021-07-27",
          "2021-07-26",
          "2021-07-25",
          "2021-07-24",
          "2021-07-23",
          "2021-07-22",
          "2021-07-21",
          "2021-07-20",
          "2021-07-19",
          "2021-07-18",
          "2021-07-17",
          "2021-07-16",
          "2021-07-15",
          "2021-07-14",
          "2021-07-13",
          "2021-07-12",
          "2021-07-11",
          "2021-07-10",
          "2021-07-09",
          "2021-07-08",
          "2021-07-07",
          "2021-07-06",
          "2021-07-05",
          "2021-07-04",
          "2021-07-03",
          "2021-07-02",
          "2021-07-01",
          "2021-06-30",
          "2021-06-29",
          "2021-06-28",
          "2021-06-27",
          "2021-06-26",
          "2021-06-25",
          "2021-06-24",
          "2021-06-23",
          "2021-06-22",
          "2021-06-21",
          "2021-06-20",
          "2021-06-19",
          "2021-06-18",
          "2021-06-17",
          "2021-06-16",
          "2021-06-15",
          "2021-06-14",
          "2021-06-13",
          "2021-06-12",
          "2021-06-11",
          "2021-06-10",
          "2021-06-09",
          "2021-06-08",
          "2021-06-07",
          "2021-06-06",
          "2021-06-05",
          "2021-06-04",
          "2021-06-03",
          "2021-06-02",
          "2021-06-01",
          "2021-05-31",
          "2021-05-30",
          "2021-05-29",
          "2021-05-28",
          "2021-05-27",
          "2021-05-26",
          "2021-05-25",
          "2021-05-24",
          "2021-05-23",
          "2021-05-22",
          "2021-05-21",
          "2021-05-20",
          "2021-05-19",
          "2021-05-18",
          "2021-05-17"
         ],
         "y": [
          0,
          0,
          0,
          0,
          0,
          0,
          0,
          0,
          0,
          0,
          0,
          0,
          0,
          0,
          0,
          0,
          0,
          0,
          0,
          0,
          0,
          0,
          0,
          0,
          0,
          0,
          0,
          0,
          0,
          0,
          0,
          0,
          0,
          0,
          0,
          0,
          0,
          0,
          0,
          0,
          0,
          0,
          0,
          0,
          0,
          0,
          0,
          0,
          0,
          0,
          0,
          0,
          0,
          0,
          0,
          0,
          0,
          0,
          0,
          0,
          0,
          0,
          0,
          0,
          0,
          0,
          0,
          0,
          0,
          0,
          0,
          0,
          0,
          0,
          0,
          0,
          0,
          0,
          0,
          0,
          0,
          0,
          0,
          0,
          0,
          0,
          0,
          0,
          0,
          0,
          0,
          0,
          0,
          0,
          0,
          0
         ]
        },
        {
         "name": "{\"bond\":{\"validator\":\"terravaloper1v5hrqlv8dqgzvy0pwzqzg0gxy899rm4kdur03x\"}}",
         "type": "bar",
         "x": [
          "2021-08-20",
          "2021-08-19",
          "2021-08-18",
          "2021-08-17",
          "2021-08-16",
          "2021-08-15",
          "2021-08-14",
          "2021-08-13",
          "2021-08-12",
          "2021-08-11",
          "2021-08-10",
          "2021-08-09",
          "2021-08-08",
          "2021-08-07",
          "2021-08-06",
          "2021-08-05",
          "2021-08-04",
          "2021-08-03",
          "2021-08-02",
          "2021-08-01",
          "2021-07-31",
          "2021-07-30",
          "2021-07-29",
          "2021-07-28",
          "2021-07-27",
          "2021-07-26",
          "2021-07-25",
          "2021-07-24",
          "2021-07-23",
          "2021-07-22",
          "2021-07-21",
          "2021-07-20",
          "2021-07-19",
          "2021-07-18",
          "2021-07-17",
          "2021-07-16",
          "2021-07-15",
          "2021-07-14",
          "2021-07-13",
          "2021-07-12",
          "2021-07-11",
          "2021-07-10",
          "2021-07-09",
          "2021-07-08",
          "2021-07-07",
          "2021-07-06",
          "2021-07-05",
          "2021-07-04",
          "2021-07-03",
          "2021-07-02",
          "2021-07-01",
          "2021-06-30",
          "2021-06-29",
          "2021-06-28",
          "2021-06-27",
          "2021-06-26",
          "2021-06-25",
          "2021-06-24",
          "2021-06-23",
          "2021-06-22",
          "2021-06-21",
          "2021-06-20",
          "2021-06-19",
          "2021-06-18",
          "2021-06-17",
          "2021-06-16",
          "2021-06-15",
          "2021-06-14",
          "2021-06-13",
          "2021-06-12",
          "2021-06-11",
          "2021-06-10",
          "2021-06-09",
          "2021-06-08",
          "2021-06-07",
          "2021-06-06",
          "2021-06-05",
          "2021-06-04",
          "2021-06-03",
          "2021-06-02",
          "2021-06-01",
          "2021-05-31",
          "2021-05-30",
          "2021-05-29",
          "2021-05-28",
          "2021-05-27",
          "2021-05-26",
          "2021-05-25",
          "2021-05-24",
          "2021-05-23",
          "2021-05-22",
          "2021-05-21",
          "2021-05-20",
          "2021-05-19",
          "2021-05-18",
          "2021-05-17"
         ],
         "y": [
          743117388,
          10691149835,
          9059404916,
          9048046134,
          14939481535,
          5303270581,
          22304696352,
          3304767793,
          4190596069,
          15706401324,
          4533461541,
          361207039,
          2582528305,
          3759713285,
          1214637559,
          4776381228,
          10315104018,
          9023254460,
          6571269154,
          3758934671,
          4439006306,
          9272298431,
          6832380164,
          3858518367,
          4084920333,
          56127942767,
          8546251828,
          23363321965,
          40695882040,
          8939184710,
          11921605857,
          19451000295,
          37549212590,
          18480720937,
          9250334436,
          33632378412,
          11316748983,
          15172264785,
          19726992169,
          9287589473,
          5392235720,
          6292113945,
          6661903466,
          32479208660,
          29375125129,
          12611141355,
          13391176996,
          15937540249,
          20814466334,
          31202368859,
          23796267681,
          134066889911,
          11051388977,
          35854965017,
          29245481772,
          16007324315,
          35835108505,
          39106511380,
          6030894289,
          178330465728,
          84499940531,
          82672460681,
          118383102898,
          80036225890,
          9861955033,
          19373083255,
          124044512015,
          44943695509,
          14156493107,
          126700354107,
          53664699563,
          59666258017,
          93512360604,
          395374931220,
          16228214929,
          17241128838,
          17328088150,
          28182866645,
          36480737547,
          16097864838,
          25553579583,
          55011158223,
          3829629812,
          13879032267,
          33885371058,
          14815745881,
          30848500797,
          57214446073,
          68619152422,
          138780178083,
          228388199236,
          44958000641,
          339794270802,
          123525432716,
          6045134616,
          3508523447
         ]
        },
        {
         "name": "{\"bond\":{\"validator\":\"terravaloper1alpf6snw2d76kkwjv3dp4l7pcl6cn9uyt0tcj9\"}}",
         "type": "bar",
         "x": [
          "2021-08-20",
          "2021-08-19",
          "2021-08-18",
          "2021-08-17",
          "2021-08-16",
          "2021-08-15",
          "2021-08-14",
          "2021-08-13",
          "2021-08-12",
          "2021-08-11",
          "2021-08-10",
          "2021-08-09",
          "2021-08-08",
          "2021-08-07",
          "2021-08-06",
          "2021-08-05",
          "2021-08-04"
         ],
         "y": [
          2819105367,
          11160118997,
          63935974470,
          12781344802,
          24795208413,
          13442411361,
          13496782982,
          23743013229,
          28829894559,
          25708443373,
          48926443459,
          25212346627,
          8402502506,
          3797807541,
          8018002680,
          8584421827,
          376134584830
         ]
        },
        {
         "name": "{\"bond\":{\"validator\":\"terravaloper175hhkyxmkp8hf2zrzka7cnn7lk6mudtv4uuu64\"}}",
         "type": "bar",
         "x": [
          "2021-08-20",
          "2021-08-19",
          "2021-08-18",
          "2021-08-17",
          "2021-08-16",
          "2021-08-14",
          "2021-08-13",
          "2021-08-12",
          "2021-08-11",
          "2021-08-10",
          "2021-08-09",
          "2021-08-08",
          "2021-08-07",
          "2021-08-06",
          "2021-08-04",
          "2021-08-03",
          "2021-08-02",
          "2021-08-01",
          "2021-07-31",
          "2021-07-30",
          "2021-07-29",
          "2021-07-28",
          "2021-07-27",
          "2021-07-26",
          "2021-07-25",
          "2021-07-24",
          "2021-07-23",
          "2021-07-22",
          "2021-07-21",
          "2021-07-20",
          "2021-07-19",
          "2021-07-18",
          "2021-07-17",
          "2021-07-16",
          "2021-07-15",
          "2021-07-14",
          "2021-07-13",
          "2021-07-12",
          "2021-07-11",
          "2021-07-10",
          "2021-07-09",
          "2021-07-08",
          "2021-07-07",
          "2021-07-06",
          "2021-07-05",
          "2021-07-04",
          "2021-07-03",
          "2021-07-02",
          "2021-07-01",
          "2021-06-30",
          "2021-06-29",
          "2021-06-28",
          "2021-06-27",
          "2021-06-26",
          "2021-06-25",
          "2021-06-24",
          "2021-06-23",
          "2021-06-22",
          "2021-06-21",
          "2021-06-20",
          "2021-06-19",
          "2021-06-18",
          "2021-06-17",
          "2021-06-16",
          "2021-06-15",
          "2021-06-14",
          "2021-06-13",
          "2021-06-12",
          "2021-06-11",
          "2021-06-10",
          "2021-06-09",
          "2021-06-08",
          "2021-06-07",
          "2021-06-06",
          "2021-06-05",
          "2021-06-04",
          "2021-06-03",
          "2021-06-02",
          "2021-06-01",
          "2021-05-31",
          "2021-05-30",
          "2021-05-29",
          "2021-05-28",
          "2021-05-27",
          "2021-05-26",
          "2021-05-25",
          "2021-05-24",
          "2021-05-23",
          "2021-05-22",
          "2021-05-21",
          "2021-05-20",
          "2021-05-19",
          "2021-05-18",
          "2021-05-17"
         ],
         "y": [
          1407297770,
          760220502,
          8000057,
          13840000,
          31706261,
          5002687055,
          43769114,
          318952468,
          1776930392,
          12311930,
          68000000,
          22614664365,
          115425810,
          320000000,
          2143218060,
          11214309909,
          1859952860,
          1686985873,
          2316031345,
          379896547791,
          41768728128,
          3628411513,
          576086120,
          2329208075,
          1368909382,
          1373660905,
          23929252668,
          4739943350,
          2477149987,
          16603233276,
          4617137812,
          12327694909,
          3355145835,
          688236368,
          5828744759,
          3518576287,
          5640507399,
          490121199,
          12172902535,
          1071103621,
          10154563082,
          7923023064,
          5981997485,
          4298210619,
          4739797145,
          11607558853,
          8610306070,
          5788840310,
          2527276679,
          10757907434,
          17975944892,
          2057661875,
          4856907607,
          9668346838,
          46782902062,
          1052604117,
          181034644595,
          17186267030,
          68230527592,
          89380833925,
          24265613121,
          101814870026,
          52394518695,
          54390120334,
          71493692965,
          40886790920,
          21931038859,
          24077966506,
          14528584713,
          26909362634,
          25140329455,
          21879183890,
          2097769462,
          541111000,
          11526041912,
          1058951239,
          4774761202,
          33741503149,
          26698720940,
          4620612910,
          1088917620,
          11097326383,
          3000194855,
          1905259356,
          3554403004,
          10296326985,
          26756070574,
          15408274356,
          7571613883,
          2485072076,
          257356662078,
          31975696324,
          557323150,
          50000000
         ]
        },
        {
         "name": "{\"bond\":{\"validator\":\"terravaloper13g7z3qq6f00qww3u4mpcs3xw5jhqwraswraapc\"}}",
         "type": "bar",
         "x": [
          "2021-08-20",
          "2021-08-19",
          "2021-08-18",
          "2021-08-17",
          "2021-08-16",
          "2021-08-15",
          "2021-08-14",
          "2021-08-13",
          "2021-08-12",
          "2021-08-11",
          "2021-08-10",
          "2021-08-09",
          "2021-08-08",
          "2021-08-07",
          "2021-08-06",
          "2021-08-05",
          "2021-08-04"
         ],
         "y": [
          700179948,
          309994273,
          960325513,
          2513229288,
          644401792,
          1662988478,
          465819818,
          1384680909,
          461292738,
          6514778314,
          514817014,
          236139105,
          1474886245,
          864260155,
          233240373,
          1834373123,
          352884293
         ]
        },
        {
         "name": "{\"bond\":{\"validator\":\"terravaloper15zcjduavxc5mkp8qcqs9eyhwlqwdlrzy6jln3m\"}}",
         "type": "bar",
         "x": [
          "2021-08-20",
          "2021-08-19",
          "2021-08-18",
          "2021-08-17",
          "2021-08-16",
          "2021-08-15",
          "2021-08-14",
          "2021-08-13",
          "2021-08-12",
          "2021-08-11",
          "2021-08-10",
          "2021-08-09",
          "2021-08-08",
          "2021-08-07",
          "2021-08-06",
          "2021-08-05",
          "2021-08-04",
          "2021-08-03",
          "2021-08-02",
          "2021-08-01",
          "2021-07-31",
          "2021-07-30",
          "2021-07-29",
          "2021-07-28",
          "2021-07-27",
          "2021-07-26",
          "2021-07-25",
          "2021-07-24",
          "2021-07-23",
          "2021-07-22",
          "2021-07-21",
          "2021-07-20",
          "2021-07-19",
          "2021-07-18",
          "2021-07-17",
          "2021-07-16",
          "2021-07-15",
          "2021-07-14",
          "2021-07-13",
          "2021-07-12",
          "2021-07-11",
          "2021-07-10",
          "2021-07-09",
          "2021-07-08",
          "2021-07-07",
          "2021-07-06",
          "2021-07-05",
          "2021-07-04",
          "2021-07-03",
          "2021-07-02",
          "2021-07-01",
          "2021-06-30",
          "2021-06-29",
          "2021-06-28",
          "2021-06-27",
          "2021-06-26",
          "2021-06-25",
          "2021-06-24",
          "2021-06-23",
          "2021-06-22",
          "2021-06-21",
          "2021-06-20",
          "2021-06-19",
          "2021-06-18",
          "2021-06-17",
          "2021-06-16",
          "2021-06-15",
          "2021-06-14",
          "2021-06-13",
          "2021-06-12",
          "2021-06-11",
          "2021-06-10",
          "2021-06-09",
          "2021-06-08",
          "2021-06-07",
          "2021-06-06",
          "2021-06-05",
          "2021-06-04",
          "2021-06-03",
          "2021-06-02",
          "2021-06-01",
          "2021-05-31",
          "2021-05-30",
          "2021-05-29",
          "2021-05-28",
          "2021-05-27",
          "2021-05-26",
          "2021-05-25",
          "2021-05-24",
          "2021-05-23",
          "2021-05-22",
          "2021-05-21",
          "2021-05-20",
          "2021-05-19",
          "2021-05-18",
          "2021-05-17"
         ],
         "y": [
          8202312420,
          7964657856,
          10062607798,
          66484933958,
          42264224046,
          5995495041,
          9937669446,
          8888900366,
          5499092877,
          19732001909,
          13342301703,
          3956811440,
          12065131711,
          14223252221,
          4864562235,
          8471282249,
          16699047692,
          143892143317,
          9623087633,
          24660587030,
          23787656894,
          26905308415,
          20314601841,
          81821821577,
          6883198420,
          66674035916,
          5333162640,
          12739711207,
          11058729669,
          20045488041,
          9695952035,
          531138404747,
          10553869275,
          93359056047,
          20293827533,
          226633529097,
          12965661415,
          58123401179,
          11857376112,
          16130198388,
          60126032294,
          40491758416,
          23474690331,
          14055611336,
          44295209687,
          30756930259,
          36895341216,
          203237801809,
          148969907226,
          185961767343,
          28218731526,
          64319042174,
          103975240166,
          46595835883,
          50661188314,
          167691913842,
          167771074231,
          109066221957,
          76950727572,
          2629830240568,
          189411302964,
          142241785676,
          176099750627,
          623468196959,
          73410930292,
          220684665184,
          121377884993,
          79655378593,
          272719382568,
          127377917215,
          446709916948,
          98767014332,
          399194948541,
          229056500581,
          391779927020,
          78450163492,
          151626588563,
          292350220938,
          52343946962,
          68641189347,
          45384607935,
          119371888400,
          22911217217,
          52529386903,
          110851661243,
          25660923177,
          37061576478,
          29033919091,
          53610524308,
          151670535131,
          83215736351,
          57727154900,
          109792692933,
          134285294789,
          58806764302,
          6214987141
         ]
        },
        {
         "name": "{\"bond\":{\"validator\":\"terravaloper1sym8gyehrdsm03vdc44rg9sflg8zeuqwfzavhx\"}}",
         "type": "bar",
         "x": [
          "2021-08-20",
          "2021-08-19",
          "2021-08-18",
          "2021-08-17",
          "2021-08-16",
          "2021-08-15",
          "2021-08-14",
          "2021-08-13",
          "2021-08-12",
          "2021-08-11",
          "2021-08-10",
          "2021-08-09",
          "2021-08-08",
          "2021-08-07",
          "2021-08-06",
          "2021-08-05",
          "2021-08-04"
         ],
         "y": [
          10794728088,
          8448654324,
          6751698572,
          14928755223,
          11486091609,
          3809288792,
          2420166767,
          5549683682,
          2480357302,
          4515764138,
          12510378792,
          675752540,
          329992166,
          4229302142,
          1324577898,
          847460455,
          650411656
         ]
        },
        {
         "name": "{\"bond\":{\"validator\":\"terravaloper15urq2dtp9qce4fyc85m6upwm9xul30496sgk37\"}}",
         "type": "bar",
         "x": [
          "2021-08-20",
          "2021-08-19",
          "2021-08-18",
          "2021-08-17",
          "2021-08-16",
          "2021-08-15",
          "2021-08-14",
          "2021-08-13",
          "2021-08-12",
          "2021-08-11",
          "2021-08-10",
          "2021-08-09",
          "2021-08-08",
          "2021-08-07",
          "2021-08-06",
          "2021-08-05",
          "2021-08-04",
          "2021-08-03",
          "2021-08-02",
          "2021-08-01",
          "2021-07-31",
          "2021-07-30",
          "2021-07-29",
          "2021-07-28",
          "2021-07-27",
          "2021-07-26",
          "2021-07-25",
          "2021-07-24",
          "2021-07-23",
          "2021-07-22",
          "2021-07-21",
          "2021-07-20",
          "2021-07-19",
          "2021-07-18",
          "2021-07-17",
          "2021-07-16",
          "2021-07-15",
          "2021-07-14",
          "2021-07-13",
          "2021-07-12",
          "2021-07-11",
          "2021-07-10",
          "2021-07-09",
          "2021-07-08",
          "2021-07-07",
          "2021-07-06",
          "2021-07-05",
          "2021-07-04",
          "2021-07-03",
          "2021-07-02",
          "2021-07-01",
          "2021-06-30",
          "2021-06-29",
          "2021-06-28",
          "2021-06-27",
          "2021-06-26",
          "2021-06-25",
          "2021-06-24",
          "2021-06-23",
          "2021-06-22",
          "2021-06-21",
          "2021-06-20",
          "2021-06-19",
          "2021-06-18",
          "2021-06-17",
          "2021-06-16",
          "2021-06-15",
          "2021-06-14",
          "2021-06-13",
          "2021-06-12",
          "2021-06-11",
          "2021-06-10",
          "2021-06-09",
          "2021-06-08",
          "2021-06-07",
          "2021-06-06",
          "2021-06-05",
          "2021-06-04",
          "2021-06-03",
          "2021-06-02",
          "2021-06-01",
          "2021-05-31",
          "2021-05-30",
          "2021-05-29",
          "2021-05-28",
          "2021-05-27",
          "2021-05-26",
          "2021-05-25",
          "2021-05-24",
          "2021-05-23",
          "2021-05-22",
          "2021-05-21",
          "2021-05-20",
          "2021-05-19",
          "2021-05-18",
          "2021-05-17"
         ],
         "y": [
          1148500968,
          5870369135,
          5479984081,
          5487942040,
          6221756711,
          1297518689,
          3089648081,
          1607204569,
          3161517113,
          7743354811,
          2640440595,
          9425652252,
          1655399693,
          854202974,
          729222144,
          869859555,
          3450828132,
          9553791930,
          24386979612,
          3083018140,
          2637169386,
          870450271,
          2119810615,
          77580053135,
          7204200357,
          26087575562,
          1246372070,
          32015270667,
          15809928940,
          79904442215,
          9651347163,
          16731443093,
          3361980873,
          2755831361,
          21086112253,
          80579714217,
          6921842476,
          504772853479,
          14078824532,
          3209860720,
          2645107797,
          10736418135,
          26235665001,
          18743220513,
          57720893088,
          4980693471,
          31001914520,
          22275381730,
          12919711176,
          23183438540,
          20827149786,
          48018095507,
          30823326354,
          9155181509,
          11369030986,
          17034143581,
          13201314652,
          37999368248,
          40804978508,
          41511807030,
          52569714041,
          32216739687,
          9849829106,
          22495600023,
          39875862285,
          27073307899,
          36593389594,
          63145454626,
          428601535142,
          51414490599,
          101241446156,
          167733208556,
          105505428469,
          303017446047,
          272340545200,
          10261317506,
          15315764409,
          141741336137,
          59459995222,
          4473087999,
          22076221371,
          7932698288,
          7104267595,
          346144820463,
          17492528702,
          45630159948,
          24757160124,
          49882728850,
          15279310438,
          2254220276776,
          19281182702,
          17416141071,
          268530441778,
          46749815595,
          2797787328,
          1039771114
         ]
        },
        {
         "name": "{\"bond\":{\"validator\":\"terravaloper123gn6j23lmexu0qx5qhmgxgunmjcqsx8gmsyse\"}}",
         "type": "bar",
         "x": [
          "2021-08-20",
          "2021-08-19",
          "2021-08-18",
          "2021-08-17",
          "2021-08-16",
          "2021-08-15",
          "2021-08-14",
          "2021-08-13",
          "2021-08-12",
          "2021-08-11",
          "2021-08-10",
          "2021-08-09",
          "2021-08-08",
          "2021-08-07",
          "2021-08-06",
          "2021-08-05",
          "2021-08-04",
          "2021-08-03",
          "2021-08-02",
          "2021-08-01",
          "2021-07-31",
          "2021-07-30",
          "2021-07-29",
          "2021-07-28",
          "2021-07-27",
          "2021-07-26",
          "2021-07-25",
          "2021-07-24",
          "2021-07-23",
          "2021-07-22",
          "2021-07-21",
          "2021-07-20",
          "2021-07-19",
          "2021-07-18",
          "2021-07-17",
          "2021-07-16",
          "2021-07-15",
          "2021-07-14",
          "2021-07-13",
          "2021-07-12",
          "2021-07-11",
          "2021-07-10",
          "2021-07-09",
          "2021-07-08",
          "2021-07-07",
          "2021-07-06",
          "2021-07-05",
          "2021-07-04",
          "2021-07-03",
          "2021-07-02",
          "2021-07-01",
          "2021-06-30",
          "2021-06-29",
          "2021-06-28",
          "2021-06-27",
          "2021-06-26",
          "2021-06-25",
          "2021-06-24",
          "2021-06-23",
          "2021-06-22",
          "2021-06-21",
          "2021-06-20",
          "2021-06-19",
          "2021-06-18",
          "2021-06-17",
          "2021-06-16",
          "2021-06-15",
          "2021-06-14",
          "2021-06-13",
          "2021-06-12",
          "2021-06-11",
          "2021-06-10",
          "2021-06-09",
          "2021-06-08",
          "2021-06-07",
          "2021-06-06",
          "2021-06-05",
          "2021-06-04",
          "2021-06-03",
          "2021-06-02",
          "2021-06-01",
          "2021-05-31",
          "2021-05-30",
          "2021-05-29",
          "2021-05-28",
          "2021-05-27",
          "2021-05-26",
          "2021-05-25",
          "2021-05-24",
          "2021-05-23",
          "2021-05-22",
          "2021-05-21",
          "2021-05-20",
          "2021-05-19",
          "2021-05-18",
          "2021-05-17"
         ],
         "y": [
          6745460828,
          3236667857,
          6973555489,
          3835635416,
          1741933110,
          2735575206,
          857128151,
          12545569221,
          1364021880,
          2052872163,
          1360939719,
          4200348007,
          1328366913,
          751822802,
          1546092203,
          2180030263,
          4801950044,
          10708963787,
          5228199516,
          5218101475,
          12600598177,
          5320303912,
          6127595069,
          9232206941,
          6874922541,
          6988968728,
          10617038201,
          11115836894,
          17806786269,
          40107338918,
          14044537914,
          326049978527,
          17277255703,
          4588382018,
          33418698945,
          25673331916,
          38009011509,
          26488368358,
          18630021370,
          5196401362,
          7487655674,
          9569843885,
          13955690069,
          14305832171,
          140253885192,
          28155496349,
          11104089516,
          13761194298,
          29794128223,
          23325112996,
          77193305999,
          12236098232,
          39222774001,
          292900449454,
          6250965190,
          5539361233,
          102256889528,
          23952009245,
          100790287914,
          82706763976,
          352670554748,
          65700011800,
          32440417910,
          140695321610,
          12070486298,
          84352309054,
          133671588491,
          88012736816,
          340708788654,
          370506948270,
          290935882899,
          379380052336,
          405495967407,
          453552566955,
          178735824067,
          199793862598,
          181241916912,
          173331578922,
          99685092919,
          79104960354,
          106139472840,
          3063939682778,
          126824521345,
          95916877798,
          92969966330,
          56964923229,
          198273636583,
          133564451854,
          56006836269,
          129998867543,
          88813565424,
          78082009976,
          145102107267,
          206125462631,
          17323897011,
          4532398538
         ]
        },
        {
         "name": "{\"bond\":{\"validator\":\"terravaloper1c9ye54e3pzwm3e0zpdlel6pnavrj9qqvq89r3r\"}}",
         "type": "bar",
         "x": [
          "2021-08-20",
          "2021-08-19",
          "2021-08-18",
          "2021-08-17",
          "2021-08-16",
          "2021-08-15",
          "2021-08-14",
          "2021-08-13",
          "2021-08-12",
          "2021-08-11",
          "2021-08-10",
          "2021-08-09",
          "2021-08-08",
          "2021-08-07",
          "2021-08-06",
          "2021-08-05",
          "2021-08-04",
          "2021-08-03",
          "2021-08-02",
          "2021-08-01",
          "2021-07-31",
          "2021-07-30",
          "2021-07-29",
          "2021-07-28",
          "2021-07-27",
          "2021-07-26",
          "2021-07-25",
          "2021-07-24",
          "2021-07-23",
          "2021-07-22",
          "2021-07-21",
          "2021-07-20",
          "2021-07-19",
          "2021-07-18",
          "2021-07-17",
          "2021-07-16",
          "2021-07-15",
          "2021-07-14",
          "2021-07-13",
          "2021-07-12",
          "2021-07-11",
          "2021-07-10",
          "2021-07-09",
          "2021-07-08",
          "2021-07-07",
          "2021-07-06",
          "2021-07-05",
          "2021-07-04",
          "2021-07-03",
          "2021-07-02",
          "2021-07-01",
          "2021-06-30",
          "2021-06-29",
          "2021-06-28",
          "2021-06-27",
          "2021-06-26",
          "2021-06-25",
          "2021-06-24",
          "2021-06-23",
          "2021-06-22",
          "2021-06-21",
          "2021-06-20",
          "2021-06-19",
          "2021-06-18",
          "2021-06-17",
          "2021-06-16",
          "2021-06-15",
          "2021-06-14",
          "2021-06-13",
          "2021-06-12",
          "2021-06-11",
          "2021-06-10",
          "2021-06-09",
          "2021-06-08",
          "2021-06-07",
          "2021-06-06",
          "2021-06-05",
          "2021-06-04",
          "2021-06-03",
          "2021-06-02",
          "2021-06-01",
          "2021-05-31",
          "2021-05-30",
          "2021-05-29",
          "2021-05-28",
          "2021-05-27",
          "2021-05-26",
          "2021-05-25",
          "2021-05-24",
          "2021-05-23",
          "2021-05-22",
          "2021-05-21",
          "2021-05-20",
          "2021-05-19",
          "2021-05-18",
          "2021-05-17"
         ],
         "y": [
          5453695924,
          4726127881,
          1227895520,
          491424481,
          962007552,
          659855257,
          2548188196,
          8754159363,
          4428929836,
          1200668038,
          1051657213,
          1220282442,
          3617245866,
          2468243322,
          3708619523,
          11246778966,
          2038712044,
          10721107393,
          4762804886,
          6397040593,
          1776305550,
          4309998912,
          12373065759,
          16340727143,
          4128550059,
          6991947370,
          8210222303,
          12334621593,
          6787207174,
          10711992193,
          10479212892,
          4698887879,
          29275131886,
          3215963673,
          3320973428,
          4490453675,
          3791842504,
          4281585167,
          8373533588,
          16789164697,
          22269831535,
          3027041189,
          8780908886,
          2785473736,
          18554573974,
          17050013706,
          7376420013,
          16107839152,
          13110411041,
          121057788392,
          21537166966,
          27682259062,
          34161777173,
          9365179180,
          19282964717,
          51378556794,
          13100971654,
          12929087809,
          9685459589,
          36753998459,
          47958654155,
          28538320765,
          8691087003,
          98065999889,
          35718659443,
          8864870725,
          123654581589,
          56124749242,
          81250039228,
          26081661271,
          23790866968,
          35634144807,
          138288427571,
          33788099727,
          42005459840,
          6478671399,
          4355999100,
          13711296129,
          14764638205,
          8571344808,
          1447295826182,
          1964380414,
          5787497933,
          107925349151,
          1562598107,
          27492120830,
          1143307141,
          13848401872,
          5599328769,
          40363522721,
          76761383757,
          12108895464,
          8621255779,
          37819821823,
          26447068492,
          10243400884
         ]
        },
        {
         "name": "{\"bond\":{\"validator\":\"terravaloper144l7c3uph5a7h62xd8u5et3rqvj3dqtvvka2fu\"}}",
         "type": "bar",
         "x": [
          "2021-08-20",
          "2021-08-19",
          "2021-08-18",
          "2021-08-17",
          "2021-08-16",
          "2021-08-15",
          "2021-08-14",
          "2021-08-13",
          "2021-08-12",
          "2021-08-11",
          "2021-08-10",
          "2021-08-09",
          "2021-08-08",
          "2021-08-07",
          "2021-08-06",
          "2021-08-05",
          "2021-08-04",
          "2021-08-03",
          "2021-08-02",
          "2021-08-01",
          "2021-07-31",
          "2021-07-30",
          "2021-07-29",
          "2021-07-28",
          "2021-07-27",
          "2021-07-26",
          "2021-07-25",
          "2021-07-24",
          "2021-07-23",
          "2021-07-22",
          "2021-07-21",
          "2021-07-20",
          "2021-07-19",
          "2021-07-18",
          "2021-07-17",
          "2021-07-16",
          "2021-07-15",
          "2021-07-14",
          "2021-07-13",
          "2021-07-12",
          "2021-07-11",
          "2021-07-10",
          "2021-07-09",
          "2021-07-08",
          "2021-07-07",
          "2021-07-06",
          "2021-07-05",
          "2021-07-04",
          "2021-07-03",
          "2021-07-02",
          "2021-07-01",
          "2021-06-30",
          "2021-06-29",
          "2021-06-28",
          "2021-06-27",
          "2021-06-26",
          "2021-06-25",
          "2021-06-24",
          "2021-06-23",
          "2021-06-22",
          "2021-06-21",
          "2021-06-20",
          "2021-06-19",
          "2021-06-18",
          "2021-06-17",
          "2021-06-16",
          "2021-06-15",
          "2021-06-14",
          "2021-06-13",
          "2021-06-12",
          "2021-06-11",
          "2021-06-10",
          "2021-06-09",
          "2021-06-08",
          "2021-06-07",
          "2021-06-06",
          "2021-06-05",
          "2021-06-04",
          "2021-06-03",
          "2021-06-02",
          "2021-06-01",
          "2021-05-31",
          "2021-05-30",
          "2021-05-29",
          "2021-05-28",
          "2021-05-27",
          "2021-05-26",
          "2021-05-25",
          "2021-05-24",
          "2021-05-23",
          "2021-05-22",
          "2021-05-21",
          "2021-05-20",
          "2021-05-19",
          "2021-05-18",
          "2021-05-17"
         ],
         "y": [
          226809288,
          2056759085,
          1954808837,
          1938871680,
          4653652545,
          673970788,
          3766205315,
          14804317883,
          1955322875,
          643003045,
          150267796,
          547655326,
          2222979959,
          6168516501,
          711896177,
          128020796,
          4213022638,
          5943561173,
          671625674,
          18147997201,
          1884008870,
          1874622374,
          3996714673,
          1954371855,
          10530325388,
          5509527888,
          428888612,
          34068697274,
          9226890466,
          68921455546,
          12019905336,
          9422730826,
          3390135297,
          2257261857,
          6754151955,
          12268343291,
          2586965765,
          2507315243,
          8437660123,
          647678100,
          3439680353,
          2347653418,
          4962489138,
          1752344941,
          176218051674,
          6458255698,
          12129859081,
          54997942482,
          28270878288,
          23726882479,
          3765469359,
          2798113232,
          62829488018,
          19420003090,
          10147071472,
          14104803779,
          19464312351,
          4936395057,
          11017779864,
          5253180227,
          64508329038,
          2323063981,
          4192983915,
          31807432836,
          7946298530,
          67980351005,
          12560531704,
          82981360008,
          18790516590,
          137576538454,
          21090777117,
          39568595113,
          35749567664,
          9132041375,
          35004054374,
          1860085591,
          2261084699,
          600229435446,
          420677050826,
          4469076104,
          11968674619,
          9855089763,
          18782613075,
          4803301554,
          39681049755,
          61925982921,
          4315666344,
          8506308326,
          4877294245,
          10879014796,
          12599500401,
          14643515266,
          21116753728,
          21733522311,
          1018039548,
          2025524033
         ]
        },
        {
         "name": "{\"bond\":{\"validator\":\"terravaloper1nwrksgv2vuadma8ygs8rhwffu2ygk4j24w2mku\"}}",
         "type": "bar",
         "x": [
          "2021-08-20",
          "2021-08-19",
          "2021-08-18",
          "2021-08-17",
          "2021-08-16",
          "2021-08-15",
          "2021-08-14",
          "2021-08-13",
          "2021-08-12",
          "2021-08-11",
          "2021-08-10",
          "2021-08-09",
          "2021-08-08",
          "2021-08-07",
          "2021-08-06",
          "2021-08-05",
          "2021-08-04"
         ],
         "y": [
          330854588,
          3570392832,
          2735976756,
          2786121165,
          108043751801,
          2758539768,
          3252768702,
          1525356693,
          3337046589,
          2131314906,
          226361135,
          702748720,
          2274112279,
          630324195,
          111532293,
          745001069,
          2442674805
         ]
        },
        {
         "name": "{\"bond\":{\"validator\":\"terravaloper15cupwhpnxhgylxa8n4ufyvux05xu864jcv0tsw\"}}",
         "type": "bar",
         "x": [
          "2021-08-20",
          "2021-08-19",
          "2021-08-18",
          "2021-08-17",
          "2021-08-16",
          "2021-08-15",
          "2021-08-14",
          "2021-08-13",
          "2021-08-12",
          "2021-08-11",
          "2021-08-10",
          "2021-08-09",
          "2021-08-08",
          "2021-08-07",
          "2021-08-06",
          "2021-08-05",
          "2021-08-04"
         ],
         "y": [
          14454772,
          1648123742,
          724287140,
          1653260768,
          1866073108,
          597359560,
          860116870,
          4615356003,
          327703791,
          941715686,
          3446952944,
          537597878,
          1739553523,
          90352361,
          200591884,
          4403552613,
          358749257373
         ]
        },
        {
         "name": "{\"bond\":{\"validator\":\"terravaloper1khfcg09plqw84jxy5e7fj6ag4s2r9wqsgm7k94\"}}",
         "type": "bar",
         "x": [
          "2021-08-20",
          "2021-08-19",
          "2021-08-18",
          "2021-08-17",
          "2021-08-16",
          "2021-08-15",
          "2021-08-14",
          "2021-08-13",
          "2021-08-12",
          "2021-08-11",
          "2021-08-10",
          "2021-08-09",
          "2021-08-08",
          "2021-08-07",
          "2021-08-06",
          "2021-08-05",
          "2021-08-04"
         ],
         "y": [
          37757700,
          2605074468,
          2350002509,
          7904350159,
          7341589627,
          654633671,
          1198680349,
          902558270,
          87861481,
          12846873624,
          915133966,
          445937297,
          610205248,
          713224534,
          1937774813,
          501449805,
          863240510
         ]
        },
        {
         "name": "{\"bond\":{\"validator\":\"terravaloper1kprce6kc08a6l03gzzh99hfpazfjeczfpzkkau\"}}",
         "type": "bar",
         "x": [
          "2021-08-20",
          "2021-08-19",
          "2021-08-18",
          "2021-08-17",
          "2021-08-16",
          "2021-08-15",
          "2021-08-14",
          "2021-08-13",
          "2021-08-12",
          "2021-08-11",
          "2021-08-10",
          "2021-08-09",
          "2021-08-08",
          "2021-08-07",
          "2021-08-06",
          "2021-08-05",
          "2021-08-04",
          "2021-08-03",
          "2021-08-02",
          "2021-08-01",
          "2021-07-31",
          "2021-07-30",
          "2021-07-29",
          "2021-07-28",
          "2021-07-27",
          "2021-07-26",
          "2021-07-25",
          "2021-07-24",
          "2021-07-23",
          "2021-07-22",
          "2021-07-21",
          "2021-07-20",
          "2021-07-19",
          "2021-07-18",
          "2021-07-17",
          "2021-07-16",
          "2021-07-15",
          "2021-07-14",
          "2021-07-13",
          "2021-07-12",
          "2021-07-11",
          "2021-07-10",
          "2021-07-09",
          "2021-07-08",
          "2021-07-07",
          "2021-07-06",
          "2021-07-05",
          "2021-07-04",
          "2021-07-03",
          "2021-07-02",
          "2021-07-01",
          "2021-06-30",
          "2021-06-29",
          "2021-06-28",
          "2021-06-27",
          "2021-06-26",
          "2021-06-25",
          "2021-06-24",
          "2021-06-23",
          "2021-06-22",
          "2021-06-21",
          "2021-06-20",
          "2021-06-19",
          "2021-06-18",
          "2021-06-17",
          "2021-06-16",
          "2021-06-15",
          "2021-06-14",
          "2021-06-13",
          "2021-06-12",
          "2021-06-11",
          "2021-06-10",
          "2021-06-09",
          "2021-06-08",
          "2021-06-07",
          "2021-06-06",
          "2021-06-05",
          "2021-06-04",
          "2021-06-03",
          "2021-06-02",
          "2021-06-01",
          "2021-05-31",
          "2021-05-30",
          "2021-05-29",
          "2021-05-28",
          "2021-05-27",
          "2021-05-26",
          "2021-05-25",
          "2021-05-24",
          "2021-05-23",
          "2021-05-22",
          "2021-05-21",
          "2021-05-20",
          "2021-05-19",
          "2021-05-18",
          "2021-05-17"
         ],
         "y": [
          15652206,
          2610125369,
          10778765674,
          1439614989,
          3399206350,
          770193318,
          676662877,
          8520930293,
          815489115,
          645926396,
          383436776,
          261322319,
          19757376585,
          617639411,
          232769619,
          4004582344,
          2026383693,
          23709105910,
          3706904699,
          5500770162,
          4246948492,
          324809610819,
          4715641853,
          8692436015,
          1070898710,
          13219464520,
          6977840084,
          19399647262,
          5386133807,
          2675622404,
          3263093422,
          9632270612,
          4389113646,
          3568475821,
          7720359485,
          12083740647,
          2691115425,
          680131904573,
          2583718255,
          55816274456,
          2985196184,
          10500241682,
          5055115557,
          9463769597,
          32891373885,
          2468681385,
          27593496751,
          26977555961,
          12577311514,
          10856214122,
          83857453026,
          43470673906,
          31869535092,
          15950419250,
          22589680136,
          16124681486,
          12876464390,
          2084406464,
          29383206018,
          12049060243,
          75515929084,
          74727360422,
          184541360794,
          19439685106,
          3314321201,
          15150496911,
          10594950990,
          55772817895,
          100412653490,
          37627371860,
          46676212859,
          4571259052,
          26069772978,
          14658958005,
          58184407544,
          1232728807,
          4094954269,
          5395860357,
          5379951852,
          6271863785,
          7888960917,
          2212305120,
          9129295927,
          3228910726,
          8015123137,
          29598214385,
          4971186661,
          1628824125,
          9607884559,
          8238585484,
          6969556369,
          11671333633,
          260964947089,
          29966073473,
          796957140,
          7000050
         ]
        },
        {
         "name": "{\"bond\": {\"validator\": \"terravaloper1v5hrqlv8dqgzvy0pwzqzg0gxy899rm4kdur03x\"}}",
         "type": "bar",
         "x": [
          "2021-08-19",
          "2021-08-18",
          "2021-08-17",
          "2021-08-16",
          "2021-08-14",
          "2021-08-13",
          "2021-08-11",
          "2021-08-09",
          "2021-08-08",
          "2021-08-07",
          "2021-08-06",
          "2021-07-23",
          "2021-07-10",
          "2021-06-11"
         ],
         "y": [
          2867187,
          5232738,
          2725201,
          2993666,
          6839722,
          3652047,
          7138256,
          5321588,
          1984298,
          3403120,
          3345229,
          1782102,
          1363,
          1000000
         ]
        },
        {
         "name": "{\"bond\": {\"validator\": \"terravaloper15urq2dtp9qce4fyc85m6upwm9xul30496sgk37\"}}",
         "type": "bar",
         "x": [
          "2021-08-17",
          "2021-08-04",
          "2021-07-28",
          "2021-07-21",
          "2021-07-20",
          "2021-07-19",
          "2021-07-18",
          "2021-07-17",
          "2021-07-16",
          "2021-07-15",
          "2021-07-14",
          "2021-06-28",
          "2021-06-27",
          "2021-06-21"
         ],
         "y": [
          6798,
          6798,
          20394,
          330778954,
          352478863,
          341615195,
          333109087,
          343530080,
          343778054,
          330262673,
          1434626893,
          534359282,
          611325,
          5465998
         ]
        },
        {
         "name": "{\"bond\": {\"validator\": \"terravaloper123gn6j23lmexu0qx5qhmgxgunmjcqsx8gmsyse\"}}",
         "type": "bar",
         "x": [
          "2021-08-05",
          "2021-08-04",
          "2021-08-03",
          "2021-08-01",
          "2021-07-31",
          "2021-07-29",
          "2021-07-28",
          "2021-07-26",
          "2021-07-25",
          "2021-07-24",
          "2021-07-23",
          "2021-07-10"
         ],
         "y": [
          6621597,
          3242108,
          3546774,
          3571683,
          7939872,
          7714307,
          4336515,
          9791065,
          5072388,
          973248,
          2737994,
          2005535
         ]
        },
        {
         "name": "{\"bond\": {\"validator\": \"terravaloper175hhkyxmkp8hf2zrzka7cnn7lk6mudtv4uuu64\"}}",
         "type": "bar",
         "x": [
          "2021-07-22",
          "2021-07-21",
          "2021-07-20",
          "2021-07-19",
          "2021-07-18",
          "2021-07-16",
          "2021-07-14",
          "2021-07-12",
          "2021-07-11",
          "2021-07-10",
          "2021-07-05",
          "2021-07-04",
          "2021-07-03",
          "2021-07-02",
          "2021-07-01",
          "2021-06-30",
          "2021-06-29",
          "2021-06-28",
          "2021-06-27",
          "2021-06-26",
          "2021-06-25",
          "2021-06-24",
          "2021-06-23",
          "2021-06-22"
         ],
         "y": [
          5044410,
          5694297,
          12789683,
          5989777,
          6201281,
          18355590,
          6210169,
          5864497,
          5098368,
          5452,
          4215005,
          4140442,
          4365326,
          4683850,
          4873517,
          4516335,
          4854562,
          5190799,
          5699831,
          5878452,
          6127895,
          5853752,
          6206453,
          3174475
         ]
        },
        {
         "name": "{\"bond\": {\"validator\": \"terravaloper144l7c3uph5a7h62xd8u5et3rqvj3dqtvvka2fu\"}}",
         "type": "bar",
         "x": [
          "2021-07-08",
          "2021-07-07",
          "2021-07-06"
         ],
         "y": [
          5546020,
          3529361,
          4027159
         ]
        },
        {
         "name": "{\"bond\": {\"validator\": \"terravaloper15zcjduavxc5mkp8qcqs9eyhwlqwdlrzy6jln3m\"}}",
         "type": "bar",
         "x": [
          "2021-06-21"
         ],
         "y": [
          27821
         ]
        }
       ],
       "layout": {
        "barmode": "stack",
        "template": {
         "data": {
          "bar": [
           {
            "error_x": {
             "color": "#2a3f5f"
            },
            "error_y": {
             "color": "#2a3f5f"
            },
            "marker": {
             "line": {
              "color": "#E5ECF6",
              "width": 0.5
             },
             "pattern": {
              "fillmode": "overlay",
              "size": 10,
              "solidity": 0.2
             }
            },
            "type": "bar"
           }
          ],
          "barpolar": [
           {
            "marker": {
             "line": {
              "color": "#E5ECF6",
              "width": 0.5
             },
             "pattern": {
              "fillmode": "overlay",
              "size": 10,
              "solidity": 0.2
             }
            },
            "type": "barpolar"
           }
          ],
          "carpet": [
           {
            "aaxis": {
             "endlinecolor": "#2a3f5f",
             "gridcolor": "white",
             "linecolor": "white",
             "minorgridcolor": "white",
             "startlinecolor": "#2a3f5f"
            },
            "baxis": {
             "endlinecolor": "#2a3f5f",
             "gridcolor": "white",
             "linecolor": "white",
             "minorgridcolor": "white",
             "startlinecolor": "#2a3f5f"
            },
            "type": "carpet"
           }
          ],
          "choropleth": [
           {
            "colorbar": {
             "outlinewidth": 0,
             "ticks": ""
            },
            "type": "choropleth"
           }
          ],
          "contour": [
           {
            "colorbar": {
             "outlinewidth": 0,
             "ticks": ""
            },
            "colorscale": [
             [
              0,
              "#0d0887"
             ],
             [
              0.1111111111111111,
              "#46039f"
             ],
             [
              0.2222222222222222,
              "#7201a8"
             ],
             [
              0.3333333333333333,
              "#9c179e"
             ],
             [
              0.4444444444444444,
              "#bd3786"
             ],
             [
              0.5555555555555556,
              "#d8576b"
             ],
             [
              0.6666666666666666,
              "#ed7953"
             ],
             [
              0.7777777777777778,
              "#fb9f3a"
             ],
             [
              0.8888888888888888,
              "#fdca26"
             ],
             [
              1,
              "#f0f921"
             ]
            ],
            "type": "contour"
           }
          ],
          "contourcarpet": [
           {
            "colorbar": {
             "outlinewidth": 0,
             "ticks": ""
            },
            "type": "contourcarpet"
           }
          ],
          "heatmap": [
           {
            "colorbar": {
             "outlinewidth": 0,
             "ticks": ""
            },
            "colorscale": [
             [
              0,
              "#0d0887"
             ],
             [
              0.1111111111111111,
              "#46039f"
             ],
             [
              0.2222222222222222,
              "#7201a8"
             ],
             [
              0.3333333333333333,
              "#9c179e"
             ],
             [
              0.4444444444444444,
              "#bd3786"
             ],
             [
              0.5555555555555556,
              "#d8576b"
             ],
             [
              0.6666666666666666,
              "#ed7953"
             ],
             [
              0.7777777777777778,
              "#fb9f3a"
             ],
             [
              0.8888888888888888,
              "#fdca26"
             ],
             [
              1,
              "#f0f921"
             ]
            ],
            "type": "heatmap"
           }
          ],
          "heatmapgl": [
           {
            "colorbar": {
             "outlinewidth": 0,
             "ticks": ""
            },
            "colorscale": [
             [
              0,
              "#0d0887"
             ],
             [
              0.1111111111111111,
              "#46039f"
             ],
             [
              0.2222222222222222,
              "#7201a8"
             ],
             [
              0.3333333333333333,
              "#9c179e"
             ],
             [
              0.4444444444444444,
              "#bd3786"
             ],
             [
              0.5555555555555556,
              "#d8576b"
             ],
             [
              0.6666666666666666,
              "#ed7953"
             ],
             [
              0.7777777777777778,
              "#fb9f3a"
             ],
             [
              0.8888888888888888,
              "#fdca26"
             ],
             [
              1,
              "#f0f921"
             ]
            ],
            "type": "heatmapgl"
           }
          ],
          "histogram": [
           {
            "marker": {
             "pattern": {
              "fillmode": "overlay",
              "size": 10,
              "solidity": 0.2
             }
            },
            "type": "histogram"
           }
          ],
          "histogram2d": [
           {
            "colorbar": {
             "outlinewidth": 0,
             "ticks": ""
            },
            "colorscale": [
             [
              0,
              "#0d0887"
             ],
             [
              0.1111111111111111,
              "#46039f"
             ],
             [
              0.2222222222222222,
              "#7201a8"
             ],
             [
              0.3333333333333333,
              "#9c179e"
             ],
             [
              0.4444444444444444,
              "#bd3786"
             ],
             [
              0.5555555555555556,
              "#d8576b"
             ],
             [
              0.6666666666666666,
              "#ed7953"
             ],
             [
              0.7777777777777778,
              "#fb9f3a"
             ],
             [
              0.8888888888888888,
              "#fdca26"
             ],
             [
              1,
              "#f0f921"
             ]
            ],
            "type": "histogram2d"
           }
          ],
          "histogram2dcontour": [
           {
            "colorbar": {
             "outlinewidth": 0,
             "ticks": ""
            },
            "colorscale": [
             [
              0,
              "#0d0887"
             ],
             [
              0.1111111111111111,
              "#46039f"
             ],
             [
              0.2222222222222222,
              "#7201a8"
             ],
             [
              0.3333333333333333,
              "#9c179e"
             ],
             [
              0.4444444444444444,
              "#bd3786"
             ],
             [
              0.5555555555555556,
              "#d8576b"
             ],
             [
              0.6666666666666666,
              "#ed7953"
             ],
             [
              0.7777777777777778,
              "#fb9f3a"
             ],
             [
              0.8888888888888888,
              "#fdca26"
             ],
             [
              1,
              "#f0f921"
             ]
            ],
            "type": "histogram2dcontour"
           }
          ],
          "mesh3d": [
           {
            "colorbar": {
             "outlinewidth": 0,
             "ticks": ""
            },
            "type": "mesh3d"
           }
          ],
          "parcoords": [
           {
            "line": {
             "colorbar": {
              "outlinewidth": 0,
              "ticks": ""
             }
            },
            "type": "parcoords"
           }
          ],
          "pie": [
           {
            "automargin": true,
            "type": "pie"
           }
          ],
          "scatter": [
           {
            "marker": {
             "colorbar": {
              "outlinewidth": 0,
              "ticks": ""
             }
            },
            "type": "scatter"
           }
          ],
          "scatter3d": [
           {
            "line": {
             "colorbar": {
              "outlinewidth": 0,
              "ticks": ""
             }
            },
            "marker": {
             "colorbar": {
              "outlinewidth": 0,
              "ticks": ""
             }
            },
            "type": "scatter3d"
           }
          ],
          "scattercarpet": [
           {
            "marker": {
             "colorbar": {
              "outlinewidth": 0,
              "ticks": ""
             }
            },
            "type": "scattercarpet"
           }
          ],
          "scattergeo": [
           {
            "marker": {
             "colorbar": {
              "outlinewidth": 0,
              "ticks": ""
             }
            },
            "type": "scattergeo"
           }
          ],
          "scattergl": [
           {
            "marker": {
             "colorbar": {
              "outlinewidth": 0,
              "ticks": ""
             }
            },
            "type": "scattergl"
           }
          ],
          "scattermapbox": [
           {
            "marker": {
             "colorbar": {
              "outlinewidth": 0,
              "ticks": ""
             }
            },
            "type": "scattermapbox"
           }
          ],
          "scatterpolar": [
           {
            "marker": {
             "colorbar": {
              "outlinewidth": 0,
              "ticks": ""
             }
            },
            "type": "scatterpolar"
           }
          ],
          "scatterpolargl": [
           {
            "marker": {
             "colorbar": {
              "outlinewidth": 0,
              "ticks": ""
             }
            },
            "type": "scatterpolargl"
           }
          ],
          "scatterternary": [
           {
            "marker": {
             "colorbar": {
              "outlinewidth": 0,
              "ticks": ""
             }
            },
            "type": "scatterternary"
           }
          ],
          "surface": [
           {
            "colorbar": {
             "outlinewidth": 0,
             "ticks": ""
            },
            "colorscale": [
             [
              0,
              "#0d0887"
             ],
             [
              0.1111111111111111,
              "#46039f"
             ],
             [
              0.2222222222222222,
              "#7201a8"
             ],
             [
              0.3333333333333333,
              "#9c179e"
             ],
             [
              0.4444444444444444,
              "#bd3786"
             ],
             [
              0.5555555555555556,
              "#d8576b"
             ],
             [
              0.6666666666666666,
              "#ed7953"
             ],
             [
              0.7777777777777778,
              "#fb9f3a"
             ],
             [
              0.8888888888888888,
              "#fdca26"
             ],
             [
              1,
              "#f0f921"
             ]
            ],
            "type": "surface"
           }
          ],
          "table": [
           {
            "cells": {
             "fill": {
              "color": "#EBF0F8"
             },
             "line": {
              "color": "white"
             }
            },
            "header": {
             "fill": {
              "color": "#C8D4E3"
             },
             "line": {
              "color": "white"
             }
            },
            "type": "table"
           }
          ]
         },
         "layout": {
          "annotationdefaults": {
           "arrowcolor": "#2a3f5f",
           "arrowhead": 0,
           "arrowwidth": 1
          },
          "autotypenumbers": "strict",
          "coloraxis": {
           "colorbar": {
            "outlinewidth": 0,
            "ticks": ""
           }
          },
          "colorscale": {
           "diverging": [
            [
             0,
             "#8e0152"
            ],
            [
             0.1,
             "#c51b7d"
            ],
            [
             0.2,
             "#de77ae"
            ],
            [
             0.3,
             "#f1b6da"
            ],
            [
             0.4,
             "#fde0ef"
            ],
            [
             0.5,
             "#f7f7f7"
            ],
            [
             0.6,
             "#e6f5d0"
            ],
            [
             0.7,
             "#b8e186"
            ],
            [
             0.8,
             "#7fbc41"
            ],
            [
             0.9,
             "#4d9221"
            ],
            [
             1,
             "#276419"
            ]
           ],
           "sequential": [
            [
             0,
             "#0d0887"
            ],
            [
             0.1111111111111111,
             "#46039f"
            ],
            [
             0.2222222222222222,
             "#7201a8"
            ],
            [
             0.3333333333333333,
             "#9c179e"
            ],
            [
             0.4444444444444444,
             "#bd3786"
            ],
            [
             0.5555555555555556,
             "#d8576b"
            ],
            [
             0.6666666666666666,
             "#ed7953"
            ],
            [
             0.7777777777777778,
             "#fb9f3a"
            ],
            [
             0.8888888888888888,
             "#fdca26"
            ],
            [
             1,
             "#f0f921"
            ]
           ],
           "sequentialminus": [
            [
             0,
             "#0d0887"
            ],
            [
             0.1111111111111111,
             "#46039f"
            ],
            [
             0.2222222222222222,
             "#7201a8"
            ],
            [
             0.3333333333333333,
             "#9c179e"
            ],
            [
             0.4444444444444444,
             "#bd3786"
            ],
            [
             0.5555555555555556,
             "#d8576b"
            ],
            [
             0.6666666666666666,
             "#ed7953"
            ],
            [
             0.7777777777777778,
             "#fb9f3a"
            ],
            [
             0.8888888888888888,
             "#fdca26"
            ],
            [
             1,
             "#f0f921"
            ]
           ]
          },
          "colorway": [
           "#636efa",
           "#EF553B",
           "#00cc96",
           "#ab63fa",
           "#FFA15A",
           "#19d3f3",
           "#FF6692",
           "#B6E880",
           "#FF97FF",
           "#FECB52"
          ],
          "font": {
           "color": "#2a3f5f"
          },
          "geo": {
           "bgcolor": "white",
           "lakecolor": "white",
           "landcolor": "#E5ECF6",
           "showlakes": true,
           "showland": true,
           "subunitcolor": "white"
          },
          "hoverlabel": {
           "align": "left"
          },
          "hovermode": "closest",
          "mapbox": {
           "style": "light"
          },
          "paper_bgcolor": "white",
          "plot_bgcolor": "#E5ECF6",
          "polar": {
           "angularaxis": {
            "gridcolor": "white",
            "linecolor": "white",
            "ticks": ""
           },
           "bgcolor": "#E5ECF6",
           "radialaxis": {
            "gridcolor": "white",
            "linecolor": "white",
            "ticks": ""
           }
          },
          "scene": {
           "xaxis": {
            "backgroundcolor": "#E5ECF6",
            "gridcolor": "white",
            "gridwidth": 2,
            "linecolor": "white",
            "showbackground": true,
            "ticks": "",
            "zerolinecolor": "white"
           },
           "yaxis": {
            "backgroundcolor": "#E5ECF6",
            "gridcolor": "white",
            "gridwidth": 2,
            "linecolor": "white",
            "showbackground": true,
            "ticks": "",
            "zerolinecolor": "white"
           },
           "zaxis": {
            "backgroundcolor": "#E5ECF6",
            "gridcolor": "white",
            "gridwidth": 2,
            "linecolor": "white",
            "showbackground": true,
            "ticks": "",
            "zerolinecolor": "white"
           }
          },
          "shapedefaults": {
           "line": {
            "color": "#2a3f5f"
           }
          },
          "ternary": {
           "aaxis": {
            "gridcolor": "white",
            "linecolor": "white",
            "ticks": ""
           },
           "baxis": {
            "gridcolor": "white",
            "linecolor": "white",
            "ticks": ""
           },
           "bgcolor": "#E5ECF6",
           "caxis": {
            "gridcolor": "white",
            "linecolor": "white",
            "ticks": ""
           }
          },
          "title": {
           "x": 0.05
          },
          "xaxis": {
           "automargin": true,
           "gridcolor": "white",
           "linecolor": "white",
           "ticks": "",
           "title": {
            "standoff": 15
           },
           "zerolinecolor": "white",
           "zerolinewidth": 2
          },
          "yaxis": {
           "automargin": true,
           "gridcolor": "white",
           "linecolor": "white",
           "ticks": "",
           "title": {
            "standoff": 15
           },
           "zerolinecolor": "white",
           "zerolinewidth": 2
          }
         }
        }
       }
      }
     },
     "metadata": {}
    }
   ],
   "metadata": {}
  },
  {
   "cell_type": "code",
   "execution_count": 3,
   "source": [
    "import psycopg2\n",
    "import plotly\n",
    "import plotly.graph_objs as go\n",
    "import plotly.graph_objects as px\n",
    "from plotly.subplots import make_subplots\n",
    "from statistics import stdev, mean\n",
    "import plotly.figure_factory as ff\n",
    "\n",
    "connection = psycopg2.connect(user=\"fraud\",\n",
    "                              password=\"12345\",\n",
    "                              host=\"127.0.0.1\",\n",
    "                              port=\"6432\")\n",
    "cursor = connection.cursor(\"lalala\")\n",
    "cursor.execute(\n",
    "    \"select date_trunc('day',date) as day ,sum((body->>'amount')::decimal),count(date) from messages group by day;\")\n",
    "days = []\n",
    "sums = []\n",
    "amounts = []\n",
    "for row in cursor.fetchall():\n",
    "    days.append(row[0])\n",
    "    sums.append(row[1])\n",
    "    amounts.append(row[2])\n",
    "\n",
    "fig = make_subplots(specs=[[{\"secondary_y\": True}]])\n",
    "fig.add_trace(go.Scatter(x=days, y=sums, name=\"Суммы по дням\"),\n",
    "              secondary_y=False)\n",
    "fig.add_trace(go.Scatter(x=days, y=amounts,\n",
    "                         name=\"кол-во send\"), secondary_y=True)\n",
    "fig.show()\n",
    "\n",
    "\n",
    "def split_range(minValue, maxValue, parts):\n",
    "    length = (maxValue - minValue)/parts\n",
    "    splits = []\n",
    "    for i in range(parts):\n",
    "        splits.append((i*length, (i+1)*length))\n",
    "    return splits\n",
    "\n",
    "\n",
    "ranges = split_range(min(amounts)*0.9, max(amounts)*1.1, 30)\n",
    "x_axis = list(map(lambda s: (s[1]-s[0])/2+s[0], ranges))\n",
    "values = [0]*len(x_axis)\n",
    "for value in amounts:\n",
    "    for r in enumerate(ranges):\n",
    "        if value > r[1][0] and value <= r[1][1]:\n",
    "            values[r[0]] = values[r[0]]+1\n",
    "\n",
    "s = stdev(amounts)\n",
    "m = mean(amounts)\n",
    "\n",
    "figdev = go.Figure()\n",
    "figdev.add_trace(go.Scatter(x=x_axis, y=values, name=\"\", mode=\"lines\"))\n",
    "figdev.add_vrect(\n",
    "    x0=m-s, x1=m+s,\n",
    "    fillcolor=\"LightSalmon\", opacity=0.5,\n",
    "    layer=\"below\", line_width=0,\n",
    ")\n",
    "figdev.add_vrect(\n",
    "    x0=m+s, x1=m+s*2,\n",
    "    fillcolor=\"LightGreen\", opacity=0.5,\n",
    "    layer=\"below\", line_width=0,\n",
    ")\n",
    "figdev.show()\n",
    "\n",
    "fig = ff.create_distplot([values], ['ff'])\n",
    "fig.show()\n"
   ],
   "outputs": [
    {
     "output_type": "display_data",
     "data": {
      "application/vnd.plotly.v1+json": {
       "config": {
        "plotlyServerURL": "https://plot.ly"
       },
       "data": [
        {
         "name": "Суммы по дням",
         "type": "scatter",
         "x": [
          "2021-05-14T00:00:00+00:00",
          "2021-05-15T00:00:00+00:00",
          "2021-05-16T00:00:00+00:00",
          "2021-05-17T00:00:00+00:00",
          "2021-05-18T00:00:00+00:00",
          "2021-05-19T00:00:00+00:00",
          "2021-05-20T00:00:00+00:00",
          "2021-05-21T00:00:00+00:00",
          "2021-05-22T00:00:00+00:00",
          "2021-05-23T00:00:00+00:00",
          "2021-05-24T00:00:00+00:00",
          "2021-05-25T00:00:00+00:00",
          "2021-05-26T00:00:00+00:00",
          "2021-05-27T00:00:00+00:00",
          "2021-05-28T00:00:00+00:00",
          "2021-05-29T00:00:00+00:00",
          "2021-05-30T00:00:00+00:00",
          "2021-05-31T00:00:00+00:00",
          "2021-06-01T00:00:00+00:00",
          "2021-06-02T00:00:00+00:00",
          "2021-06-03T00:00:00+00:00",
          "2021-06-04T00:00:00+00:00",
          "2021-06-05T00:00:00+00:00",
          "2021-06-06T00:00:00+00:00",
          "2021-06-07T00:00:00+00:00",
          "2021-06-08T00:00:00+00:00",
          "2021-06-09T00:00:00+00:00",
          "2021-06-10T00:00:00+00:00",
          "2021-06-11T00:00:00+00:00",
          "2021-06-12T00:00:00+00:00",
          "2021-06-13T00:00:00+00:00",
          "2021-06-14T00:00:00+00:00",
          "2021-06-15T00:00:00+00:00",
          "2021-06-16T00:00:00+00:00",
          "2021-06-17T00:00:00+00:00",
          "2021-06-18T00:00:00+00:00",
          "2021-06-19T00:00:00+00:00",
          "2021-06-20T00:00:00+00:00",
          "2021-06-21T00:00:00+00:00",
          "2021-06-22T00:00:00+00:00",
          "2021-06-23T00:00:00+00:00",
          "2021-06-24T00:00:00+00:00",
          "2021-06-25T00:00:00+00:00",
          "2021-06-26T00:00:00+00:00",
          "2021-06-27T00:00:00+00:00",
          "2021-06-28T00:00:00+00:00",
          "2021-06-29T00:00:00+00:00",
          "2021-06-30T00:00:00+00:00",
          "2021-07-01T00:00:00+00:00",
          "2021-07-02T00:00:00+00:00",
          "2021-07-03T00:00:00+00:00",
          "2021-07-04T00:00:00+00:00",
          "2021-07-05T00:00:00+00:00",
          "2021-07-06T00:00:00+00:00",
          "2021-07-07T00:00:00+00:00",
          "2021-07-08T00:00:00+00:00",
          "2021-07-09T00:00:00+00:00",
          "2021-07-10T00:00:00+00:00",
          "2021-07-11T00:00:00+00:00",
          "2021-07-12T00:00:00+00:00",
          "2021-07-13T00:00:00+00:00",
          "2021-07-14T00:00:00+00:00",
          "2021-07-15T00:00:00+00:00",
          "2021-07-16T00:00:00+00:00",
          "2021-07-17T00:00:00+00:00",
          "2021-07-18T00:00:00+00:00",
          "2021-07-19T00:00:00+00:00",
          "2021-07-20T00:00:00+00:00",
          "2021-07-21T00:00:00+00:00",
          "2021-07-22T00:00:00+00:00",
          "2021-07-23T00:00:00+00:00",
          "2021-07-24T00:00:00+00:00",
          "2021-07-25T00:00:00+00:00",
          "2021-07-26T00:00:00+00:00",
          "2021-07-27T00:00:00+00:00",
          "2021-07-28T00:00:00+00:00",
          "2021-07-29T00:00:00+00:00",
          "2021-07-30T00:00:00+00:00",
          "2021-07-31T00:00:00+00:00",
          "2021-08-01T00:00:00+00:00",
          "2021-08-02T00:00:00+00:00",
          "2021-08-03T00:00:00+00:00",
          "2021-08-04T00:00:00+00:00",
          "2021-08-05T00:00:00+00:00",
          "2021-08-06T00:00:00+00:00",
          "2021-08-07T00:00:00+00:00",
          "2021-08-08T00:00:00+00:00",
          "2021-08-09T00:00:00+00:00",
          "2021-08-10T00:00:00+00:00",
          "2021-08-11T00:00:00+00:00",
          "2021-08-12T00:00:00+00:00",
          "2021-08-13T00:00:00+00:00",
          "2021-08-14T00:00:00+00:00",
          "2021-08-15T00:00:00+00:00",
          "2021-08-16T00:00:00+00:00",
          "2021-08-17T00:00:00+00:00",
          "2021-08-18T00:00:00+00:00",
          "2021-08-19T00:00:00+00:00",
          "2021-08-20T00:00:00+00:00",
          "2021-08-21T00:00:00+00:00",
          "2021-08-22T00:00:00+00:00",
          "2021-08-23T00:00:00+00:00",
          "2021-08-24T00:00:00+00:00",
          "2021-08-25T00:00:00+00:00",
          "2021-08-26T00:00:00+00:00",
          "2021-08-27T00:00:00+00:00",
          "2021-08-28T00:00:00+00:00",
          "2021-08-29T00:00:00+00:00",
          "2021-08-30T00:00:00+00:00"
         ],
         "xaxis": "x",
         "y": [
          2948595590,
          375571299308,
          219843628986,
          319272617630,
          220798487526,
          32920702492177,
          6190742709199,
          13406135270784,
          5780578176063,
          15275143380758,
          3760110801945,
          1437648193207,
          885686345452,
          529554349714,
          743585449301,
          1186011526497,
          547614566161,
          3408195987167,
          2007275187225,
          474278769973,
          876100689844,
          2097698233177,
          675137107327,
          550079919936,
          1244684991759,
          2395623908360,
          1525809492573,
          1013095483777,
          1155534536997,
          1019578232850,
          1492269276681,
          662895089937,
          913529998371,
          644755885545,
          542133058818,
          1442124898727,
          739460585899,
          992831430693,
          2225037645906,
          5059832403870,
          1086352062594,
          877703373097,
          881898501976,
          858550746677,
          522606294975,
          794310332277,
          636717320161,
          570873618647,
          492179149696,
          651858998115,
          451721967962,
          533321556734,
          375412844583,
          802250456735,
          966026576727,
          439812629015,
          619324007613,
          425275811806,
          441336845704,
          458985113157,
          676518307519,
          1894784947370,
          327564177099,
          889517970132,
          358682284778,
          382355703313,
          754338199988,
          1648862480498,
          599268805290,
          649051897288,
          822047927873,
          877884674442,
          316286419379,
          712553718596,
          366932407459,
          1577556691951,
          705950926603,
          1111676303088,
          527887307966,
          320638037924,
          356993001328,
          1933505610185,
          3910996701855,
          969035359864,
          3410723858465,
          431985045808,
          425374486866,
          2248195165870,
          599543433424,
          468772612816,
          369042473805,
          3554395556014,
          1832958487656,
          486519486454,
          2182820464813,
          2435134672540,
          4036182291790,
          2661727804928,
          630439292539,
          540802132534,
          2651826642172,
          1123724522844,
          798293523422,
          673142017232,
          780751058644,
          628294930306,
          564303879223,
          639241935259,
          260629197380
         ],
         "yaxis": "y"
        },
        {
         "name": "кол-во send",
         "type": "scatter",
         "x": [
          "2021-05-14T00:00:00+00:00",
          "2021-05-15T00:00:00+00:00",
          "2021-05-16T00:00:00+00:00",
          "2021-05-17T00:00:00+00:00",
          "2021-05-18T00:00:00+00:00",
          "2021-05-19T00:00:00+00:00",
          "2021-05-20T00:00:00+00:00",
          "2021-05-21T00:00:00+00:00",
          "2021-05-22T00:00:00+00:00",
          "2021-05-23T00:00:00+00:00",
          "2021-05-24T00:00:00+00:00",
          "2021-05-25T00:00:00+00:00",
          "2021-05-26T00:00:00+00:00",
          "2021-05-27T00:00:00+00:00",
          "2021-05-28T00:00:00+00:00",
          "2021-05-29T00:00:00+00:00",
          "2021-05-30T00:00:00+00:00",
          "2021-05-31T00:00:00+00:00",
          "2021-06-01T00:00:00+00:00",
          "2021-06-02T00:00:00+00:00",
          "2021-06-03T00:00:00+00:00",
          "2021-06-04T00:00:00+00:00",
          "2021-06-05T00:00:00+00:00",
          "2021-06-06T00:00:00+00:00",
          "2021-06-07T00:00:00+00:00",
          "2021-06-08T00:00:00+00:00",
          "2021-06-09T00:00:00+00:00",
          "2021-06-10T00:00:00+00:00",
          "2021-06-11T00:00:00+00:00",
          "2021-06-12T00:00:00+00:00",
          "2021-06-13T00:00:00+00:00",
          "2021-06-14T00:00:00+00:00",
          "2021-06-15T00:00:00+00:00",
          "2021-06-16T00:00:00+00:00",
          "2021-06-17T00:00:00+00:00",
          "2021-06-18T00:00:00+00:00",
          "2021-06-19T00:00:00+00:00",
          "2021-06-20T00:00:00+00:00",
          "2021-06-21T00:00:00+00:00",
          "2021-06-22T00:00:00+00:00",
          "2021-06-23T00:00:00+00:00",
          "2021-06-24T00:00:00+00:00",
          "2021-06-25T00:00:00+00:00",
          "2021-06-26T00:00:00+00:00",
          "2021-06-27T00:00:00+00:00",
          "2021-06-28T00:00:00+00:00",
          "2021-06-29T00:00:00+00:00",
          "2021-06-30T00:00:00+00:00",
          "2021-07-01T00:00:00+00:00",
          "2021-07-02T00:00:00+00:00",
          "2021-07-03T00:00:00+00:00",
          "2021-07-04T00:00:00+00:00",
          "2021-07-05T00:00:00+00:00",
          "2021-07-06T00:00:00+00:00",
          "2021-07-07T00:00:00+00:00",
          "2021-07-08T00:00:00+00:00",
          "2021-07-09T00:00:00+00:00",
          "2021-07-10T00:00:00+00:00",
          "2021-07-11T00:00:00+00:00",
          "2021-07-12T00:00:00+00:00",
          "2021-07-13T00:00:00+00:00",
          "2021-07-14T00:00:00+00:00",
          "2021-07-15T00:00:00+00:00",
          "2021-07-16T00:00:00+00:00",
          "2021-07-17T00:00:00+00:00",
          "2021-07-18T00:00:00+00:00",
          "2021-07-19T00:00:00+00:00",
          "2021-07-20T00:00:00+00:00",
          "2021-07-21T00:00:00+00:00",
          "2021-07-22T00:00:00+00:00",
          "2021-07-23T00:00:00+00:00",
          "2021-07-24T00:00:00+00:00",
          "2021-07-25T00:00:00+00:00",
          "2021-07-26T00:00:00+00:00",
          "2021-07-27T00:00:00+00:00",
          "2021-07-28T00:00:00+00:00",
          "2021-07-29T00:00:00+00:00",
          "2021-07-30T00:00:00+00:00",
          "2021-07-31T00:00:00+00:00",
          "2021-08-01T00:00:00+00:00",
          "2021-08-02T00:00:00+00:00",
          "2021-08-03T00:00:00+00:00",
          "2021-08-04T00:00:00+00:00",
          "2021-08-05T00:00:00+00:00",
          "2021-08-06T00:00:00+00:00",
          "2021-08-07T00:00:00+00:00",
          "2021-08-08T00:00:00+00:00",
          "2021-08-09T00:00:00+00:00",
          "2021-08-10T00:00:00+00:00",
          "2021-08-11T00:00:00+00:00",
          "2021-08-12T00:00:00+00:00",
          "2021-08-13T00:00:00+00:00",
          "2021-08-14T00:00:00+00:00",
          "2021-08-15T00:00:00+00:00",
          "2021-08-16T00:00:00+00:00",
          "2021-08-17T00:00:00+00:00",
          "2021-08-18T00:00:00+00:00",
          "2021-08-19T00:00:00+00:00",
          "2021-08-20T00:00:00+00:00",
          "2021-08-21T00:00:00+00:00",
          "2021-08-22T00:00:00+00:00",
          "2021-08-23T00:00:00+00:00",
          "2021-08-24T00:00:00+00:00",
          "2021-08-25T00:00:00+00:00",
          "2021-08-26T00:00:00+00:00",
          "2021-08-27T00:00:00+00:00",
          "2021-08-28T00:00:00+00:00",
          "2021-08-29T00:00:00+00:00",
          "2021-08-30T00:00:00+00:00"
         ],
         "xaxis": "x",
         "y": [
          10,
          564,
          673,
          933,
          549,
          8035,
          5639,
          5051,
          5059,
          11889,
          2738,
          1434,
          1465,
          904,
          1335,
          1120,
          907,
          889,
          769,
          753,
          875,
          1332,
          869,
          752,
          1141,
          2362,
          1363,
          1034,
          953,
          998,
          829,
          833,
          1059,
          894,
          882,
          1064,
          785,
          998,
          1975,
          2789,
          1207,
          922,
          1100,
          904,
          894,
          990,
          1183,
          940,
          857,
          1026,
          797,
          824,
          1041,
          1247,
          1519,
          1236,
          1417,
          1059,
          1046,
          1227,
          1565,
          1635,
          1144,
          1225,
          786,
          700,
          1609,
          1624,
          1110,
          1092,
          1309,
          1079,
          802,
          1512,
          947,
          1229,
          1359,
          932,
          872,
          893,
          1000,
          2110,
          1608,
          1178,
          842,
          900,
          1103,
          940,
          1241,
          1485,
          1066,
          1012,
          907,
          1221,
          2713,
          2537,
          2655,
          2906,
          1402,
          1533,
          2020,
          1687,
          2021,
          1471,
          1950,
          1460,
          1757,
          1279,
          582
         ],
         "yaxis": "y2"
        }
       ],
       "layout": {
        "template": {
         "data": {
          "bar": [
           {
            "error_x": {
             "color": "#2a3f5f"
            },
            "error_y": {
             "color": "#2a3f5f"
            },
            "marker": {
             "line": {
              "color": "#E5ECF6",
              "width": 0.5
             },
             "pattern": {
              "fillmode": "overlay",
              "size": 10,
              "solidity": 0.2
             }
            },
            "type": "bar"
           }
          ],
          "barpolar": [
           {
            "marker": {
             "line": {
              "color": "#E5ECF6",
              "width": 0.5
             },
             "pattern": {
              "fillmode": "overlay",
              "size": 10,
              "solidity": 0.2
             }
            },
            "type": "barpolar"
           }
          ],
          "carpet": [
           {
            "aaxis": {
             "endlinecolor": "#2a3f5f",
             "gridcolor": "white",
             "linecolor": "white",
             "minorgridcolor": "white",
             "startlinecolor": "#2a3f5f"
            },
            "baxis": {
             "endlinecolor": "#2a3f5f",
             "gridcolor": "white",
             "linecolor": "white",
             "minorgridcolor": "white",
             "startlinecolor": "#2a3f5f"
            },
            "type": "carpet"
           }
          ],
          "choropleth": [
           {
            "colorbar": {
             "outlinewidth": 0,
             "ticks": ""
            },
            "type": "choropleth"
           }
          ],
          "contour": [
           {
            "colorbar": {
             "outlinewidth": 0,
             "ticks": ""
            },
            "colorscale": [
             [
              0,
              "#0d0887"
             ],
             [
              0.1111111111111111,
              "#46039f"
             ],
             [
              0.2222222222222222,
              "#7201a8"
             ],
             [
              0.3333333333333333,
              "#9c179e"
             ],
             [
              0.4444444444444444,
              "#bd3786"
             ],
             [
              0.5555555555555556,
              "#d8576b"
             ],
             [
              0.6666666666666666,
              "#ed7953"
             ],
             [
              0.7777777777777778,
              "#fb9f3a"
             ],
             [
              0.8888888888888888,
              "#fdca26"
             ],
             [
              1,
              "#f0f921"
             ]
            ],
            "type": "contour"
           }
          ],
          "contourcarpet": [
           {
            "colorbar": {
             "outlinewidth": 0,
             "ticks": ""
            },
            "type": "contourcarpet"
           }
          ],
          "heatmap": [
           {
            "colorbar": {
             "outlinewidth": 0,
             "ticks": ""
            },
            "colorscale": [
             [
              0,
              "#0d0887"
             ],
             [
              0.1111111111111111,
              "#46039f"
             ],
             [
              0.2222222222222222,
              "#7201a8"
             ],
             [
              0.3333333333333333,
              "#9c179e"
             ],
             [
              0.4444444444444444,
              "#bd3786"
             ],
             [
              0.5555555555555556,
              "#d8576b"
             ],
             [
              0.6666666666666666,
              "#ed7953"
             ],
             [
              0.7777777777777778,
              "#fb9f3a"
             ],
             [
              0.8888888888888888,
              "#fdca26"
             ],
             [
              1,
              "#f0f921"
             ]
            ],
            "type": "heatmap"
           }
          ],
          "heatmapgl": [
           {
            "colorbar": {
             "outlinewidth": 0,
             "ticks": ""
            },
            "colorscale": [
             [
              0,
              "#0d0887"
             ],
             [
              0.1111111111111111,
              "#46039f"
             ],
             [
              0.2222222222222222,
              "#7201a8"
             ],
             [
              0.3333333333333333,
              "#9c179e"
             ],
             [
              0.4444444444444444,
              "#bd3786"
             ],
             [
              0.5555555555555556,
              "#d8576b"
             ],
             [
              0.6666666666666666,
              "#ed7953"
             ],
             [
              0.7777777777777778,
              "#fb9f3a"
             ],
             [
              0.8888888888888888,
              "#fdca26"
             ],
             [
              1,
              "#f0f921"
             ]
            ],
            "type": "heatmapgl"
           }
          ],
          "histogram": [
           {
            "marker": {
             "pattern": {
              "fillmode": "overlay",
              "size": 10,
              "solidity": 0.2
             }
            },
            "type": "histogram"
           }
          ],
          "histogram2d": [
           {
            "colorbar": {
             "outlinewidth": 0,
             "ticks": ""
            },
            "colorscale": [
             [
              0,
              "#0d0887"
             ],
             [
              0.1111111111111111,
              "#46039f"
             ],
             [
              0.2222222222222222,
              "#7201a8"
             ],
             [
              0.3333333333333333,
              "#9c179e"
             ],
             [
              0.4444444444444444,
              "#bd3786"
             ],
             [
              0.5555555555555556,
              "#d8576b"
             ],
             [
              0.6666666666666666,
              "#ed7953"
             ],
             [
              0.7777777777777778,
              "#fb9f3a"
             ],
             [
              0.8888888888888888,
              "#fdca26"
             ],
             [
              1,
              "#f0f921"
             ]
            ],
            "type": "histogram2d"
           }
          ],
          "histogram2dcontour": [
           {
            "colorbar": {
             "outlinewidth": 0,
             "ticks": ""
            },
            "colorscale": [
             [
              0,
              "#0d0887"
             ],
             [
              0.1111111111111111,
              "#46039f"
             ],
             [
              0.2222222222222222,
              "#7201a8"
             ],
             [
              0.3333333333333333,
              "#9c179e"
             ],
             [
              0.4444444444444444,
              "#bd3786"
             ],
             [
              0.5555555555555556,
              "#d8576b"
             ],
             [
              0.6666666666666666,
              "#ed7953"
             ],
             [
              0.7777777777777778,
              "#fb9f3a"
             ],
             [
              0.8888888888888888,
              "#fdca26"
             ],
             [
              1,
              "#f0f921"
             ]
            ],
            "type": "histogram2dcontour"
           }
          ],
          "mesh3d": [
           {
            "colorbar": {
             "outlinewidth": 0,
             "ticks": ""
            },
            "type": "mesh3d"
           }
          ],
          "parcoords": [
           {
            "line": {
             "colorbar": {
              "outlinewidth": 0,
              "ticks": ""
             }
            },
            "type": "parcoords"
           }
          ],
          "pie": [
           {
            "automargin": true,
            "type": "pie"
           }
          ],
          "scatter": [
           {
            "marker": {
             "colorbar": {
              "outlinewidth": 0,
              "ticks": ""
             }
            },
            "type": "scatter"
           }
          ],
          "scatter3d": [
           {
            "line": {
             "colorbar": {
              "outlinewidth": 0,
              "ticks": ""
             }
            },
            "marker": {
             "colorbar": {
              "outlinewidth": 0,
              "ticks": ""
             }
            },
            "type": "scatter3d"
           }
          ],
          "scattercarpet": [
           {
            "marker": {
             "colorbar": {
              "outlinewidth": 0,
              "ticks": ""
             }
            },
            "type": "scattercarpet"
           }
          ],
          "scattergeo": [
           {
            "marker": {
             "colorbar": {
              "outlinewidth": 0,
              "ticks": ""
             }
            },
            "type": "scattergeo"
           }
          ],
          "scattergl": [
           {
            "marker": {
             "colorbar": {
              "outlinewidth": 0,
              "ticks": ""
             }
            },
            "type": "scattergl"
           }
          ],
          "scattermapbox": [
           {
            "marker": {
             "colorbar": {
              "outlinewidth": 0,
              "ticks": ""
             }
            },
            "type": "scattermapbox"
           }
          ],
          "scatterpolar": [
           {
            "marker": {
             "colorbar": {
              "outlinewidth": 0,
              "ticks": ""
             }
            },
            "type": "scatterpolar"
           }
          ],
          "scatterpolargl": [
           {
            "marker": {
             "colorbar": {
              "outlinewidth": 0,
              "ticks": ""
             }
            },
            "type": "scatterpolargl"
           }
          ],
          "scatterternary": [
           {
            "marker": {
             "colorbar": {
              "outlinewidth": 0,
              "ticks": ""
             }
            },
            "type": "scatterternary"
           }
          ],
          "surface": [
           {
            "colorbar": {
             "outlinewidth": 0,
             "ticks": ""
            },
            "colorscale": [
             [
              0,
              "#0d0887"
             ],
             [
              0.1111111111111111,
              "#46039f"
             ],
             [
              0.2222222222222222,
              "#7201a8"
             ],
             [
              0.3333333333333333,
              "#9c179e"
             ],
             [
              0.4444444444444444,
              "#bd3786"
             ],
             [
              0.5555555555555556,
              "#d8576b"
             ],
             [
              0.6666666666666666,
              "#ed7953"
             ],
             [
              0.7777777777777778,
              "#fb9f3a"
             ],
             [
              0.8888888888888888,
              "#fdca26"
             ],
             [
              1,
              "#f0f921"
             ]
            ],
            "type": "surface"
           }
          ],
          "table": [
           {
            "cells": {
             "fill": {
              "color": "#EBF0F8"
             },
             "line": {
              "color": "white"
             }
            },
            "header": {
             "fill": {
              "color": "#C8D4E3"
             },
             "line": {
              "color": "white"
             }
            },
            "type": "table"
           }
          ]
         },
         "layout": {
          "annotationdefaults": {
           "arrowcolor": "#2a3f5f",
           "arrowhead": 0,
           "arrowwidth": 1
          },
          "autotypenumbers": "strict",
          "coloraxis": {
           "colorbar": {
            "outlinewidth": 0,
            "ticks": ""
           }
          },
          "colorscale": {
           "diverging": [
            [
             0,
             "#8e0152"
            ],
            [
             0.1,
             "#c51b7d"
            ],
            [
             0.2,
             "#de77ae"
            ],
            [
             0.3,
             "#f1b6da"
            ],
            [
             0.4,
             "#fde0ef"
            ],
            [
             0.5,
             "#f7f7f7"
            ],
            [
             0.6,
             "#e6f5d0"
            ],
            [
             0.7,
             "#b8e186"
            ],
            [
             0.8,
             "#7fbc41"
            ],
            [
             0.9,
             "#4d9221"
            ],
            [
             1,
             "#276419"
            ]
           ],
           "sequential": [
            [
             0,
             "#0d0887"
            ],
            [
             0.1111111111111111,
             "#46039f"
            ],
            [
             0.2222222222222222,
             "#7201a8"
            ],
            [
             0.3333333333333333,
             "#9c179e"
            ],
            [
             0.4444444444444444,
             "#bd3786"
            ],
            [
             0.5555555555555556,
             "#d8576b"
            ],
            [
             0.6666666666666666,
             "#ed7953"
            ],
            [
             0.7777777777777778,
             "#fb9f3a"
            ],
            [
             0.8888888888888888,
             "#fdca26"
            ],
            [
             1,
             "#f0f921"
            ]
           ],
           "sequentialminus": [
            [
             0,
             "#0d0887"
            ],
            [
             0.1111111111111111,
             "#46039f"
            ],
            [
             0.2222222222222222,
             "#7201a8"
            ],
            [
             0.3333333333333333,
             "#9c179e"
            ],
            [
             0.4444444444444444,
             "#bd3786"
            ],
            [
             0.5555555555555556,
             "#d8576b"
            ],
            [
             0.6666666666666666,
             "#ed7953"
            ],
            [
             0.7777777777777778,
             "#fb9f3a"
            ],
            [
             0.8888888888888888,
             "#fdca26"
            ],
            [
             1,
             "#f0f921"
            ]
           ]
          },
          "colorway": [
           "#636efa",
           "#EF553B",
           "#00cc96",
           "#ab63fa",
           "#FFA15A",
           "#19d3f3",
           "#FF6692",
           "#B6E880",
           "#FF97FF",
           "#FECB52"
          ],
          "font": {
           "color": "#2a3f5f"
          },
          "geo": {
           "bgcolor": "white",
           "lakecolor": "white",
           "landcolor": "#E5ECF6",
           "showlakes": true,
           "showland": true,
           "subunitcolor": "white"
          },
          "hoverlabel": {
           "align": "left"
          },
          "hovermode": "closest",
          "mapbox": {
           "style": "light"
          },
          "paper_bgcolor": "white",
          "plot_bgcolor": "#E5ECF6",
          "polar": {
           "angularaxis": {
            "gridcolor": "white",
            "linecolor": "white",
            "ticks": ""
           },
           "bgcolor": "#E5ECF6",
           "radialaxis": {
            "gridcolor": "white",
            "linecolor": "white",
            "ticks": ""
           }
          },
          "scene": {
           "xaxis": {
            "backgroundcolor": "#E5ECF6",
            "gridcolor": "white",
            "gridwidth": 2,
            "linecolor": "white",
            "showbackground": true,
            "ticks": "",
            "zerolinecolor": "white"
           },
           "yaxis": {
            "backgroundcolor": "#E5ECF6",
            "gridcolor": "white",
            "gridwidth": 2,
            "linecolor": "white",
            "showbackground": true,
            "ticks": "",
            "zerolinecolor": "white"
           },
           "zaxis": {
            "backgroundcolor": "#E5ECF6",
            "gridcolor": "white",
            "gridwidth": 2,
            "linecolor": "white",
            "showbackground": true,
            "ticks": "",
            "zerolinecolor": "white"
           }
          },
          "shapedefaults": {
           "line": {
            "color": "#2a3f5f"
           }
          },
          "ternary": {
           "aaxis": {
            "gridcolor": "white",
            "linecolor": "white",
            "ticks": ""
           },
           "baxis": {
            "gridcolor": "white",
            "linecolor": "white",
            "ticks": ""
           },
           "bgcolor": "#E5ECF6",
           "caxis": {
            "gridcolor": "white",
            "linecolor": "white",
            "ticks": ""
           }
          },
          "title": {
           "x": 0.05
          },
          "xaxis": {
           "automargin": true,
           "gridcolor": "white",
           "linecolor": "white",
           "ticks": "",
           "title": {
            "standoff": 15
           },
           "zerolinecolor": "white",
           "zerolinewidth": 2
          },
          "yaxis": {
           "automargin": true,
           "gridcolor": "white",
           "linecolor": "white",
           "ticks": "",
           "title": {
            "standoff": 15
           },
           "zerolinecolor": "white",
           "zerolinewidth": 2
          }
         }
        },
        "xaxis": {
         "anchor": "y",
         "domain": [
          0,
          0.94
         ]
        },
        "yaxis": {
         "anchor": "x",
         "domain": [
          0,
          1
         ]
        },
        "yaxis2": {
         "anchor": "x",
         "overlaying": "y",
         "side": "right"
        }
       }
      }
     },
     "metadata": {}
    },
    {
     "output_type": "display_data",
     "data": {
      "application/vnd.plotly.v1+json": {
       "config": {
        "plotlyServerURL": "https://plot.ly"
       },
       "data": [
        {
         "mode": "lines",
         "name": "",
         "type": "scatter",
         "x": [
          59.294999999999995,
          177.885,
          296.47499999999997,
          415.06499999999994,
          533.655,
          652.2449999999999,
          770.8349999999999,
          889.425,
          1008.0149999999999,
          1126.605,
          1245.1949999999997,
          1363.7849999999999,
          1482.375,
          1600.9649999999997,
          1719.5549999999998,
          1838.145,
          1956.7349999999997,
          2075.325,
          2193.915,
          2312.5049999999997,
          2431.095,
          2549.6849999999995,
          2668.2749999999996,
          2786.865,
          2905.455,
          3024.0449999999996,
          3142.6349999999998,
          3261.2249999999995,
          3379.8149999999996,
          3498.4049999999997
         ],
         "y": [
          1,
          0,
          0,
          0,
          3,
          2,
          9,
          22,
          14,
          10,
          9,
          7,
          8,
          5,
          2,
          0,
          2,
          3,
          0,
          1,
          0,
          1,
          2,
          2,
          1,
          0,
          0,
          0,
          0,
          0
         ]
        }
       ],
       "layout": {
        "shapes": [
         {
          "fillcolor": "LightSalmon",
          "layer": "below",
          "line": {
           "width": 0
          },
          "opacity": 0.5,
          "type": "rect",
          "x0": 49.63181194537947,
          "x1": 2958.6067201647124,
          "xref": "x",
          "y0": 0,
          "y1": 1,
          "yref": "y domain"
         },
         {
          "fillcolor": "LightGreen",
          "layer": "below",
          "line": {
           "width": 0
          },
          "opacity": 0.5,
          "type": "rect",
          "x0": 2958.6067201647124,
          "x1": 4413.094174274379,
          "xref": "x",
          "y0": 0,
          "y1": 1,
          "yref": "y domain"
         }
        ],
        "template": {
         "data": {
          "bar": [
           {
            "error_x": {
             "color": "#2a3f5f"
            },
            "error_y": {
             "color": "#2a3f5f"
            },
            "marker": {
             "line": {
              "color": "#E5ECF6",
              "width": 0.5
             },
             "pattern": {
              "fillmode": "overlay",
              "size": 10,
              "solidity": 0.2
             }
            },
            "type": "bar"
           }
          ],
          "barpolar": [
           {
            "marker": {
             "line": {
              "color": "#E5ECF6",
              "width": 0.5
             },
             "pattern": {
              "fillmode": "overlay",
              "size": 10,
              "solidity": 0.2
             }
            },
            "type": "barpolar"
           }
          ],
          "carpet": [
           {
            "aaxis": {
             "endlinecolor": "#2a3f5f",
             "gridcolor": "white",
             "linecolor": "white",
             "minorgridcolor": "white",
             "startlinecolor": "#2a3f5f"
            },
            "baxis": {
             "endlinecolor": "#2a3f5f",
             "gridcolor": "white",
             "linecolor": "white",
             "minorgridcolor": "white",
             "startlinecolor": "#2a3f5f"
            },
            "type": "carpet"
           }
          ],
          "choropleth": [
           {
            "colorbar": {
             "outlinewidth": 0,
             "ticks": ""
            },
            "type": "choropleth"
           }
          ],
          "contour": [
           {
            "colorbar": {
             "outlinewidth": 0,
             "ticks": ""
            },
            "colorscale": [
             [
              0,
              "#0d0887"
             ],
             [
              0.1111111111111111,
              "#46039f"
             ],
             [
              0.2222222222222222,
              "#7201a8"
             ],
             [
              0.3333333333333333,
              "#9c179e"
             ],
             [
              0.4444444444444444,
              "#bd3786"
             ],
             [
              0.5555555555555556,
              "#d8576b"
             ],
             [
              0.6666666666666666,
              "#ed7953"
             ],
             [
              0.7777777777777778,
              "#fb9f3a"
             ],
             [
              0.8888888888888888,
              "#fdca26"
             ],
             [
              1,
              "#f0f921"
             ]
            ],
            "type": "contour"
           }
          ],
          "contourcarpet": [
           {
            "colorbar": {
             "outlinewidth": 0,
             "ticks": ""
            },
            "type": "contourcarpet"
           }
          ],
          "heatmap": [
           {
            "colorbar": {
             "outlinewidth": 0,
             "ticks": ""
            },
            "colorscale": [
             [
              0,
              "#0d0887"
             ],
             [
              0.1111111111111111,
              "#46039f"
             ],
             [
              0.2222222222222222,
              "#7201a8"
             ],
             [
              0.3333333333333333,
              "#9c179e"
             ],
             [
              0.4444444444444444,
              "#bd3786"
             ],
             [
              0.5555555555555556,
              "#d8576b"
             ],
             [
              0.6666666666666666,
              "#ed7953"
             ],
             [
              0.7777777777777778,
              "#fb9f3a"
             ],
             [
              0.8888888888888888,
              "#fdca26"
             ],
             [
              1,
              "#f0f921"
             ]
            ],
            "type": "heatmap"
           }
          ],
          "heatmapgl": [
           {
            "colorbar": {
             "outlinewidth": 0,
             "ticks": ""
            },
            "colorscale": [
             [
              0,
              "#0d0887"
             ],
             [
              0.1111111111111111,
              "#46039f"
             ],
             [
              0.2222222222222222,
              "#7201a8"
             ],
             [
              0.3333333333333333,
              "#9c179e"
             ],
             [
              0.4444444444444444,
              "#bd3786"
             ],
             [
              0.5555555555555556,
              "#d8576b"
             ],
             [
              0.6666666666666666,
              "#ed7953"
             ],
             [
              0.7777777777777778,
              "#fb9f3a"
             ],
             [
              0.8888888888888888,
              "#fdca26"
             ],
             [
              1,
              "#f0f921"
             ]
            ],
            "type": "heatmapgl"
           }
          ],
          "histogram": [
           {
            "marker": {
             "pattern": {
              "fillmode": "overlay",
              "size": 10,
              "solidity": 0.2
             }
            },
            "type": "histogram"
           }
          ],
          "histogram2d": [
           {
            "colorbar": {
             "outlinewidth": 0,
             "ticks": ""
            },
            "colorscale": [
             [
              0,
              "#0d0887"
             ],
             [
              0.1111111111111111,
              "#46039f"
             ],
             [
              0.2222222222222222,
              "#7201a8"
             ],
             [
              0.3333333333333333,
              "#9c179e"
             ],
             [
              0.4444444444444444,
              "#bd3786"
             ],
             [
              0.5555555555555556,
              "#d8576b"
             ],
             [
              0.6666666666666666,
              "#ed7953"
             ],
             [
              0.7777777777777778,
              "#fb9f3a"
             ],
             [
              0.8888888888888888,
              "#fdca26"
             ],
             [
              1,
              "#f0f921"
             ]
            ],
            "type": "histogram2d"
           }
          ],
          "histogram2dcontour": [
           {
            "colorbar": {
             "outlinewidth": 0,
             "ticks": ""
            },
            "colorscale": [
             [
              0,
              "#0d0887"
             ],
             [
              0.1111111111111111,
              "#46039f"
             ],
             [
              0.2222222222222222,
              "#7201a8"
             ],
             [
              0.3333333333333333,
              "#9c179e"
             ],
             [
              0.4444444444444444,
              "#bd3786"
             ],
             [
              0.5555555555555556,
              "#d8576b"
             ],
             [
              0.6666666666666666,
              "#ed7953"
             ],
             [
              0.7777777777777778,
              "#fb9f3a"
             ],
             [
              0.8888888888888888,
              "#fdca26"
             ],
             [
              1,
              "#f0f921"
             ]
            ],
            "type": "histogram2dcontour"
           }
          ],
          "mesh3d": [
           {
            "colorbar": {
             "outlinewidth": 0,
             "ticks": ""
            },
            "type": "mesh3d"
           }
          ],
          "parcoords": [
           {
            "line": {
             "colorbar": {
              "outlinewidth": 0,
              "ticks": ""
             }
            },
            "type": "parcoords"
           }
          ],
          "pie": [
           {
            "automargin": true,
            "type": "pie"
           }
          ],
          "scatter": [
           {
            "marker": {
             "colorbar": {
              "outlinewidth": 0,
              "ticks": ""
             }
            },
            "type": "scatter"
           }
          ],
          "scatter3d": [
           {
            "line": {
             "colorbar": {
              "outlinewidth": 0,
              "ticks": ""
             }
            },
            "marker": {
             "colorbar": {
              "outlinewidth": 0,
              "ticks": ""
             }
            },
            "type": "scatter3d"
           }
          ],
          "scattercarpet": [
           {
            "marker": {
             "colorbar": {
              "outlinewidth": 0,
              "ticks": ""
             }
            },
            "type": "scattercarpet"
           }
          ],
          "scattergeo": [
           {
            "marker": {
             "colorbar": {
              "outlinewidth": 0,
              "ticks": ""
             }
            },
            "type": "scattergeo"
           }
          ],
          "scattergl": [
           {
            "marker": {
             "colorbar": {
              "outlinewidth": 0,
              "ticks": ""
             }
            },
            "type": "scattergl"
           }
          ],
          "scattermapbox": [
           {
            "marker": {
             "colorbar": {
              "outlinewidth": 0,
              "ticks": ""
             }
            },
            "type": "scattermapbox"
           }
          ],
          "scatterpolar": [
           {
            "marker": {
             "colorbar": {
              "outlinewidth": 0,
              "ticks": ""
             }
            },
            "type": "scatterpolar"
           }
          ],
          "scatterpolargl": [
           {
            "marker": {
             "colorbar": {
              "outlinewidth": 0,
              "ticks": ""
             }
            },
            "type": "scatterpolargl"
           }
          ],
          "scatterternary": [
           {
            "marker": {
             "colorbar": {
              "outlinewidth": 0,
              "ticks": ""
             }
            },
            "type": "scatterternary"
           }
          ],
          "surface": [
           {
            "colorbar": {
             "outlinewidth": 0,
             "ticks": ""
            },
            "colorscale": [
             [
              0,
              "#0d0887"
             ],
             [
              0.1111111111111111,
              "#46039f"
             ],
             [
              0.2222222222222222,
              "#7201a8"
             ],
             [
              0.3333333333333333,
              "#9c179e"
             ],
             [
              0.4444444444444444,
              "#bd3786"
             ],
             [
              0.5555555555555556,
              "#d8576b"
             ],
             [
              0.6666666666666666,
              "#ed7953"
             ],
             [
              0.7777777777777778,
              "#fb9f3a"
             ],
             [
              0.8888888888888888,
              "#fdca26"
             ],
             [
              1,
              "#f0f921"
             ]
            ],
            "type": "surface"
           }
          ],
          "table": [
           {
            "cells": {
             "fill": {
              "color": "#EBF0F8"
             },
             "line": {
              "color": "white"
             }
            },
            "header": {
             "fill": {
              "color": "#C8D4E3"
             },
             "line": {
              "color": "white"
             }
            },
            "type": "table"
           }
          ]
         },
         "layout": {
          "annotationdefaults": {
           "arrowcolor": "#2a3f5f",
           "arrowhead": 0,
           "arrowwidth": 1
          },
          "autotypenumbers": "strict",
          "coloraxis": {
           "colorbar": {
            "outlinewidth": 0,
            "ticks": ""
           }
          },
          "colorscale": {
           "diverging": [
            [
             0,
             "#8e0152"
            ],
            [
             0.1,
             "#c51b7d"
            ],
            [
             0.2,
             "#de77ae"
            ],
            [
             0.3,
             "#f1b6da"
            ],
            [
             0.4,
             "#fde0ef"
            ],
            [
             0.5,
             "#f7f7f7"
            ],
            [
             0.6,
             "#e6f5d0"
            ],
            [
             0.7,
             "#b8e186"
            ],
            [
             0.8,
             "#7fbc41"
            ],
            [
             0.9,
             "#4d9221"
            ],
            [
             1,
             "#276419"
            ]
           ],
           "sequential": [
            [
             0,
             "#0d0887"
            ],
            [
             0.1111111111111111,
             "#46039f"
            ],
            [
             0.2222222222222222,
             "#7201a8"
            ],
            [
             0.3333333333333333,
             "#9c179e"
            ],
            [
             0.4444444444444444,
             "#bd3786"
            ],
            [
             0.5555555555555556,
             "#d8576b"
            ],
            [
             0.6666666666666666,
             "#ed7953"
            ],
            [
             0.7777777777777778,
             "#fb9f3a"
            ],
            [
             0.8888888888888888,
             "#fdca26"
            ],
            [
             1,
             "#f0f921"
            ]
           ],
           "sequentialminus": [
            [
             0,
             "#0d0887"
            ],
            [
             0.1111111111111111,
             "#46039f"
            ],
            [
             0.2222222222222222,
             "#7201a8"
            ],
            [
             0.3333333333333333,
             "#9c179e"
            ],
            [
             0.4444444444444444,
             "#bd3786"
            ],
            [
             0.5555555555555556,
             "#d8576b"
            ],
            [
             0.6666666666666666,
             "#ed7953"
            ],
            [
             0.7777777777777778,
             "#fb9f3a"
            ],
            [
             0.8888888888888888,
             "#fdca26"
            ],
            [
             1,
             "#f0f921"
            ]
           ]
          },
          "colorway": [
           "#636efa",
           "#EF553B",
           "#00cc96",
           "#ab63fa",
           "#FFA15A",
           "#19d3f3",
           "#FF6692",
           "#B6E880",
           "#FF97FF",
           "#FECB52"
          ],
          "font": {
           "color": "#2a3f5f"
          },
          "geo": {
           "bgcolor": "white",
           "lakecolor": "white",
           "landcolor": "#E5ECF6",
           "showlakes": true,
           "showland": true,
           "subunitcolor": "white"
          },
          "hoverlabel": {
           "align": "left"
          },
          "hovermode": "closest",
          "mapbox": {
           "style": "light"
          },
          "paper_bgcolor": "white",
          "plot_bgcolor": "#E5ECF6",
          "polar": {
           "angularaxis": {
            "gridcolor": "white",
            "linecolor": "white",
            "ticks": ""
           },
           "bgcolor": "#E5ECF6",
           "radialaxis": {
            "gridcolor": "white",
            "linecolor": "white",
            "ticks": ""
           }
          },
          "scene": {
           "xaxis": {
            "backgroundcolor": "#E5ECF6",
            "gridcolor": "white",
            "gridwidth": 2,
            "linecolor": "white",
            "showbackground": true,
            "ticks": "",
            "zerolinecolor": "white"
           },
           "yaxis": {
            "backgroundcolor": "#E5ECF6",
            "gridcolor": "white",
            "gridwidth": 2,
            "linecolor": "white",
            "showbackground": true,
            "ticks": "",
            "zerolinecolor": "white"
           },
           "zaxis": {
            "backgroundcolor": "#E5ECF6",
            "gridcolor": "white",
            "gridwidth": 2,
            "linecolor": "white",
            "showbackground": true,
            "ticks": "",
            "zerolinecolor": "white"
           }
          },
          "shapedefaults": {
           "line": {
            "color": "#2a3f5f"
           }
          },
          "ternary": {
           "aaxis": {
            "gridcolor": "white",
            "linecolor": "white",
            "ticks": ""
           },
           "baxis": {
            "gridcolor": "white",
            "linecolor": "white",
            "ticks": ""
           },
           "bgcolor": "#E5ECF6",
           "caxis": {
            "gridcolor": "white",
            "linecolor": "white",
            "ticks": ""
           }
          },
          "title": {
           "x": 0.05
          },
          "xaxis": {
           "automargin": true,
           "gridcolor": "white",
           "linecolor": "white",
           "ticks": "",
           "title": {
            "standoff": 15
           },
           "zerolinecolor": "white",
           "zerolinewidth": 2
          },
          "yaxis": {
           "automargin": true,
           "gridcolor": "white",
           "linecolor": "white",
           "ticks": "",
           "title": {
            "standoff": 15
           },
           "zerolinecolor": "white",
           "zerolinewidth": 2
          }
         }
        }
       }
      }
     },
     "metadata": {}
    },
    {
     "output_type": "display_data",
     "data": {
      "application/vnd.plotly.v1+json": {
       "config": {
        "plotlyServerURL": "https://plot.ly"
       },
       "data": [
        {
         "autobinx": false,
         "histnorm": "probability density",
         "legendgroup": "ff",
         "marker": {
          "color": "rgb(31, 119, 180)"
         },
         "name": "ff",
         "opacity": 0.7,
         "type": "histogram",
         "x": [
          1,
          0,
          0,
          0,
          3,
          2,
          9,
          22,
          14,
          10,
          9,
          7,
          8,
          5,
          2,
          0,
          2,
          3,
          0,
          1,
          0,
          1,
          2,
          2,
          1,
          0,
          0,
          0,
          0,
          0
         ],
         "xaxis": "x",
         "xbins": {
          "end": 22,
          "size": 1,
          "start": 0
         },
         "yaxis": "y"
        },
        {
         "legendgroup": "ff",
         "marker": {
          "color": "rgb(31, 119, 180)"
         },
         "mode": "lines",
         "name": "ff",
         "showlegend": false,
         "type": "scatter",
         "x": [
          0,
          0.044,
          0.088,
          0.132,
          0.176,
          0.22,
          0.264,
          0.308,
          0.352,
          0.396,
          0.44,
          0.484,
          0.528,
          0.572,
          0.616,
          0.66,
          0.704,
          0.748,
          0.792,
          0.836,
          0.88,
          0.924,
          0.968,
          1.012,
          1.056,
          1.1,
          1.144,
          1.188,
          1.232,
          1.276,
          1.32,
          1.364,
          1.408,
          1.452,
          1.496,
          1.54,
          1.584,
          1.628,
          1.672,
          1.716,
          1.76,
          1.804,
          1.848,
          1.892,
          1.936,
          1.98,
          2.024,
          2.068,
          2.112,
          2.156,
          2.2,
          2.244,
          2.288,
          2.332,
          2.376,
          2.42,
          2.464,
          2.508,
          2.552,
          2.596,
          2.64,
          2.684,
          2.728,
          2.772,
          2.816,
          2.86,
          2.904,
          2.948,
          2.992,
          3.036,
          3.08,
          3.124,
          3.168,
          3.212,
          3.256,
          3.3,
          3.344,
          3.388,
          3.432,
          3.476,
          3.52,
          3.564,
          3.608,
          3.652,
          3.696,
          3.74,
          3.784,
          3.828,
          3.872,
          3.916,
          3.96,
          4.004,
          4.048,
          4.092,
          4.136,
          4.18,
          4.224,
          4.268,
          4.312,
          4.356,
          4.4,
          4.444,
          4.488,
          4.532,
          4.576,
          4.62,
          4.664,
          4.708,
          4.752,
          4.796,
          4.84,
          4.884,
          4.928,
          4.972,
          5.016,
          5.06,
          5.104,
          5.148,
          5.192,
          5.236,
          5.28,
          5.324,
          5.368,
          5.412,
          5.456,
          5.5,
          5.544,
          5.588,
          5.632,
          5.676,
          5.72,
          5.764,
          5.808,
          5.852,
          5.896,
          5.94,
          5.984,
          6.028,
          6.072,
          6.116,
          6.16,
          6.204,
          6.248,
          6.292,
          6.336,
          6.38,
          6.424,
          6.468,
          6.512,
          6.556,
          6.6,
          6.644,
          6.688,
          6.732,
          6.776,
          6.82,
          6.864,
          6.908,
          6.952,
          6.996,
          7.04,
          7.084,
          7.128,
          7.172,
          7.216,
          7.26,
          7.304,
          7.348,
          7.392,
          7.436,
          7.48,
          7.524,
          7.568,
          7.612,
          7.656,
          7.7,
          7.744,
          7.788,
          7.832,
          7.876,
          7.92,
          7.964,
          8.008,
          8.052,
          8.096,
          8.14,
          8.184,
          8.228,
          8.272,
          8.316,
          8.36,
          8.404,
          8.448,
          8.492,
          8.536,
          8.58,
          8.624,
          8.668,
          8.712,
          8.756,
          8.8,
          8.844,
          8.888,
          8.932,
          8.976,
          9.02,
          9.064,
          9.108,
          9.152,
          9.196,
          9.24,
          9.284,
          9.328,
          9.372,
          9.416,
          9.46,
          9.504,
          9.548,
          9.592,
          9.636,
          9.68,
          9.724,
          9.768,
          9.812,
          9.856,
          9.9,
          9.944,
          9.988,
          10.032,
          10.076,
          10.12,
          10.164,
          10.208,
          10.252,
          10.296,
          10.34,
          10.384,
          10.428,
          10.472,
          10.516,
          10.56,
          10.604,
          10.648,
          10.692,
          10.736,
          10.78,
          10.824,
          10.868,
          10.912,
          10.956,
          11,
          11.044,
          11.088,
          11.132,
          11.176,
          11.22,
          11.264,
          11.308,
          11.352,
          11.396,
          11.44,
          11.484,
          11.528,
          11.572,
          11.616,
          11.66,
          11.704,
          11.748,
          11.792,
          11.836,
          11.88,
          11.924,
          11.968,
          12.012,
          12.056,
          12.1,
          12.144,
          12.188,
          12.232,
          12.276,
          12.32,
          12.364,
          12.408,
          12.452,
          12.496,
          12.54,
          12.584,
          12.628,
          12.672,
          12.716,
          12.76,
          12.804,
          12.848,
          12.892,
          12.936,
          12.98,
          13.024,
          13.068,
          13.112,
          13.156,
          13.2,
          13.244,
          13.288,
          13.332,
          13.376,
          13.42,
          13.464,
          13.508,
          13.552,
          13.596,
          13.64,
          13.684,
          13.728,
          13.772,
          13.816,
          13.86,
          13.904,
          13.948,
          13.992,
          14.036,
          14.08,
          14.124,
          14.168,
          14.212,
          14.256,
          14.3,
          14.344,
          14.388,
          14.432,
          14.476,
          14.52,
          14.564,
          14.608,
          14.652,
          14.696,
          14.74,
          14.784,
          14.828,
          14.872,
          14.916,
          14.96,
          15.004,
          15.048,
          15.092,
          15.136,
          15.18,
          15.224,
          15.268,
          15.312,
          15.356,
          15.4,
          15.444,
          15.488,
          15.532,
          15.576,
          15.62,
          15.664,
          15.708,
          15.752,
          15.796,
          15.84,
          15.884,
          15.928,
          15.972,
          16.016,
          16.06,
          16.104,
          16.148,
          16.192,
          16.236,
          16.28,
          16.324,
          16.368,
          16.412,
          16.456,
          16.5,
          16.544,
          16.588,
          16.632,
          16.676,
          16.72,
          16.764,
          16.808,
          16.852,
          16.896,
          16.94,
          16.984,
          17.028,
          17.072,
          17.116,
          17.16,
          17.204,
          17.248,
          17.292,
          17.336,
          17.38,
          17.424,
          17.468,
          17.512,
          17.556,
          17.6,
          17.644,
          17.688,
          17.732,
          17.776,
          17.82,
          17.864,
          17.908,
          17.952,
          17.996,
          18.04,
          18.084,
          18.128,
          18.172,
          18.216,
          18.26,
          18.304,
          18.348,
          18.392,
          18.436,
          18.48,
          18.524,
          18.568,
          18.612,
          18.656,
          18.7,
          18.744,
          18.788,
          18.832,
          18.876,
          18.92,
          18.964,
          19.008,
          19.052,
          19.096,
          19.14,
          19.184,
          19.228,
          19.272,
          19.316,
          19.36,
          19.404,
          19.448,
          19.492,
          19.536,
          19.58,
          19.624,
          19.668,
          19.712,
          19.756,
          19.8,
          19.844,
          19.888,
          19.932,
          19.976,
          20.02,
          20.064,
          20.108,
          20.152,
          20.196,
          20.24,
          20.284,
          20.328,
          20.372,
          20.416,
          20.46,
          20.504,
          20.548,
          20.592,
          20.636,
          20.68,
          20.724,
          20.768,
          20.812,
          20.856,
          20.9,
          20.944,
          20.988,
          21.032,
          21.076,
          21.12,
          21.164,
          21.208,
          21.252,
          21.296,
          21.34,
          21.384,
          21.428,
          21.472,
          21.516,
          21.56,
          21.604,
          21.648,
          21.692,
          21.736,
          21.78,
          21.824,
          21.868,
          21.912,
          21.956
         ],
         "xaxis": "x",
         "y": [
          0.10068969721981887,
          0.10119117769626909,
          0.10167086276908359,
          0.10212847504091797,
          0.10256375345168492,
          0.10297645357918861,
          0.10336634791950873,
          0.10373322614670104,
          0.10407689535141453,
          0.10439718025806466,
          0.10469392342023592,
          0.10496698539402775,
          0.1052162448890931,
          0.10544159889715991,
          0.10564296279786176,
          0.10582027044174637,
          0.10597347421036574,
          0.10610254505339439,
          0.10620747250275907,
          0.10628826466380333,
          0.10634494818354781,
          0.10637756819614781,
          0.10638618824568451,
          0.10637089018646716,
          0.10633177406105812,
          0.1062689579562697,
          0.10618257783741844,
          0.10607278736115543,
          0.10593975766722748,
          0.10578367714955543,
          0.10560475120704878,
          0.10540320197460738,
          0.10517926803478957,
          0.10493320411065715,
          0.10466528074033346,
          0.10437578393383747,
          0.10406501481278344,
          0.10373328923355837,
          0.10338093739461078,
          0.10300830342850875,
          0.10261574497944088,
          0.10220363276685512,
          0.10177235013594481,
          0.10132229259570866,
          0.10085386734532259,
          0.10036749278957562,
          0.09986359804413203,
          0.0993426224313898,
          0.09880501496771536,
          0.09825123384283821,
          0.09768174589219569,
          0.09709702606301969,
          0.09649755687495896,
          0.09588382787603159,
          0.09525633509470001,
          0.09461558048885862,
          0.09396207139251876,
          0.09329631996097293,
          0.09261884261521007,
          0.09193015948634788,
          0.09123079386083817,
          0.09052127162718991,
          0.0898021207249441,
          0.08907387059662092,
          0.08833705164334581,
          0.08759219468484641,
          0.08683983042449614,
          0.08608048892006351,
          0.08531469906080817,
          0.08454298805154666,
          0.0837658809042913,
          0.08298389993804517,
          0.08219756428731673,
          0.08140738941989427,
          0.08061388666440135,
          0.07981756274812879,
          0.07901891934561985,
          0.07821845263845764,
          0.0774166528866852,
          0.07661400401226029,
          0.0758109831949273,
          0.07500806048086073,
          0.07420569840441342,
          0.07340435162327716,
          0.07260446656733817,
          0.0718064811014881,
          0.0710108242026242,
          0.07021791565105011,
          0.06942816573646474,
          0.06864197497870134,
          0.06785973386335765,
          0.06708182259243319,
          0.06630861085006756,
          0.06554045758345106,
          0.06477771079895686,
          0.06402070737352165,
          0.06326977288128155,
          0.06252522143544809,
          0.06178735554538947,
          0.061056465988862475,
          0.06033283169932048,
          0.05961671966820567,
          0.05890838486211348,
          0.05820807015470197,
          0.05751600627319991,
          0.05683241175935222,
          0.056157492944625235,
          0.05549144393947939,
          0.054834446636502186,
          0.05418667072718067,
          0.05354827373207926,
          0.05291940104417677,
          0.05230018598510367,
          0.051690749874009984,
          0.05109120210878387,
          0.050501640259329454,
          0.049922150172605276,
          0.04935280608911399,
          0.04879367077052695,
          0.04824479563811893,
          0.04770622092168229,
          0.04717797581858226,
          0.046660078662610446,
          0.046152537102286846,
          0.04565534828825765,
          0.04516849906943106,
          0.04469196619748806,
          0.04422571653940637,
          0.04376970729762698,
          0.043323886237496216,
          0.042888191921610204,
          0.04246255395069012,
          0.04204689321061382,
          0.041641122125230204,
          0.0412451449145815,
          0.04085885785816058,
          0.04048214956282848,
          0.040114901235021476,
          0.03975698695687559,
          0.03940827396589984,
          0.0390686229378311,
          0.03873788827230563,
          0.03841591838098455,
          0.03810255597777458,
          0.037797638370787534,
          0.03750099775568537,
          0.03721246151006231,
          0.036931852488518324,
          0.03665898931808312,
          0.03639368669365382,
          0.036135755673114216,
          0.03588500397180783,
          0.03564123625604349,
          0.03540425443531479,
          0.035173857952922404,
          0.034949844074693114,
          0.03473200817549434,
          0.03452014402324981,
          0.034314044060168,
          0.034113499680900335,
          0.0339183015073539,
          0.0337282396598885,
          0.033543104024635756,
          0.03336268451668447,
          0.03318677133888273,
          0.03301515523601588,
          0.03284762774412534,
          0.032683981434741514,
          0.032524010153811574,
          0.03236750925511011,
          0.03221427582792938,
          0.032064108918852995,
          0.03191680974742566,
          0.03177218191553966,
          0.03163003161036702,
          0.03149016780067522,
          0.03135240242637268,
          0.031216550581138907,
          0.031082430688003697,
          0.030949864667748104,
          0.03081867810000948,
          0.030688700376982014,
          0.03055976484961355,
          0.030431708966208625,
          0.030304374403358036,
          0.030177607189123663,
          0.03005125781841799,
          0.02992518136052705,
          0.029799237558735467,
          0.029673290922022054,
          0.029547210808804684,
          0.02942087150272254,
          0.02929415228045427,
          0.02916693747158096,
          0.02903911651051141,
          0.02891058398049924,
          0.02878123964978962,
          0.028650988499943894,
          0.028519740746401262,
          0.028387411851344697,
          0.028253922528949534,
          0.028119198743102532,
          0.027983171697688065,
          0.027845777819548893,
          0.027706958734236824,
          0.027566661234679324,
          0.027424837242895437,
          0.027281443764905343,
          0.027136442838984386,
          0.026989801477422297,
          0.026841491601956487,
          0.026691489973055624,
          0.026539778113237655,
          0.02638634222461478,
          0.0262311731008636,
          0.026074266033827054,
          0.025915620714960043,
          0.025755241131838143,
          0.02559313545995333,
          0.025429315950027974,
          0.025263798811081258,
          0.02509660408948979,
          0.02492775554428556,
          0.024757280518941223,
          0.024585209809894065,
          0.02441157753206499,
          0.024236420981629987,
          0.02405978049630531,
          0.02388169931340822,
          0.023702223425957722,
          0.023521401437079953,
          0.023339284412982896,
          0.02315592573476719,
          0.02297138094933643,
          0.022785707619672118,
          0.022598965174735423,
          0.022411214759256802,
          0.022222519083672062,
          0.022032942274460517,
          0.021842549725137942,
          0.021651407948153605,
          0.021459584427935687,
          0.021267147475325557,
          0.021074166083636995,
          0.02088070978656894,
          0.02068684851819722,
          0.020492652475262794,
          0.020298191981967754,
          0.020103537357483752,
          0.01990875878637043,
          0.019713926192092432,
          0.019519109113818198,
          0.019324376586672083,
          0.01912979702560627,
          0.018935438113047525,
          0.018741366690466135,
          0.01854764865400474,
          0.018354348854295096,
          0.01816153100058165,
          0.01796925756926019,
          0.01777758971693073,
          0.017586587198052922,
          0.017396308287282627,
          0.0172068097065579,
          0.01701814655699189,
          0.01683037225562047,
          0.016643538477041833,
          0.01645769509997463,
          0.016272890158751087,
          0.016089169799752247,
          0.01590657824278035,
          0.01572515774735554,
          0.015544948583912765,
          0.015365989009865254,
          0.015188315250492223,
          0.015011961484597767,
          0.01483695983487987,
          0.01466334036293914,
          0.014491131068847949,
          0.014320357895192933,
          0.014151044735495116,
          0.013983213446904388,
          0.01381688386705766,
          0.013652073834982922,
          0.013488799215924272,
          0.0133270739299572,
          0.013166909984256786,
          0.01300831750887618,
          0.012851304795887437,
          0.012695878341731514,
          0.012542042892620587,
          0.012389801492830858,
          0.012239155535721243,
          0.012090104817309544,
          0.01194264759223512,
          0.011796780631935191,
          0.011652499284858932,
          0.011509797538543112,
          0.01136866808337153,
          0.011229102377839483,
          0.011091090715145085,
          0.010954622290928601,
          0.010819685271982264,
          0.010686266865753457,
          0.010554353390465857,
          0.010423930345684878,
          0.010294982483155721,
          0.010167493877744922,
          0.010041447998319108,
          0.009916827778397962,
          0.009793615686421583,
          0.00967179379547664,
          0.009551343852329378,
          0.009432247345618384,
          0.009314485573064203,
          0.009198039707557976,
          0.009082890861996564,
          0.008969020152736628,
          0.008856408761545713,
          0.00874503799593451,
          0.008634889347759437,
          0.008525944549991967,
          0.008418185631555728,
          0.008311594970140094,
          0.008206155342904345,
          0.008101849974993153,
          0.00799866258579081,
          0.007896577432847848,
          0.0077955793534201555,
          0.0076956538035677004,
          0.007596786894765562,
          0.0074989654279875775,
          0.007402176925228339,
          0.007306409658436152,
          0.007211652675835823,
          0.0071178958256261655,
          0.007025129777043345,
          0.006933346038787144,
          0.006842536974812994,
          0.006752695817498469,
          0.0066638166781983685,
          0.006575894555207978,
          0.006488925339159318,
          0.006402905815880269,
          0.006317833666751209,
          0.006233707466598594,
          0.00615052667916936,
          0.006068291650234178,
          0.005987003598371735,
          0.005906664603490035,
          0.00582727759314437,
          0.005748846326714717,
          0.005671375377509031,
          0.005594870112861215,
          0.005519336672295759,
          0.005444781943833215,
          0.005371213538513099,
          0.005298639763212811,
          0.00522706959184299,
          0.005156512635001183,
          0.005086979108167405,
          0.005018479798526022,
          0.004951026030499517,
          0.004884629630080461,
          0.004819302888048476,
          0.004755058522159577,
          0.004691909638395164,
          0.004629869691358224,
          0.004568952443904032,
          0.004509171926092238,
          0.004450542393546995,
          0.004393078285310811,
          0.0043367941812773834,
          0.004281704759287526,
          0.004227824751971363,
          0.004175168903418831,
          0.004123751925759217,
          0.004073588455729083,
          0.004024693011306601,
          0.003977079948488596,
          0.003930763418285014,
          0.003885757324004029,
          0.003842075278898817,
          0.003799730564245708,
          0.003758736087921102,
          0.0037191043435429163,
          0.0036808473702402244,
          0.0036439767131127856,
          0.003608503384440137,
          0.003574437825697975,
          0.003541789870437285,
          0.0035105687080798265,
          0.0034807828486814406,
          0.003452440088712431,
          0.003425547477902462,
          0.003400111287195065,
          0.003376136977855,
          0.0033536291717695304,
          0.0033325916229826813,
          0.0033130271904995264,
          0.0032949378123955336,
          0.0032783244812640048,
          0.0032631872210326512,
          0.003249525065178474,
          0.003237336036368015,
          0.0032266171275483935,
          0.00321736428451235,
          0.003209572389958899,
          0.003203235249069155,
          0.003198345576615194,
          0.0031948949856178935,
          0.0031928739775679486,
          0.003192271934222442,
          0.0031930771109875914,
          0.003195276631896509,
          0.0031988564861890915,
          0.003203801526499359,
          0.0032100954686538922,
          0.0032177208930831923,
          0.003226659247846169,
          0.0032368908532661137,
          0.0032483949081749093,
          0.0032611494977603963,
          0.003275131603010126,
          0.003290317111743031,
          0.0033066808312187156,
          0.003324196502312398,
          0.003342836815241801,
          0.0033625734268303968,
          0.003383376979289809,
          0.0034052171205023025,
          0.003428062525782499,
          0.003451880921095772,
          0.0034766391077088203,
          0.003502302988246244,
          0.0035288375941251436,
          0.003556207114337767,
          0.003584374925550743,
          0.003613303623487256,
          0.0036429550555570353,
          0.0036732903546970092,
          0.0037042699743837313,
          0.003735853724776997,
          0.003768000809952151,
          0.003800669866176888,
          0.003833819001186676,
          0.003867405834411102,
          0.003901387538101822,
          0.003935720879311186,
          0.003970362262668855,
          0.004005267773902389,
          0.004040393224045938,
          0.004075694194280005,
          0.0041111260813436155,
          0.004146644143459035,
          0.004182203546707677,
          0.004217759411794804,
          0.004253266861139416,
          0.004288681066224625,
          0.004323957295142843,
          0.004359050960269263,
          0.004393917665996224,
          0.004428513256460471,
          0.00446279386319461,
          0.004496715952633645,
          0.004530236373407096,
          0.004563312403346919,
          0.0045959017961413095,
          0.004627962827564435,
          0.004659454341212428,
          0.004690335793675746,
          0.004720567299079067,
          0.004750109672919691,
          0.00477892447513648,
          0.004806974052342105,
          0.00483422157915199,
          0.004860631098544819,
          0.004886167561190176,
          0.004910796863680724,
          0.004934485885607227,
          0.004957202525416798,
          0.004978915734996147,
          0.004999595552923728,
          0.005019213136336242,
          0.0050377407913576935,
          0.005055152002040763,
          0.005071421457773162,
          0.005086525079103652,
          0.005100440041945426,
          0.0051131448001167975,
          0.005124619106182287,
          0.005134844030559878,
          0.005143801978863206,
          0.005151476707450553,
          0.005157853337155638,
          0.005162918365178343,
          0.005166659675116719,
          0.005169066545125203,
          0.005170129654186977,
          0.005169841086491974
         ],
         "yaxis": "y"
        },
        {
         "legendgroup": "ff",
         "marker": {
          "color": "rgb(31, 119, 180)",
          "symbol": "line-ns-open"
         },
         "mode": "markers",
         "name": "ff",
         "showlegend": false,
         "type": "scatter",
         "x": [
          1,
          0,
          0,
          0,
          3,
          2,
          9,
          22,
          14,
          10,
          9,
          7,
          8,
          5,
          2,
          0,
          2,
          3,
          0,
          1,
          0,
          1,
          2,
          2,
          1,
          0,
          0,
          0,
          0,
          0
         ],
         "xaxis": "x",
         "y": [
          "ff",
          "ff",
          "ff",
          "ff",
          "ff",
          "ff",
          "ff",
          "ff",
          "ff",
          "ff",
          "ff",
          "ff",
          "ff",
          "ff",
          "ff",
          "ff",
          "ff",
          "ff",
          "ff",
          "ff",
          "ff",
          "ff",
          "ff",
          "ff",
          "ff",
          "ff",
          "ff",
          "ff",
          "ff",
          "ff"
         ],
         "yaxis": "y2"
        }
       ],
       "layout": {
        "barmode": "overlay",
        "hovermode": "closest",
        "legend": {
         "traceorder": "reversed"
        },
        "template": {
         "data": {
          "bar": [
           {
            "error_x": {
             "color": "#2a3f5f"
            },
            "error_y": {
             "color": "#2a3f5f"
            },
            "marker": {
             "line": {
              "color": "#E5ECF6",
              "width": 0.5
             },
             "pattern": {
              "fillmode": "overlay",
              "size": 10,
              "solidity": 0.2
             }
            },
            "type": "bar"
           }
          ],
          "barpolar": [
           {
            "marker": {
             "line": {
              "color": "#E5ECF6",
              "width": 0.5
             },
             "pattern": {
              "fillmode": "overlay",
              "size": 10,
              "solidity": 0.2
             }
            },
            "type": "barpolar"
           }
          ],
          "carpet": [
           {
            "aaxis": {
             "endlinecolor": "#2a3f5f",
             "gridcolor": "white",
             "linecolor": "white",
             "minorgridcolor": "white",
             "startlinecolor": "#2a3f5f"
            },
            "baxis": {
             "endlinecolor": "#2a3f5f",
             "gridcolor": "white",
             "linecolor": "white",
             "minorgridcolor": "white",
             "startlinecolor": "#2a3f5f"
            },
            "type": "carpet"
           }
          ],
          "choropleth": [
           {
            "colorbar": {
             "outlinewidth": 0,
             "ticks": ""
            },
            "type": "choropleth"
           }
          ],
          "contour": [
           {
            "colorbar": {
             "outlinewidth": 0,
             "ticks": ""
            },
            "colorscale": [
             [
              0,
              "#0d0887"
             ],
             [
              0.1111111111111111,
              "#46039f"
             ],
             [
              0.2222222222222222,
              "#7201a8"
             ],
             [
              0.3333333333333333,
              "#9c179e"
             ],
             [
              0.4444444444444444,
              "#bd3786"
             ],
             [
              0.5555555555555556,
              "#d8576b"
             ],
             [
              0.6666666666666666,
              "#ed7953"
             ],
             [
              0.7777777777777778,
              "#fb9f3a"
             ],
             [
              0.8888888888888888,
              "#fdca26"
             ],
             [
              1,
              "#f0f921"
             ]
            ],
            "type": "contour"
           }
          ],
          "contourcarpet": [
           {
            "colorbar": {
             "outlinewidth": 0,
             "ticks": ""
            },
            "type": "contourcarpet"
           }
          ],
          "heatmap": [
           {
            "colorbar": {
             "outlinewidth": 0,
             "ticks": ""
            },
            "colorscale": [
             [
              0,
              "#0d0887"
             ],
             [
              0.1111111111111111,
              "#46039f"
             ],
             [
              0.2222222222222222,
              "#7201a8"
             ],
             [
              0.3333333333333333,
              "#9c179e"
             ],
             [
              0.4444444444444444,
              "#bd3786"
             ],
             [
              0.5555555555555556,
              "#d8576b"
             ],
             [
              0.6666666666666666,
              "#ed7953"
             ],
             [
              0.7777777777777778,
              "#fb9f3a"
             ],
             [
              0.8888888888888888,
              "#fdca26"
             ],
             [
              1,
              "#f0f921"
             ]
            ],
            "type": "heatmap"
           }
          ],
          "heatmapgl": [
           {
            "colorbar": {
             "outlinewidth": 0,
             "ticks": ""
            },
            "colorscale": [
             [
              0,
              "#0d0887"
             ],
             [
              0.1111111111111111,
              "#46039f"
             ],
             [
              0.2222222222222222,
              "#7201a8"
             ],
             [
              0.3333333333333333,
              "#9c179e"
             ],
             [
              0.4444444444444444,
              "#bd3786"
             ],
             [
              0.5555555555555556,
              "#d8576b"
             ],
             [
              0.6666666666666666,
              "#ed7953"
             ],
             [
              0.7777777777777778,
              "#fb9f3a"
             ],
             [
              0.8888888888888888,
              "#fdca26"
             ],
             [
              1,
              "#f0f921"
             ]
            ],
            "type": "heatmapgl"
           }
          ],
          "histogram": [
           {
            "marker": {
             "pattern": {
              "fillmode": "overlay",
              "size": 10,
              "solidity": 0.2
             }
            },
            "type": "histogram"
           }
          ],
          "histogram2d": [
           {
            "colorbar": {
             "outlinewidth": 0,
             "ticks": ""
            },
            "colorscale": [
             [
              0,
              "#0d0887"
             ],
             [
              0.1111111111111111,
              "#46039f"
             ],
             [
              0.2222222222222222,
              "#7201a8"
             ],
             [
              0.3333333333333333,
              "#9c179e"
             ],
             [
              0.4444444444444444,
              "#bd3786"
             ],
             [
              0.5555555555555556,
              "#d8576b"
             ],
             [
              0.6666666666666666,
              "#ed7953"
             ],
             [
              0.7777777777777778,
              "#fb9f3a"
             ],
             [
              0.8888888888888888,
              "#fdca26"
             ],
             [
              1,
              "#f0f921"
             ]
            ],
            "type": "histogram2d"
           }
          ],
          "histogram2dcontour": [
           {
            "colorbar": {
             "outlinewidth": 0,
             "ticks": ""
            },
            "colorscale": [
             [
              0,
              "#0d0887"
             ],
             [
              0.1111111111111111,
              "#46039f"
             ],
             [
              0.2222222222222222,
              "#7201a8"
             ],
             [
              0.3333333333333333,
              "#9c179e"
             ],
             [
              0.4444444444444444,
              "#bd3786"
             ],
             [
              0.5555555555555556,
              "#d8576b"
             ],
             [
              0.6666666666666666,
              "#ed7953"
             ],
             [
              0.7777777777777778,
              "#fb9f3a"
             ],
             [
              0.8888888888888888,
              "#fdca26"
             ],
             [
              1,
              "#f0f921"
             ]
            ],
            "type": "histogram2dcontour"
           }
          ],
          "mesh3d": [
           {
            "colorbar": {
             "outlinewidth": 0,
             "ticks": ""
            },
            "type": "mesh3d"
           }
          ],
          "parcoords": [
           {
            "line": {
             "colorbar": {
              "outlinewidth": 0,
              "ticks": ""
             }
            },
            "type": "parcoords"
           }
          ],
          "pie": [
           {
            "automargin": true,
            "type": "pie"
           }
          ],
          "scatter": [
           {
            "marker": {
             "colorbar": {
              "outlinewidth": 0,
              "ticks": ""
             }
            },
            "type": "scatter"
           }
          ],
          "scatter3d": [
           {
            "line": {
             "colorbar": {
              "outlinewidth": 0,
              "ticks": ""
             }
            },
            "marker": {
             "colorbar": {
              "outlinewidth": 0,
              "ticks": ""
             }
            },
            "type": "scatter3d"
           }
          ],
          "scattercarpet": [
           {
            "marker": {
             "colorbar": {
              "outlinewidth": 0,
              "ticks": ""
             }
            },
            "type": "scattercarpet"
           }
          ],
          "scattergeo": [
           {
            "marker": {
             "colorbar": {
              "outlinewidth": 0,
              "ticks": ""
             }
            },
            "type": "scattergeo"
           }
          ],
          "scattergl": [
           {
            "marker": {
             "colorbar": {
              "outlinewidth": 0,
              "ticks": ""
             }
            },
            "type": "scattergl"
           }
          ],
          "scattermapbox": [
           {
            "marker": {
             "colorbar": {
              "outlinewidth": 0,
              "ticks": ""
             }
            },
            "type": "scattermapbox"
           }
          ],
          "scatterpolar": [
           {
            "marker": {
             "colorbar": {
              "outlinewidth": 0,
              "ticks": ""
             }
            },
            "type": "scatterpolar"
           }
          ],
          "scatterpolargl": [
           {
            "marker": {
             "colorbar": {
              "outlinewidth": 0,
              "ticks": ""
             }
            },
            "type": "scatterpolargl"
           }
          ],
          "scatterternary": [
           {
            "marker": {
             "colorbar": {
              "outlinewidth": 0,
              "ticks": ""
             }
            },
            "type": "scatterternary"
           }
          ],
          "surface": [
           {
            "colorbar": {
             "outlinewidth": 0,
             "ticks": ""
            },
            "colorscale": [
             [
              0,
              "#0d0887"
             ],
             [
              0.1111111111111111,
              "#46039f"
             ],
             [
              0.2222222222222222,
              "#7201a8"
             ],
             [
              0.3333333333333333,
              "#9c179e"
             ],
             [
              0.4444444444444444,
              "#bd3786"
             ],
             [
              0.5555555555555556,
              "#d8576b"
             ],
             [
              0.6666666666666666,
              "#ed7953"
             ],
             [
              0.7777777777777778,
              "#fb9f3a"
             ],
             [
              0.8888888888888888,
              "#fdca26"
             ],
             [
              1,
              "#f0f921"
             ]
            ],
            "type": "surface"
           }
          ],
          "table": [
           {
            "cells": {
             "fill": {
              "color": "#EBF0F8"
             },
             "line": {
              "color": "white"
             }
            },
            "header": {
             "fill": {
              "color": "#C8D4E3"
             },
             "line": {
              "color": "white"
             }
            },
            "type": "table"
           }
          ]
         },
         "layout": {
          "annotationdefaults": {
           "arrowcolor": "#2a3f5f",
           "arrowhead": 0,
           "arrowwidth": 1
          },
          "autotypenumbers": "strict",
          "coloraxis": {
           "colorbar": {
            "outlinewidth": 0,
            "ticks": ""
           }
          },
          "colorscale": {
           "diverging": [
            [
             0,
             "#8e0152"
            ],
            [
             0.1,
             "#c51b7d"
            ],
            [
             0.2,
             "#de77ae"
            ],
            [
             0.3,
             "#f1b6da"
            ],
            [
             0.4,
             "#fde0ef"
            ],
            [
             0.5,
             "#f7f7f7"
            ],
            [
             0.6,
             "#e6f5d0"
            ],
            [
             0.7,
             "#b8e186"
            ],
            [
             0.8,
             "#7fbc41"
            ],
            [
             0.9,
             "#4d9221"
            ],
            [
             1,
             "#276419"
            ]
           ],
           "sequential": [
            [
             0,
             "#0d0887"
            ],
            [
             0.1111111111111111,
             "#46039f"
            ],
            [
             0.2222222222222222,
             "#7201a8"
            ],
            [
             0.3333333333333333,
             "#9c179e"
            ],
            [
             0.4444444444444444,
             "#bd3786"
            ],
            [
             0.5555555555555556,
             "#d8576b"
            ],
            [
             0.6666666666666666,
             "#ed7953"
            ],
            [
             0.7777777777777778,
             "#fb9f3a"
            ],
            [
             0.8888888888888888,
             "#fdca26"
            ],
            [
             1,
             "#f0f921"
            ]
           ],
           "sequentialminus": [
            [
             0,
             "#0d0887"
            ],
            [
             0.1111111111111111,
             "#46039f"
            ],
            [
             0.2222222222222222,
             "#7201a8"
            ],
            [
             0.3333333333333333,
             "#9c179e"
            ],
            [
             0.4444444444444444,
             "#bd3786"
            ],
            [
             0.5555555555555556,
             "#d8576b"
            ],
            [
             0.6666666666666666,
             "#ed7953"
            ],
            [
             0.7777777777777778,
             "#fb9f3a"
            ],
            [
             0.8888888888888888,
             "#fdca26"
            ],
            [
             1,
             "#f0f921"
            ]
           ]
          },
          "colorway": [
           "#636efa",
           "#EF553B",
           "#00cc96",
           "#ab63fa",
           "#FFA15A",
           "#19d3f3",
           "#FF6692",
           "#B6E880",
           "#FF97FF",
           "#FECB52"
          ],
          "font": {
           "color": "#2a3f5f"
          },
          "geo": {
           "bgcolor": "white",
           "lakecolor": "white",
           "landcolor": "#E5ECF6",
           "showlakes": true,
           "showland": true,
           "subunitcolor": "white"
          },
          "hoverlabel": {
           "align": "left"
          },
          "hovermode": "closest",
          "mapbox": {
           "style": "light"
          },
          "paper_bgcolor": "white",
          "plot_bgcolor": "#E5ECF6",
          "polar": {
           "angularaxis": {
            "gridcolor": "white",
            "linecolor": "white",
            "ticks": ""
           },
           "bgcolor": "#E5ECF6",
           "radialaxis": {
            "gridcolor": "white",
            "linecolor": "white",
            "ticks": ""
           }
          },
          "scene": {
           "xaxis": {
            "backgroundcolor": "#E5ECF6",
            "gridcolor": "white",
            "gridwidth": 2,
            "linecolor": "white",
            "showbackground": true,
            "ticks": "",
            "zerolinecolor": "white"
           },
           "yaxis": {
            "backgroundcolor": "#E5ECF6",
            "gridcolor": "white",
            "gridwidth": 2,
            "linecolor": "white",
            "showbackground": true,
            "ticks": "",
            "zerolinecolor": "white"
           },
           "zaxis": {
            "backgroundcolor": "#E5ECF6",
            "gridcolor": "white",
            "gridwidth": 2,
            "linecolor": "white",
            "showbackground": true,
            "ticks": "",
            "zerolinecolor": "white"
           }
          },
          "shapedefaults": {
           "line": {
            "color": "#2a3f5f"
           }
          },
          "ternary": {
           "aaxis": {
            "gridcolor": "white",
            "linecolor": "white",
            "ticks": ""
           },
           "baxis": {
            "gridcolor": "white",
            "linecolor": "white",
            "ticks": ""
           },
           "bgcolor": "#E5ECF6",
           "caxis": {
            "gridcolor": "white",
            "linecolor": "white",
            "ticks": ""
           }
          },
          "title": {
           "x": 0.05
          },
          "xaxis": {
           "automargin": true,
           "gridcolor": "white",
           "linecolor": "white",
           "ticks": "",
           "title": {
            "standoff": 15
           },
           "zerolinecolor": "white",
           "zerolinewidth": 2
          },
          "yaxis": {
           "automargin": true,
           "gridcolor": "white",
           "linecolor": "white",
           "ticks": "",
           "title": {
            "standoff": 15
           },
           "zerolinecolor": "white",
           "zerolinewidth": 2
          }
         }
        },
        "xaxis": {
         "anchor": "y2",
         "domain": [
          0,
          1
         ],
         "zeroline": false
        },
        "yaxis": {
         "anchor": "free",
         "domain": [
          0.35,
          1
         ],
         "position": 0
        },
        "yaxis2": {
         "anchor": "x",
         "domain": [
          0,
          0.25
         ],
         "dtick": 1,
         "showticklabels": false
        }
       }
      }
     },
     "metadata": {}
    }
   ],
   "metadata": {}
  }
 ],
 "metadata": {
  "orig_nbformat": 4,
  "language_info": {
   "name": "python",
   "version": "3.8.2",
   "mimetype": "text/x-python",
   "codemirror_mode": {
    "name": "ipython",
    "version": 3
   },
   "pygments_lexer": "ipython3",
   "nbconvert_exporter": "python",
   "file_extension": ".py"
  },
  "kernelspec": {
   "name": "python3",
   "display_name": "Python 3.8.2 64-bit ('3.8.2': pyenv)"
  },
  "interpreter": {
   "hash": "2f1c65698bd2b1cc41367e3f8020aac33a4c0df3656df64ba7460dd9a4602931"
  }
 },
 "nbformat": 4,
 "nbformat_minor": 2
}